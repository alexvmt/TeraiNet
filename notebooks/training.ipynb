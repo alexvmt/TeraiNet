{
 "cells": [
  {
   "cell_type": "markdown",
   "id": "da6d6ea3",
   "metadata": {
    "id": "0goBcwsXEl7q",
    "papermill": {
     "duration": 0.005025,
     "end_time": "2024-12-06T08:56:36.637890",
     "exception": false,
     "start_time": "2024-12-06T08:56:36.632865",
     "status": "completed"
    },
    "tags": []
   },
   "source": [
    "# Training"
   ]
  },
  {
   "cell_type": "markdown",
   "id": "19d85f68",
   "metadata": {
    "id": "_AciCyGkEpkC",
    "papermill": {
     "duration": 0.00521,
     "end_time": "2024-12-06T08:56:36.647399",
     "exception": false,
     "start_time": "2024-12-06T08:56:36.642189",
     "status": "completed"
    },
    "tags": []
   },
   "source": [
    "## Setup"
   ]
  },
  {
   "cell_type": "code",
   "execution_count": 1,
   "id": "17fb884f",
   "metadata": {
    "execution": {
     "iopub.execute_input": "2024-12-06T08:56:36.657066Z",
     "iopub.status.busy": "2024-12-06T08:56:36.656813Z",
     "iopub.status.idle": "2024-12-06T08:56:47.767183Z",
     "shell.execute_reply": "2024-12-06T08:56:47.766321Z"
    },
    "id": "KVoOmsrBExwK",
    "outputId": "266204f1-044a-49f4-cf32-5ce95a872f9b",
    "papermill": {
     "duration": 11.117739,
     "end_time": "2024-12-06T08:56:47.769238",
     "exception": false,
     "start_time": "2024-12-06T08:56:36.651499",
     "status": "completed"
    },
    "tags": []
   },
   "outputs": [
    {
     "name": "stdout",
     "output_type": "stream",
     "text": [
      "Requirement already satisfied: keras in /opt/conda/lib/python3.10/site-packages (3.3.3)\r\n",
      "Collecting keras\r\n",
      "  Downloading keras-3.7.0-py3-none-any.whl.metadata (5.8 kB)\r\n",
      "Collecting kimm\r\n",
      "  Downloading kimm-0.2.5-py3-none-any.whl.metadata (12 kB)\r\n",
      "Requirement already satisfied: absl-py in /opt/conda/lib/python3.10/site-packages (from keras) (1.4.0)\r\n",
      "Requirement already satisfied: numpy in /opt/conda/lib/python3.10/site-packages (from keras) (1.26.4)\r\n",
      "Requirement already satisfied: rich in /opt/conda/lib/python3.10/site-packages (from keras) (13.7.1)\r\n",
      "Requirement already satisfied: namex in /opt/conda/lib/python3.10/site-packages (from keras) (0.0.8)\r\n",
      "Requirement already satisfied: h5py in /opt/conda/lib/python3.10/site-packages (from keras) (3.11.0)\r\n",
      "Requirement already satisfied: optree in /opt/conda/lib/python3.10/site-packages (from keras) (0.11.0)\r\n",
      "Requirement already satisfied: ml-dtypes in /opt/conda/lib/python3.10/site-packages (from keras) (0.3.2)\r\n",
      "Requirement already satisfied: packaging in /opt/conda/lib/python3.10/site-packages (from keras) (21.3)\r\n",
      "Requirement already satisfied: typing-extensions>=4.0.0 in /opt/conda/lib/python3.10/site-packages (from optree->keras) (4.12.2)\r\n",
      "Requirement already satisfied: pyparsing!=3.0.5,>=2.0.2 in /opt/conda/lib/python3.10/site-packages (from packaging->keras) (3.1.2)\r\n",
      "Requirement already satisfied: markdown-it-py>=2.2.0 in /opt/conda/lib/python3.10/site-packages (from rich->keras) (3.0.0)\r\n",
      "Requirement already satisfied: pygments<3.0.0,>=2.13.0 in /opt/conda/lib/python3.10/site-packages (from rich->keras) (2.18.0)\r\n",
      "Requirement already satisfied: mdurl~=0.1 in /opt/conda/lib/python3.10/site-packages (from markdown-it-py>=2.2.0->rich->keras) (0.1.2)\r\n",
      "Downloading keras-3.7.0-py3-none-any.whl (1.2 MB)\r\n",
      "\u001b[2K   \u001b[90m━━━━━━━━━━━━━━━━━━━━━━━━━━━━━━━━━━━━━━━━\u001b[0m \u001b[32m1.2/1.2 MB\u001b[0m \u001b[31m18.7 MB/s\u001b[0m eta \u001b[36m0:00:00\u001b[0m\r\n",
      "\u001b[?25hDownloading kimm-0.2.5-py3-none-any.whl (123 kB)\r\n",
      "\u001b[2K   \u001b[90m━━━━━━━━━━━━━━━━━━━━━━━━━━━━━━━━━━━━━━━━\u001b[0m \u001b[32m123.4/123.4 kB\u001b[0m \u001b[31m8.1 MB/s\u001b[0m eta \u001b[36m0:00:00\u001b[0m\r\n",
      "\u001b[?25hInstalling collected packages: keras, kimm\r\n",
      "  Attempting uninstall: keras\r\n",
      "    Found existing installation: keras 3.3.3\r\n",
      "    Uninstalling keras-3.3.3:\r\n",
      "      Successfully uninstalled keras-3.3.3\r\n",
      "Successfully installed keras-3.7.0 kimm-0.2.5\r\n"
     ]
    }
   ],
   "source": [
    "!pip install keras kimm -U"
   ]
  },
  {
   "cell_type": "code",
   "execution_count": 2,
   "id": "05c2249b",
   "metadata": {
    "execution": {
     "iopub.execute_input": "2024-12-06T08:56:47.781301Z",
     "iopub.status.busy": "2024-12-06T08:56:47.780971Z",
     "iopub.status.idle": "2024-12-06T08:56:47.787350Z",
     "shell.execute_reply": "2024-12-06T08:56:47.786457Z"
    },
    "papermill": {
     "duration": 0.01416,
     "end_time": "2024-12-06T08:56:47.788981",
     "exception": false,
     "start_time": "2024-12-06T08:56:47.774821",
     "status": "completed"
    },
    "tags": []
   },
   "outputs": [
    {
     "name": "stdout",
     "output_type": "stream",
     "text": [
      "/\n"
     ]
    }
   ],
   "source": [
    "%cd ../../"
   ]
  },
  {
   "cell_type": "code",
   "execution_count": 3,
   "id": "a0267cfb",
   "metadata": {
    "execution": {
     "iopub.execute_input": "2024-12-06T08:56:47.799946Z",
     "iopub.status.busy": "2024-12-06T08:56:47.799693Z",
     "iopub.status.idle": "2024-12-06T08:56:50.839503Z",
     "shell.execute_reply": "2024-12-06T08:56:50.838287Z"
    },
    "id": "4bedI2X2QDdf",
    "papermill": {
     "duration": 3.047748,
     "end_time": "2024-12-06T08:56:50.841737",
     "exception": false,
     "start_time": "2024-12-06T08:56:47.793989",
     "status": "completed"
    },
    "tags": []
   },
   "outputs": [],
   "source": [
    "# set seed\n",
    "seed = 42\n",
    "\n",
    "# set n train and test images\n",
    "n_train_images = 4000\n",
    "n_test_images = 300\n",
    "\n",
    "# set batch size\n",
    "batch_size = 16\n",
    "\n",
    "# set num classes\n",
    "num_classes = 5\n",
    "\n",
    "# set class names\n",
    "class_names = ['tiger', 'lynx', 'bear', 'deer', 'bird']\n",
    "\n",
    "# define paths to train and test images\n",
    "images_input_dir = 'kaggle/input/preprocess-images/images'\n",
    "images_sampled_dir = 'images'\n",
    "!mkdir -p \"$images_sampled_dir\"\n",
    "train_dir = images_input_dir + '/train'\n",
    "train_dir_sampled = images_sampled_dir + '/train_sampled'\n",
    "test_dir = images_input_dir + '/test'\n",
    "test_dir_sampled = images_sampled_dir + '/test_sampled'\n",
    "test2_dir = images_input_dir + '/test2'\n",
    "\n",
    "# define path to model dir\n",
    "model_dir = 'kaggle/working/model'\n",
    "!mkdir -p \"$model_dir\"\n",
    "model_path = model_dir + '/model.keras'\n",
    "\n",
    "# define path to media dir\n",
    "media_dir = 'kaggle/working/media'\n",
    "!mkdir -p \"$media_dir\""
   ]
  },
  {
   "cell_type": "code",
   "execution_count": 4,
   "id": "e56e2b34",
   "metadata": {
    "execution": {
     "iopub.execute_input": "2024-12-06T08:56:50.854164Z",
     "iopub.status.busy": "2024-12-06T08:56:50.853394Z",
     "iopub.status.idle": "2024-12-06T08:57:03.237588Z",
     "shell.execute_reply": "2024-12-06T08:57:03.236884Z"
    },
    "id": "WNSWKPrzEzy_",
    "papermill": {
     "duration": 12.392282,
     "end_time": "2024-12-06T08:57:03.239445",
     "exception": false,
     "start_time": "2024-12-06T08:56:50.847163",
     "status": "completed"
    },
    "tags": []
   },
   "outputs": [],
   "source": [
    "import os\n",
    "import random\n",
    "import shutil\n",
    "import numpy as np\n",
    "\n",
    "import keras\n",
    "from keras import layers, optimizers, losses, callbacks, saving\n",
    "import kimm\n",
    "import tensorflow as tf\n",
    "import tensorflow_datasets as tfds\n",
    "from sklearn.metrics import confusion_matrix, classification_report\n",
    "\n",
    "import matplotlib.pyplot as plt\n",
    "import seaborn as sns"
   ]
  },
  {
   "cell_type": "code",
   "execution_count": 5,
   "id": "e605b98d",
   "metadata": {
    "execution": {
     "iopub.execute_input": "2024-12-06T08:57:03.257050Z",
     "iopub.status.busy": "2024-12-06T08:57:03.255989Z",
     "iopub.status.idle": "2024-12-06T08:57:03.263657Z",
     "shell.execute_reply": "2024-12-06T08:57:03.262845Z"
    },
    "id": "RjGj2LDNR15z",
    "papermill": {
     "duration": 0.015588,
     "end_time": "2024-12-06T08:57:03.265237",
     "exception": false,
     "start_time": "2024-12-06T08:57:03.249649",
     "status": "completed"
    },
    "tags": []
   },
   "outputs": [],
   "source": [
    "def sample_images(source_dir, target_dir, samples_per_class, seed=42):\n",
    "    \"\"\"\n",
    "    Samples a fixed number of images per class from a directory structure.\n",
    "\n",
    "    Args:\n",
    "        source_dir (str): Path to the source dataset directory.\n",
    "        target_dir (str): Path to the target dataset directory to store sampled data.\n",
    "        samples_per_class (int): Number of images to sample per class.\n",
    "        seed (int): Random seed for reproducibility.\n",
    "    \"\"\"\n",
    "    random.seed(seed)\n",
    "\n",
    "    if not os.path.exists(target_dir):\n",
    "        os.makedirs(target_dir)\n",
    "\n",
    "    for class_name in os.listdir(source_dir):\n",
    "        class_path = os.path.join(source_dir, class_name)\n",
    "        if os.path.isdir(class_path):\n",
    "            sampled_class_dir = os.path.join(target_dir, class_name)\n",
    "            os.makedirs(sampled_class_dir, exist_ok=True)\n",
    "\n",
    "            # list and shuffle all files in class directory\n",
    "            all_images = os.listdir(class_path)\n",
    "            random.shuffle(all_images)\n",
    "\n",
    "            # select desired number of samples\n",
    "            sampled_images = all_images[:samples_per_class]\n",
    "\n",
    "            # copy sampled images to new directory\n",
    "            for image_name in sampled_images:\n",
    "                source_image_path = os.path.join(class_path, image_name)\n",
    "                target_image_path = os.path.join(sampled_class_dir, image_name)\n",
    "                shutil.copy(source_image_path, target_image_path)"
   ]
  },
  {
   "cell_type": "markdown",
   "id": "d751868f",
   "metadata": {
    "id": "o-oFY9SuE8dT",
    "papermill": {
     "duration": 0.004667,
     "end_time": "2024-12-06T08:57:03.275143",
     "exception": false,
     "start_time": "2024-12-06T08:57:03.270476",
     "status": "completed"
    },
    "tags": []
   },
   "source": [
    "## Prepare train and test datasets"
   ]
  },
  {
   "cell_type": "code",
   "execution_count": 6,
   "id": "ea6b65d4",
   "metadata": {
    "execution": {
     "iopub.execute_input": "2024-12-06T08:57:03.286957Z",
     "iopub.status.busy": "2024-12-06T08:57:03.286733Z",
     "iopub.status.idle": "2024-12-06T08:58:37.034244Z",
     "shell.execute_reply": "2024-12-06T08:58:37.033264Z"
    },
    "id": "KewO2flaRgLu",
    "papermill": {
     "duration": 93.756347,
     "end_time": "2024-12-06T08:58:37.036558",
     "exception": false,
     "start_time": "2024-12-06T08:57:03.280211",
     "status": "completed"
    },
    "tags": []
   },
   "outputs": [],
   "source": [
    "# create new directory with sampled train images\n",
    "sample_images(train_dir, train_dir_sampled, n_train_images)"
   ]
  },
  {
   "cell_type": "code",
   "execution_count": 7,
   "id": "c476465d",
   "metadata": {
    "execution": {
     "iopub.execute_input": "2024-12-06T08:58:37.048288Z",
     "iopub.status.busy": "2024-12-06T08:58:37.048035Z",
     "iopub.status.idle": "2024-12-06T08:58:44.131438Z",
     "shell.execute_reply": "2024-12-06T08:58:44.130706Z"
    },
    "id": "feQggHlSWEh4",
    "papermill": {
     "duration": 7.091218,
     "end_time": "2024-12-06T08:58:44.133272",
     "exception": false,
     "start_time": "2024-12-06T08:58:37.042054",
     "status": "completed"
    },
    "tags": []
   },
   "outputs": [],
   "source": [
    "# create new directory with sampled test images\n",
    "sample_images(test_dir, test_dir_sampled, n_test_images)"
   ]
  },
  {
   "cell_type": "code",
   "execution_count": 8,
   "id": "ad6dde35",
   "metadata": {
    "execution": {
     "iopub.execute_input": "2024-12-06T08:58:44.145116Z",
     "iopub.status.busy": "2024-12-06T08:58:44.144824Z",
     "iopub.status.idle": "2024-12-06T08:58:48.516087Z",
     "shell.execute_reply": "2024-12-06T08:58:48.515108Z"
    },
    "id": "J5i-u-VSE74K",
    "outputId": "cda0d93f-4445-41f3-bb1b-5b1942d838b6",
    "papermill": {
     "duration": 4.378968,
     "end_time": "2024-12-06T08:58:48.517825",
     "exception": false,
     "start_time": "2024-12-06T08:58:44.138857",
     "status": "completed"
    },
    "tags": []
   },
   "outputs": [
    {
     "name": "stdout",
     "output_type": "stream",
     "text": [
      "Found 20000 files belonging to 5 classes.\n",
      "Found 1500 files belonging to 5 classes.\n",
      "Found 303 files belonging to 1 classes.\n",
      "Number of train samples: -2\n",
      "Number of test samples: -2\n"
     ]
    }
   ],
   "source": [
    "# create train dataset\n",
    "train_ds = tf.keras.preprocessing.image_dataset_from_directory(\n",
    "    train_dir_sampled,\n",
    "    label_mode='categorical',\n",
    "    shuffle=True,\n",
    "    seed=seed,\n",
    ")\n",
    "\n",
    "# create test dataset\n",
    "test_ds = tf.keras.preprocessing.image_dataset_from_directory(\n",
    "    test_dir_sampled,\n",
    "    label_mode='categorical',\n",
    "    shuffle=False,\n",
    ")\n",
    "\n",
    "# create test2 dataset\n",
    "test2_ds = tf.keras.preprocessing.image_dataset_from_directory(\n",
    "    test2_dir,\n",
    "    label_mode='categorical',\n",
    "    shuffle=False,\n",
    ")\n",
    "\n",
    "# we need to unbatch because there's somehow an unwanted additional dimension\n",
    "train_ds = train_ds.unbatch()\n",
    "test_ds = test_ds.unbatch()\n",
    "test2_ds = test2_ds.unbatch()\n",
    "\n",
    "print(f'Number of train samples: {train_ds.cardinality()}')\n",
    "print(f'Number of test samples: {test_ds.cardinality()}')"
   ]
  },
  {
   "cell_type": "code",
   "execution_count": 9,
   "id": "f78f648a",
   "metadata": {
    "execution": {
     "iopub.execute_input": "2024-12-06T08:58:48.529705Z",
     "iopub.status.busy": "2024-12-06T08:58:48.529402Z",
     "iopub.status.idle": "2024-12-06T08:58:48.533616Z",
     "shell.execute_reply": "2024-12-06T08:58:48.532839Z"
    },
    "id": "myqLQZuqFZkx",
    "outputId": "1636afdc-4dcd-4ad9-9041-bedfc196f415",
    "papermill": {
     "duration": 0.012125,
     "end_time": "2024-12-06T08:58:48.535260",
     "exception": false,
     "start_time": "2024-12-06T08:58:48.523135",
     "status": "completed"
    },
    "tags": []
   },
   "outputs": [
    {
     "name": "stdout",
     "output_type": "stream",
     "text": [
      "(TensorSpec(shape=(256, 256, 3), dtype=tf.float32, name=None), TensorSpec(shape=(5,), dtype=tf.float32, name=None)) (TensorSpec(shape=(256, 256, 3), dtype=tf.float32, name=None), TensorSpec(shape=(5,), dtype=tf.float32, name=None))\n"
     ]
    }
   ],
   "source": [
    "# check dimensions\n",
    "print(train_ds.element_spec, test_ds.element_spec)"
   ]
  },
  {
   "cell_type": "code",
   "execution_count": 10,
   "id": "9b5bfd9d",
   "metadata": {
    "execution": {
     "iopub.execute_input": "2024-12-06T08:58:48.547558Z",
     "iopub.status.busy": "2024-12-06T08:58:48.547236Z",
     "iopub.status.idle": "2024-12-06T08:58:48.624553Z",
     "shell.execute_reply": "2024-12-06T08:58:48.623910Z"
    },
    "id": "YCc38anvFgJc",
    "papermill": {
     "duration": 0.085538,
     "end_time": "2024-12-06T08:58:48.626213",
     "exception": false,
     "start_time": "2024-12-06T08:58:48.540675",
     "status": "completed"
    },
    "tags": []
   },
   "outputs": [],
   "source": [
    "# setup dataset with tf.data\n",
    "resize_fn = keras.layers.Resizing(224, 224)\n",
    "\n",
    "train_ds = train_ds.map(lambda x, y: (resize_fn(x), y))\n",
    "test_ds = test_ds.map(lambda x, y: (resize_fn(x), y))\n",
    "test2_ds = test2_ds.map(lambda x, y: (resize_fn(x), y))\n",
    "\n",
    "train_ds = train_ds.batch(batch_size).prefetch(tf.data.AUTOTUNE).cache()\n",
    "test_ds = test_ds.batch(batch_size).prefetch(tf.data.AUTOTUNE).cache()\n",
    "test2_ds = test2_ds.batch(batch_size).prefetch(tf.data.AUTOTUNE).cache()"
   ]
  },
  {
   "cell_type": "markdown",
   "id": "97219e4e",
   "metadata": {
    "id": "CdVE1QLMFtA5",
    "papermill": {
     "duration": 0.004855,
     "end_time": "2024-12-06T08:58:48.636646",
     "exception": false,
     "start_time": "2024-12-06T08:58:48.631791",
     "status": "completed"
    },
    "tags": []
   },
   "source": [
    "## Prepare model"
   ]
  },
  {
   "cell_type": "code",
   "execution_count": 11,
   "id": "fcb161e1",
   "metadata": {
    "execution": {
     "iopub.execute_input": "2024-12-06T08:58:48.648231Z",
     "iopub.status.busy": "2024-12-06T08:58:48.647946Z",
     "iopub.status.idle": "2024-12-06T08:58:53.737539Z",
     "shell.execute_reply": "2024-12-06T08:58:53.736639Z"
    },
    "id": "3mmwlJBDFf_6",
    "outputId": "73087a5a-85e9-43f0-bdee-b067a8168bcb",
    "papermill": {
     "duration": 5.097538,
     "end_time": "2024-12-06T08:58:53.739477",
     "exception": false,
     "start_time": "2024-12-06T08:58:48.641939",
     "status": "completed"
    },
    "tags": []
   },
   "outputs": [
    {
     "name": "stdout",
     "output_type": "stream",
     "text": [
      "Downloading data from https://github.com/james77777778/keras-image-models/releases/download/0.1.0/efficientnetv2b0_tf_efficientnetv2_b0.in1k.keras\n",
      "\u001b[1m29451563/29451563\u001b[0m \u001b[32m━━━━━━━━━━━━━━━━━━━━\u001b[0m\u001b[37m\u001b[0m \u001b[1m0s\u001b[0m 0us/step\n"
     ]
    },
    {
     "data": {
      "text/html": [
       "<pre style=\"white-space:pre;overflow-x:auto;line-height:normal;font-family:Menlo,'DejaVu Sans Mono',consolas,'Courier New',monospace\"><span style=\"font-weight: bold\">Model: \"functional\"</span>\n",
       "</pre>\n"
      ],
      "text/plain": [
       "\u001b[1mModel: \"functional\"\u001b[0m\n"
      ]
     },
     "metadata": {},
     "output_type": "display_data"
    },
    {
     "data": {
      "text/html": [
       "<pre style=\"white-space:pre;overflow-x:auto;line-height:normal;font-family:Menlo,'DejaVu Sans Mono',consolas,'Courier New',monospace\">┏━━━━━━━━━━━━━━━━━━━━━━━━━━━━━┳━━━━━━━━━━━━━━━━━━━━━━━┳━━━━━━━━━━━━┳━━━━━━━┓\n",
       "┃<span style=\"font-weight: bold\"> Layer (type)                </span>┃<span style=\"font-weight: bold\"> Output Shape          </span>┃<span style=\"font-weight: bold\">    Param # </span>┃<span style=\"font-weight: bold\"> Trai… </span>┃\n",
       "┡━━━━━━━━━━━━━━━━━━━━━━━━━━━━━╇━━━━━━━━━━━━━━━━━━━━━━━╇━━━━━━━━━━━━╇━━━━━━━┩\n",
       "│ input_layer_1 (<span style=\"color: #0087ff; text-decoration-color: #0087ff\">InputLayer</span>)  │ (<span style=\"color: #00d7ff; text-decoration-color: #00d7ff\">None</span>, <span style=\"color: #00af00; text-decoration-color: #00af00\">224</span>, <span style=\"color: #00af00; text-decoration-color: #00af00\">224</span>, <span style=\"color: #00af00; text-decoration-color: #00af00\">3</span>)   │          <span style=\"color: #00af00; text-decoration-color: #00af00\">0</span> │   <span style=\"font-weight: bold\">-</span>   │\n",
       "├─────────────────────────────┼───────────────────────┼────────────┼───────┤\n",
       "│ EfficientNetV2B0            │ (<span style=\"color: #00d7ff; text-decoration-color: #00d7ff\">None</span>, <span style=\"color: #00af00; text-decoration-color: #00af00\">7</span>, <span style=\"color: #00af00; text-decoration-color: #00af00\">7</span>, <span style=\"color: #00af00; text-decoration-color: #00af00\">1280</span>)    │  <span style=\"color: #00af00; text-decoration-color: #00af00\">5,919,312</span> │   <span style=\"color: #ff0000; text-decoration-color: #ff0000; font-weight: bold\">N</span>   │\n",
       "│ (<span style=\"color: #0087ff; text-decoration-color: #0087ff\">EfficientNetV2B0</span>)          │                       │            │       │\n",
       "├─────────────────────────────┼───────────────────────┼────────────┼───────┤\n",
       "│ global_average_pooling2d    │ (<span style=\"color: #00d7ff; text-decoration-color: #00d7ff\">None</span>, <span style=\"color: #00af00; text-decoration-color: #00af00\">1280</span>)          │          <span style=\"color: #00af00; text-decoration-color: #00af00\">0</span> │   <span style=\"font-weight: bold\">-</span>   │\n",
       "│ (<span style=\"color: #0087ff; text-decoration-color: #0087ff\">GlobalAveragePooling2D</span>)    │                       │            │       │\n",
       "├─────────────────────────────┼───────────────────────┼────────────┼───────┤\n",
       "│ dropout (<span style=\"color: #0087ff; text-decoration-color: #0087ff\">Dropout</span>)           │ (<span style=\"color: #00d7ff; text-decoration-color: #00d7ff\">None</span>, <span style=\"color: #00af00; text-decoration-color: #00af00\">1280</span>)          │          <span style=\"color: #00af00; text-decoration-color: #00af00\">0</span> │   <span style=\"font-weight: bold\">-</span>   │\n",
       "├─────────────────────────────┼───────────────────────┼────────────┼───────┤\n",
       "│ dense (<span style=\"color: #0087ff; text-decoration-color: #0087ff\">Dense</span>)               │ (<span style=\"color: #00d7ff; text-decoration-color: #00d7ff\">None</span>, <span style=\"color: #00af00; text-decoration-color: #00af00\">5</span>)             │      <span style=\"color: #00af00; text-decoration-color: #00af00\">6,405</span> │   <span style=\"color: #00af00; text-decoration-color: #00af00; font-weight: bold\">Y</span>   │\n",
       "└─────────────────────────────┴───────────────────────┴────────────┴───────┘\n",
       "</pre>\n"
      ],
      "text/plain": [
       "┏━━━━━━━━━━━━━━━━━━━━━━━━━━━━━┳━━━━━━━━━━━━━━━━━━━━━━━┳━━━━━━━━━━━━┳━━━━━━━┓\n",
       "┃\u001b[1m \u001b[0m\u001b[1mLayer (type)               \u001b[0m\u001b[1m \u001b[0m┃\u001b[1m \u001b[0m\u001b[1mOutput Shape         \u001b[0m\u001b[1m \u001b[0m┃\u001b[1m \u001b[0m\u001b[1m   Param #\u001b[0m\u001b[1m \u001b[0m┃\u001b[1m \u001b[0m\u001b[1mTrai…\u001b[0m\u001b[1m \u001b[0m┃\n",
       "┡━━━━━━━━━━━━━━━━━━━━━━━━━━━━━╇━━━━━━━━━━━━━━━━━━━━━━━╇━━━━━━━━━━━━╇━━━━━━━┩\n",
       "│ input_layer_1 (\u001b[38;5;33mInputLayer\u001b[0m)  │ (\u001b[38;5;45mNone\u001b[0m, \u001b[38;5;34m224\u001b[0m, \u001b[38;5;34m224\u001b[0m, \u001b[38;5;34m3\u001b[0m)   │          \u001b[38;5;34m0\u001b[0m │   \u001b[1m-\u001b[0m   │\n",
       "├─────────────────────────────┼───────────────────────┼────────────┼───────┤\n",
       "│ EfficientNetV2B0            │ (\u001b[38;5;45mNone\u001b[0m, \u001b[38;5;34m7\u001b[0m, \u001b[38;5;34m7\u001b[0m, \u001b[38;5;34m1280\u001b[0m)    │  \u001b[38;5;34m5,919,312\u001b[0m │   \u001b[1;91mN\u001b[0m   │\n",
       "│ (\u001b[38;5;33mEfficientNetV2B0\u001b[0m)          │                       │            │       │\n",
       "├─────────────────────────────┼───────────────────────┼────────────┼───────┤\n",
       "│ global_average_pooling2d    │ (\u001b[38;5;45mNone\u001b[0m, \u001b[38;5;34m1280\u001b[0m)          │          \u001b[38;5;34m0\u001b[0m │   \u001b[1m-\u001b[0m   │\n",
       "│ (\u001b[38;5;33mGlobalAveragePooling2D\u001b[0m)    │                       │            │       │\n",
       "├─────────────────────────────┼───────────────────────┼────────────┼───────┤\n",
       "│ dropout (\u001b[38;5;33mDropout\u001b[0m)           │ (\u001b[38;5;45mNone\u001b[0m, \u001b[38;5;34m1280\u001b[0m)          │          \u001b[38;5;34m0\u001b[0m │   \u001b[1m-\u001b[0m   │\n",
       "├─────────────────────────────┼───────────────────────┼────────────┼───────┤\n",
       "│ dense (\u001b[38;5;33mDense\u001b[0m)               │ (\u001b[38;5;45mNone\u001b[0m, \u001b[38;5;34m5\u001b[0m)             │      \u001b[38;5;34m6,405\u001b[0m │   \u001b[1;38;5;34mY\u001b[0m   │\n",
       "└─────────────────────────────┴───────────────────────┴────────────┴───────┘\n"
      ]
     },
     "metadata": {},
     "output_type": "display_data"
    },
    {
     "data": {
      "text/html": [
       "<pre style=\"white-space:pre;overflow-x:auto;line-height:normal;font-family:Menlo,'DejaVu Sans Mono',consolas,'Courier New',monospace\"><span style=\"font-weight: bold\"> Total params: </span><span style=\"color: #00af00; text-decoration-color: #00af00\">5,925,717</span> (22.60 MB)\n",
       "</pre>\n"
      ],
      "text/plain": [
       "\u001b[1m Total params: \u001b[0m\u001b[38;5;34m5,925,717\u001b[0m (22.60 MB)\n"
      ]
     },
     "metadata": {},
     "output_type": "display_data"
    },
    {
     "data": {
      "text/html": [
       "<pre style=\"white-space:pre;overflow-x:auto;line-height:normal;font-family:Menlo,'DejaVu Sans Mono',consolas,'Courier New',monospace\"><span style=\"font-weight: bold\"> Trainable params: </span><span style=\"color: #00af00; text-decoration-color: #00af00\">6,405</span> (25.02 KB)\n",
       "</pre>\n"
      ],
      "text/plain": [
       "\u001b[1m Trainable params: \u001b[0m\u001b[38;5;34m6,405\u001b[0m (25.02 KB)\n"
      ]
     },
     "metadata": {},
     "output_type": "display_data"
    },
    {
     "data": {
      "text/html": [
       "<pre style=\"white-space:pre;overflow-x:auto;line-height:normal;font-family:Menlo,'DejaVu Sans Mono',consolas,'Courier New',monospace\"><span style=\"font-weight: bold\"> Non-trainable params: </span><span style=\"color: #00af00; text-decoration-color: #00af00\">5,919,312</span> (22.58 MB)\n",
       "</pre>\n"
      ],
      "text/plain": [
       "\u001b[1m Non-trainable params: \u001b[0m\u001b[38;5;34m5,919,312\u001b[0m (22.58 MB)\n"
      ]
     },
     "metadata": {},
     "output_type": "display_data"
    }
   ],
   "source": [
    "# create base model\n",
    "base_model = kimm.models.EfficientNetV2B0(\n",
    "    input_shape=(224, 224, 3),\n",
    "    include_preprocessing=True,\n",
    "    include_top=False,\n",
    ")\n",
    "\n",
    "# freeze base model\n",
    "base_model.trainable = False\n",
    "\n",
    "# create new model on top\n",
    "inputs = keras.Input(shape=(224, 224, 3))\n",
    "x = inputs\n",
    "\n",
    "# The base model contains batchnorm layers. We want to keep them in inference mode\n",
    "# when we unfreeze the base model for fine-tuning, so we make sure that the\n",
    "# base_model is running in inference mode here.\n",
    "x = base_model(x, training=False)\n",
    "x = keras.layers.GlobalAveragePooling2D()(x)\n",
    "x = keras.layers.Dropout(0.2)(x)  # regularize with dropout\n",
    "outputs = keras.layers.Dense(num_classes, activation='softmax')(x)\n",
    "model = keras.Model(inputs, outputs)\n",
    "\n",
    "model.summary(show_trainable=True)"
   ]
  },
  {
   "cell_type": "markdown",
   "id": "819b59f2",
   "metadata": {
    "id": "YcYVdF_1F9EQ",
    "papermill": {
     "duration": 0.00616,
     "end_time": "2024-12-06T08:58:53.752023",
     "exception": false,
     "start_time": "2024-12-06T08:58:53.745863",
     "status": "completed"
    },
    "tags": []
   },
   "source": [
    "## Training\n",
    "\n",
    "Follow [mewc-train](https://github.com/zaandahl/mewc-train)"
   ]
  },
  {
   "cell_type": "code",
   "execution_count": 12,
   "id": "1e9961fa",
   "metadata": {
    "execution": {
     "iopub.execute_input": "2024-12-06T08:58:53.765773Z",
     "iopub.status.busy": "2024-12-06T08:58:53.765200Z",
     "iopub.status.idle": "2024-12-06T08:58:53.775318Z",
     "shell.execute_reply": "2024-12-06T08:58:53.774734Z"
    },
    "id": "Ho-88Fe_GxVd",
    "papermill": {
     "duration": 0.018735,
     "end_time": "2024-12-06T08:58:53.776942",
     "exception": false,
     "start_time": "2024-12-06T08:58:53.758207",
     "status": "completed"
    },
    "tags": []
   },
   "outputs": [],
   "source": [
    "# df_size = 2500\n",
    "\n",
    "epochs = 30\n",
    "\n",
    "lr_init = 1e-4\n",
    "# min_lr_frac = 1/5 # default minimum learning rate fraction of initial learning rate\n",
    "# steps_per_epoch = df_size // batch_size\n",
    "# total_steps = epochs * steps_per_epoch # total number of steps for monotonic exponential decay across all epochs\n",
    "# lr = optimizers.schedules.ExponentialDecay(initial_learning_rate=lr_init, decay_steps=total_steps, decay_rate=min_lr_frac, staircase=False)\n",
    "amsgrad = True\n",
    "weight_decay = 1e-4\n",
    "optimizer = optimizers.AdamW(learning_rate=lr_init, amsgrad=amsgrad, weight_decay=weight_decay)\n",
    "\n",
    "# if num_classes == 2:\n",
    "#   loss_f = losses.BinaryFocalCrossentropy()  # use for binary classification tasks\n",
    "#   act_f = 'sigmoid' # use for binary classification tasks\n",
    "# else:\n",
    "#   loss_f = losses.CategoricalFocalCrossentropy()  # use for unbalanced multi-class tasks (typical for wildlife datasets)\n",
    "#   act_f = 'softmax' # use for multi-class classification tasks\n",
    "loss_f = losses.CategoricalCrossentropy()\n",
    "\n",
    "metrics = ['accuracy']\n",
    "\n",
    "callbacks = [callbacks.EarlyStopping(monitor='loss', mode='min', min_delta=0.001, patience=5, restore_best_weights=True)]"
   ]
  },
  {
   "cell_type": "code",
   "execution_count": 13,
   "id": "21736983",
   "metadata": {
    "execution": {
     "iopub.execute_input": "2024-12-06T08:58:53.790545Z",
     "iopub.status.busy": "2024-12-06T08:58:53.790265Z",
     "iopub.status.idle": "2024-12-06T08:58:53.797859Z",
     "shell.execute_reply": "2024-12-06T08:58:53.797178Z"
    },
    "id": "fAHCE7OrGCGF",
    "papermill": {
     "duration": 0.016162,
     "end_time": "2024-12-06T08:58:53.799527",
     "exception": false,
     "start_time": "2024-12-06T08:58:53.783365",
     "status": "completed"
    },
    "tags": []
   },
   "outputs": [],
   "source": [
    "model.compile(\n",
    "    optimizer=optimizer,\n",
    "    loss=loss_f,\n",
    "    metrics=metrics,\n",
    ")"
   ]
  },
  {
   "cell_type": "code",
   "execution_count": 14,
   "id": "c9b508a6",
   "metadata": {
    "execution": {
     "iopub.execute_input": "2024-12-06T08:58:53.812791Z",
     "iopub.status.busy": "2024-12-06T08:58:53.812526Z",
     "iopub.status.idle": "2024-12-06T09:10:53.064052Z",
     "shell.execute_reply": "2024-12-06T09:10:53.063151Z"
    },
    "id": "GZKd2EixF8yO",
    "outputId": "e8424e62-1116-4b52-90af-5fe25403927f",
    "papermill": {
     "duration": 719.260596,
     "end_time": "2024-12-06T09:10:53.066051",
     "exception": false,
     "start_time": "2024-12-06T08:58:53.805455",
     "status": "completed"
    },
    "tags": []
   },
   "outputs": [
    {
     "name": "stdout",
     "output_type": "stream",
     "text": [
      "Epoch 1/30\n"
     ]
    },
    {
     "name": "stderr",
     "output_type": "stream",
     "text": [
      "WARNING: All log messages before absl::InitializeLog() is called are written to STDERR\n",
      "I0000 00:00:1733475542.085819      85 service.cc:145] XLA service 0x7bd59c01ec00 initialized for platform CUDA (this does not guarantee that XLA will be used). Devices:\n",
      "I0000 00:00:1733475542.085911      85 service.cc:153]   StreamExecutor device (0): Tesla T4, Compute Capability 7.5\n",
      "I0000 00:00:1733475542.085919      85 service.cc:153]   StreamExecutor device (1): Tesla T4, Compute Capability 7.5\n"
     ]
    },
    {
     "name": "stdout",
     "output_type": "stream",
     "text": [
      "      5/Unknown \u001b[1m16s\u001b[0m 33ms/step - accuracy: 0.1140 - loss: 1.7550"
     ]
    },
    {
     "name": "stderr",
     "output_type": "stream",
     "text": [
      "I0000 00:00:1733475549.670203      85 device_compiler.h:188] Compiled cluster using XLA!  This line is logged at most once for the lifetime of the process.\n"
     ]
    },
    {
     "name": "stdout",
     "output_type": "stream",
     "text": [
      "   1250/Unknown \u001b[1m56s\u001b[0m 32ms/step - accuracy: 0.5936 - loss: 1.0979"
     ]
    },
    {
     "name": "stderr",
     "output_type": "stream",
     "text": [
      "/opt/conda/lib/python3.10/site-packages/keras/src/trainers/epoch_iterator.py:151: UserWarning: Your input ran out of data; interrupting training. Make sure that your dataset or generator can generate at least `steps_per_epoch * epochs` batches. You may need to use the `.repeat()` function when building your dataset.\n",
      "  self._interrupted_warning()\n"
     ]
    },
    {
     "name": "stdout",
     "output_type": "stream",
     "text": [
      "\u001b[1m1250/1250\u001b[0m \u001b[32m━━━━━━━━━━━━━━━━━━━━\u001b[0m\u001b[37m\u001b[0m \u001b[1m56s\u001b[0m 32ms/step - accuracy: 0.5937 - loss: 1.0977\n",
      "Epoch 2/30\n",
      "\u001b[1m1250/1250\u001b[0m \u001b[32m━━━━━━━━━━━━━━━━━━━━\u001b[0m\u001b[37m\u001b[0m \u001b[1m22s\u001b[0m 17ms/step - accuracy: 0.8191 - loss: 0.5297\n",
      "Epoch 3/30\n",
      "\u001b[1m1250/1250\u001b[0m \u001b[32m━━━━━━━━━━━━━━━━━━━━\u001b[0m\u001b[37m\u001b[0m \u001b[1m22s\u001b[0m 18ms/step - accuracy: 0.8423 - loss: 0.4581\n",
      "Epoch 4/30\n",
      "\u001b[1m1250/1250\u001b[0m \u001b[32m━━━━━━━━━━━━━━━━━━━━\u001b[0m\u001b[37m\u001b[0m \u001b[1m23s\u001b[0m 18ms/step - accuracy: 0.8524 - loss: 0.4248\n",
      "Epoch 5/30\n",
      "\u001b[1m1250/1250\u001b[0m \u001b[32m━━━━━━━━━━━━━━━━━━━━\u001b[0m\u001b[37m\u001b[0m \u001b[1m23s\u001b[0m 19ms/step - accuracy: 0.8635 - loss: 0.3980\n",
      "Epoch 6/30\n",
      "\u001b[1m1250/1250\u001b[0m \u001b[32m━━━━━━━━━━━━━━━━━━━━\u001b[0m\u001b[37m\u001b[0m \u001b[1m23s\u001b[0m 18ms/step - accuracy: 0.8694 - loss: 0.3818\n",
      "Epoch 7/30\n",
      "\u001b[1m1250/1250\u001b[0m \u001b[32m━━━━━━━━━━━━━━━━━━━━\u001b[0m\u001b[37m\u001b[0m \u001b[1m23s\u001b[0m 18ms/step - accuracy: 0.8733 - loss: 0.3672\n",
      "Epoch 8/30\n",
      "\u001b[1m1250/1250\u001b[0m \u001b[32m━━━━━━━━━━━━━━━━━━━━\u001b[0m\u001b[37m\u001b[0m \u001b[1m23s\u001b[0m 18ms/step - accuracy: 0.8755 - loss: 0.3568\n",
      "Epoch 9/30\n",
      "\u001b[1m1250/1250\u001b[0m \u001b[32m━━━━━━━━━━━━━━━━━━━━\u001b[0m\u001b[37m\u001b[0m \u001b[1m23s\u001b[0m 18ms/step - accuracy: 0.8815 - loss: 0.3471\n",
      "Epoch 10/30\n",
      "\u001b[1m1250/1250\u001b[0m \u001b[32m━━━━━━━━━━━━━━━━━━━━\u001b[0m\u001b[37m\u001b[0m \u001b[1m23s\u001b[0m 18ms/step - accuracy: 0.8832 - loss: 0.3406\n",
      "Epoch 11/30\n",
      "\u001b[1m1250/1250\u001b[0m \u001b[32m━━━━━━━━━━━━━━━━━━━━\u001b[0m\u001b[37m\u001b[0m \u001b[1m23s\u001b[0m 18ms/step - accuracy: 0.8862 - loss: 0.3315\n",
      "Epoch 12/30\n",
      "\u001b[1m1250/1250\u001b[0m \u001b[32m━━━━━━━━━━━━━━━━━━━━\u001b[0m\u001b[37m\u001b[0m \u001b[1m23s\u001b[0m 18ms/step - accuracy: 0.8863 - loss: 0.3279\n",
      "Epoch 13/30\n",
      "\u001b[1m1250/1250\u001b[0m \u001b[32m━━━━━━━━━━━━━━━━━━━━\u001b[0m\u001b[37m\u001b[0m \u001b[1m23s\u001b[0m 18ms/step - accuracy: 0.8896 - loss: 0.3200\n",
      "Epoch 14/30\n",
      "\u001b[1m1250/1250\u001b[0m \u001b[32m━━━━━━━━━━━━━━━━━━━━\u001b[0m\u001b[37m\u001b[0m \u001b[1m23s\u001b[0m 18ms/step - accuracy: 0.8903 - loss: 0.3139\n",
      "Epoch 15/30\n",
      "\u001b[1m1250/1250\u001b[0m \u001b[32m━━━━━━━━━━━━━━━━━━━━\u001b[0m\u001b[37m\u001b[0m \u001b[1m23s\u001b[0m 18ms/step - accuracy: 0.8918 - loss: 0.3112\n",
      "Epoch 16/30\n",
      "\u001b[1m1250/1250\u001b[0m \u001b[32m━━━━━━━━━━━━━━━━━━━━\u001b[0m\u001b[37m\u001b[0m \u001b[1m23s\u001b[0m 18ms/step - accuracy: 0.8921 - loss: 0.3070\n",
      "Epoch 17/30\n",
      "\u001b[1m1250/1250\u001b[0m \u001b[32m━━━━━━━━━━━━━━━━━━━━\u001b[0m\u001b[37m\u001b[0m \u001b[1m23s\u001b[0m 18ms/step - accuracy: 0.8953 - loss: 0.3027\n",
      "Epoch 18/30\n",
      "\u001b[1m1250/1250\u001b[0m \u001b[32m━━━━━━━━━━━━━━━━━━━━\u001b[0m\u001b[37m\u001b[0m \u001b[1m23s\u001b[0m 18ms/step - accuracy: 0.8980 - loss: 0.2969\n",
      "Epoch 19/30\n",
      "\u001b[1m1250/1250\u001b[0m \u001b[32m━━━━━━━━━━━━━━━━━━━━\u001b[0m\u001b[37m\u001b[0m \u001b[1m23s\u001b[0m 18ms/step - accuracy: 0.8986 - loss: 0.2951\n",
      "Epoch 20/30\n",
      "\u001b[1m1250/1250\u001b[0m \u001b[32m━━━━━━━━━━━━━━━━━━━━\u001b[0m\u001b[37m\u001b[0m \u001b[1m23s\u001b[0m 18ms/step - accuracy: 0.8984 - loss: 0.2949\n",
      "Epoch 21/30\n",
      "\u001b[1m1250/1250\u001b[0m \u001b[32m━━━━━━━━━━━━━━━━━━━━\u001b[0m\u001b[37m\u001b[0m \u001b[1m23s\u001b[0m 18ms/step - accuracy: 0.9004 - loss: 0.2891\n",
      "Epoch 22/30\n",
      "\u001b[1m1250/1250\u001b[0m \u001b[32m━━━━━━━━━━━━━━━━━━━━\u001b[0m\u001b[37m\u001b[0m \u001b[1m23s\u001b[0m 18ms/step - accuracy: 0.8978 - loss: 0.2890\n",
      "Epoch 23/30\n",
      "\u001b[1m1250/1250\u001b[0m \u001b[32m━━━━━━━━━━━━━━━━━━━━\u001b[0m\u001b[37m\u001b[0m \u001b[1m23s\u001b[0m 18ms/step - accuracy: 0.9025 - loss: 0.2855\n",
      "Epoch 24/30\n",
      "\u001b[1m1250/1250\u001b[0m \u001b[32m━━━━━━━━━━━━━━━━━━━━\u001b[0m\u001b[37m\u001b[0m \u001b[1m23s\u001b[0m 18ms/step - accuracy: 0.9012 - loss: 0.2855\n",
      "Epoch 25/30\n",
      "\u001b[1m1250/1250\u001b[0m \u001b[32m━━━━━━━━━━━━━━━━━━━━\u001b[0m\u001b[37m\u001b[0m \u001b[1m23s\u001b[0m 18ms/step - accuracy: 0.9011 - loss: 0.2836\n",
      "Epoch 26/30\n",
      "\u001b[1m1250/1250\u001b[0m \u001b[32m━━━━━━━━━━━━━━━━━━━━\u001b[0m\u001b[37m\u001b[0m \u001b[1m23s\u001b[0m 18ms/step - accuracy: 0.9017 - loss: 0.2807\n",
      "Epoch 27/30\n",
      "\u001b[1m1250/1250\u001b[0m \u001b[32m━━━━━━━━━━━━━━━━━━━━\u001b[0m\u001b[37m\u001b[0m \u001b[1m23s\u001b[0m 18ms/step - accuracy: 0.9050 - loss: 0.2775\n",
      "Epoch 28/30\n",
      "\u001b[1m1250/1250\u001b[0m \u001b[32m━━━━━━━━━━━━━━━━━━━━\u001b[0m\u001b[37m\u001b[0m \u001b[1m23s\u001b[0m 18ms/step - accuracy: 0.9066 - loss: 0.2763\n",
      "Epoch 29/30\n",
      "\u001b[1m1250/1250\u001b[0m \u001b[32m━━━━━━━━━━━━━━━━━━━━\u001b[0m\u001b[37m\u001b[0m \u001b[1m23s\u001b[0m 18ms/step - accuracy: 0.9048 - loss: 0.2727\n",
      "Epoch 30/30\n",
      "\u001b[1m1250/1250\u001b[0m \u001b[32m━━━━━━━━━━━━━━━━━━━━\u001b[0m\u001b[37m\u001b[0m \u001b[1m23s\u001b[0m 18ms/step - accuracy: 0.9058 - loss: 0.2732\n"
     ]
    },
    {
     "data": {
      "text/plain": [
       "<keras.src.callbacks.history.History at 0x7bd6046964a0>"
      ]
     },
     "execution_count": 14,
     "metadata": {},
     "output_type": "execute_result"
    }
   ],
   "source": [
    "model.fit(train_ds, epochs=epochs, callbacks=callbacks)"
   ]
  },
  {
   "cell_type": "code",
   "execution_count": 15,
   "id": "f80f52db",
   "metadata": {
    "execution": {
     "iopub.execute_input": "2024-12-06T09:10:54.308328Z",
     "iopub.status.busy": "2024-12-06T09:10:54.307933Z",
     "iopub.status.idle": "2024-12-06T09:10:54.877147Z",
     "shell.execute_reply": "2024-12-06T09:10:54.876177Z"
    },
    "id": "ik4KqmJdUbKd",
    "outputId": "d168634b-b029-4bf1-cf87-e280ace945fb",
    "papermill": {
     "duration": 1.210955,
     "end_time": "2024-12-06T09:10:54.879268",
     "exception": false,
     "start_time": "2024-12-06T09:10:53.668313",
     "status": "completed"
    },
    "tags": []
   },
   "outputs": [],
   "source": [
    "saving.save_model(model, model_path)"
   ]
  },
  {
   "cell_type": "markdown",
   "id": "962306eb",
   "metadata": {
    "id": "qIGU25KNO1sp",
    "papermill": {
     "duration": 0.62844,
     "end_time": "2024-12-06T09:10:56.099373",
     "exception": false,
     "start_time": "2024-12-06T09:10:55.470933",
     "status": "completed"
    },
    "tags": []
   },
   "source": [
    "## Evaluation"
   ]
  },
  {
   "cell_type": "code",
   "execution_count": 16,
   "id": "a2a3b7d4",
   "metadata": {
    "execution": {
     "iopub.execute_input": "2024-12-06T09:10:57.323506Z",
     "iopub.status.busy": "2024-12-06T09:10:57.323146Z",
     "iopub.status.idle": "2024-12-06T09:11:07.883007Z",
     "shell.execute_reply": "2024-12-06T09:11:07.882199Z"
    },
    "papermill": {
     "duration": 11.195409,
     "end_time": "2024-12-06T09:11:07.884493",
     "exception": false,
     "start_time": "2024-12-06T09:10:56.689084",
     "status": "completed"
    },
    "tags": []
   },
   "outputs": [
    {
     "name": "stdout",
     "output_type": "stream",
     "text": [
      "\u001b[1m94/94\u001b[0m \u001b[32m━━━━━━━━━━━━━━━━━━━━\u001b[0m\u001b[37m\u001b[0m \u001b[1m11s\u001b[0m 64ms/step - accuracy: 0.9318 - loss: 0.2098\n",
      "Test accuracy: 90.13%\n"
     ]
    }
   ],
   "source": [
    "result = model.evaluate(test_ds)\n",
    "print(f'Test accuracy: {result[1] * 100:3.2f}%')"
   ]
  },
  {
   "cell_type": "code",
   "execution_count": 17,
   "id": "33796ae6",
   "metadata": {
    "execution": {
     "iopub.execute_input": "2024-12-06T09:11:09.096328Z",
     "iopub.status.busy": "2024-12-06T09:11:09.095983Z",
     "iopub.status.idle": "2024-12-06T09:11:17.998801Z",
     "shell.execute_reply": "2024-12-06T09:11:17.997600Z"
    },
    "id": "zyDqRJSEGM4L",
    "outputId": "09e78303-ee89-418f-cef9-f1a4900de3f2",
    "papermill": {
     "duration": 9.531695,
     "end_time": "2024-12-06T09:11:18.000844",
     "exception": false,
     "start_time": "2024-12-06T09:11:08.469149",
     "status": "completed"
    },
    "tags": []
   },
   "outputs": [
    {
     "name": "stdout",
     "output_type": "stream",
     "text": [
      "\u001b[1m19/19\u001b[0m \u001b[32m━━━━━━━━━━━━━━━━━━━━\u001b[0m\u001b[37m\u001b[0m \u001b[1m9s\u001b[0m 241ms/step - accuracy: 0.8312 - loss: 27.7925\n",
      "Test2 accuracy: 84.16%\n"
     ]
    }
   ],
   "source": [
    "result2 = model.evaluate(test2_ds)\n",
    "print(f'Test2 accuracy: {result2[1] * 100:3.2f}%')"
   ]
  },
  {
   "cell_type": "code",
   "execution_count": 18,
   "id": "158ad3ff",
   "metadata": {
    "collapsed": true,
    "execution": {
     "iopub.execute_input": "2024-12-06T09:11:19.230319Z",
     "iopub.status.busy": "2024-12-06T09:11:19.229401Z",
     "iopub.status.idle": "2024-12-06T09:11:36.602676Z",
     "shell.execute_reply": "2024-12-06T09:11:36.601909Z"
    },
    "id": "hpMkylclPBAB",
    "jupyter": {
     "outputs_hidden": true
    },
    "outputId": "909e4490-b5b4-48ff-a2a6-71f42226d86e",
    "papermill": {
     "duration": 18.010359,
     "end_time": "2024-12-06T09:11:36.604268",
     "exception": false,
     "start_time": "2024-12-06T09:11:18.593909",
     "status": "completed"
    },
    "tags": []
   },
   "outputs": [
    {
     "name": "stdout",
     "output_type": "stream",
     "text": [
      "\u001b[1m1/1\u001b[0m \u001b[32m━━━━━━━━━━━━━━━━━━━━\u001b[0m\u001b[37m\u001b[0m \u001b[1m4s\u001b[0m 4s/step\n",
      "\u001b[1m1/1\u001b[0m \u001b[32m━━━━━━━━━━━━━━━━━━━━\u001b[0m\u001b[37m\u001b[0m \u001b[1m0s\u001b[0m 67ms/step\n",
      "\u001b[1m1/1\u001b[0m \u001b[32m━━━━━━━━━━━━━━━━━━━━\u001b[0m\u001b[37m\u001b[0m \u001b[1m0s\u001b[0m 59ms/step\n",
      "\u001b[1m1/1\u001b[0m \u001b[32m━━━━━━━━━━━━━━━━━━━━\u001b[0m\u001b[37m\u001b[0m \u001b[1m0s\u001b[0m 65ms/step\n",
      "\u001b[1m1/1\u001b[0m \u001b[32m━━━━━━━━━━━━━━━━━━━━\u001b[0m\u001b[37m\u001b[0m \u001b[1m0s\u001b[0m 64ms/step\n",
      "\u001b[1m1/1\u001b[0m \u001b[32m━━━━━━━━━━━━━━━━━━━━\u001b[0m\u001b[37m\u001b[0m \u001b[1m0s\u001b[0m 64ms/step\n",
      "\u001b[1m1/1\u001b[0m \u001b[32m━━━━━━━━━━━━━━━━━━━━\u001b[0m\u001b[37m\u001b[0m \u001b[1m0s\u001b[0m 64ms/step\n",
      "\u001b[1m1/1\u001b[0m \u001b[32m━━━━━━━━━━━━━━━━━━━━\u001b[0m\u001b[37m\u001b[0m \u001b[1m0s\u001b[0m 64ms/step\n",
      "\u001b[1m1/1\u001b[0m \u001b[32m━━━━━━━━━━━━━━━━━━━━\u001b[0m\u001b[37m\u001b[0m \u001b[1m0s\u001b[0m 65ms/step\n",
      "\u001b[1m1/1\u001b[0m \u001b[32m━━━━━━━━━━━━━━━━━━━━\u001b[0m\u001b[37m\u001b[0m \u001b[1m0s\u001b[0m 67ms/step\n",
      "\u001b[1m1/1\u001b[0m \u001b[32m━━━━━━━━━━━━━━━━━━━━\u001b[0m\u001b[37m\u001b[0m \u001b[1m0s\u001b[0m 59ms/step\n",
      "\u001b[1m1/1\u001b[0m \u001b[32m━━━━━━━━━━━━━━━━━━━━\u001b[0m\u001b[37m\u001b[0m \u001b[1m0s\u001b[0m 66ms/step\n",
      "\u001b[1m1/1\u001b[0m \u001b[32m━━━━━━━━━━━━━━━━━━━━\u001b[0m\u001b[37m\u001b[0m \u001b[1m0s\u001b[0m 64ms/step\n",
      "\u001b[1m1/1\u001b[0m \u001b[32m━━━━━━━━━━━━━━━━━━━━\u001b[0m\u001b[37m\u001b[0m \u001b[1m0s\u001b[0m 65ms/step\n",
      "\u001b[1m1/1\u001b[0m \u001b[32m━━━━━━━━━━━━━━━━━━━━\u001b[0m\u001b[37m\u001b[0m \u001b[1m0s\u001b[0m 64ms/step\n",
      "\u001b[1m1/1\u001b[0m \u001b[32m━━━━━━━━━━━━━━━━━━━━\u001b[0m\u001b[37m\u001b[0m \u001b[1m0s\u001b[0m 60ms/step\n",
      "\u001b[1m1/1\u001b[0m \u001b[32m━━━━━━━━━━━━━━━━━━━━\u001b[0m\u001b[37m\u001b[0m \u001b[1m0s\u001b[0m 65ms/step\n",
      "\u001b[1m1/1\u001b[0m \u001b[32m━━━━━━━━━━━━━━━━━━━━\u001b[0m\u001b[37m\u001b[0m \u001b[1m0s\u001b[0m 63ms/step\n",
      "\u001b[1m1/1\u001b[0m \u001b[32m━━━━━━━━━━━━━━━━━━━━\u001b[0m\u001b[37m\u001b[0m \u001b[1m0s\u001b[0m 59ms/step\n",
      "\u001b[1m1/1\u001b[0m \u001b[32m━━━━━━━━━━━━━━━━━━━━\u001b[0m\u001b[37m\u001b[0m \u001b[1m0s\u001b[0m 59ms/step\n",
      "\u001b[1m1/1\u001b[0m \u001b[32m━━━━━━━━━━━━━━━━━━━━\u001b[0m\u001b[37m\u001b[0m \u001b[1m0s\u001b[0m 63ms/step\n",
      "\u001b[1m1/1\u001b[0m \u001b[32m━━━━━━━━━━━━━━━━━━━━\u001b[0m\u001b[37m\u001b[0m \u001b[1m0s\u001b[0m 66ms/step\n",
      "\u001b[1m1/1\u001b[0m \u001b[32m━━━━━━━━━━━━━━━━━━━━\u001b[0m\u001b[37m\u001b[0m \u001b[1m0s\u001b[0m 66ms/step\n",
      "\u001b[1m1/1\u001b[0m \u001b[32m━━━━━━━━━━━━━━━━━━━━\u001b[0m\u001b[37m\u001b[0m \u001b[1m0s\u001b[0m 59ms/step\n",
      "\u001b[1m1/1\u001b[0m \u001b[32m━━━━━━━━━━━━━━━━━━━━\u001b[0m\u001b[37m\u001b[0m \u001b[1m0s\u001b[0m 60ms/step\n",
      "\u001b[1m1/1\u001b[0m \u001b[32m━━━━━━━━━━━━━━━━━━━━\u001b[0m\u001b[37m\u001b[0m \u001b[1m0s\u001b[0m 59ms/step\n",
      "\u001b[1m1/1\u001b[0m \u001b[32m━━━━━━━━━━━━━━━━━━━━\u001b[0m\u001b[37m\u001b[0m \u001b[1m0s\u001b[0m 65ms/step\n",
      "\u001b[1m1/1\u001b[0m \u001b[32m━━━━━━━━━━━━━━━━━━━━\u001b[0m\u001b[37m\u001b[0m \u001b[1m0s\u001b[0m 59ms/step\n",
      "\u001b[1m1/1\u001b[0m \u001b[32m━━━━━━━━━━━━━━━━━━━━\u001b[0m\u001b[37m\u001b[0m \u001b[1m0s\u001b[0m 59ms/step\n",
      "\u001b[1m1/1\u001b[0m \u001b[32m━━━━━━━━━━━━━━━━━━━━\u001b[0m\u001b[37m\u001b[0m \u001b[1m0s\u001b[0m 62ms/step\n",
      "\u001b[1m1/1\u001b[0m \u001b[32m━━━━━━━━━━━━━━━━━━━━\u001b[0m\u001b[37m\u001b[0m \u001b[1m0s\u001b[0m 59ms/step\n",
      "\u001b[1m1/1\u001b[0m \u001b[32m━━━━━━━━━━━━━━━━━━━━\u001b[0m\u001b[37m\u001b[0m \u001b[1m0s\u001b[0m 59ms/step\n",
      "\u001b[1m1/1\u001b[0m \u001b[32m━━━━━━━━━━━━━━━━━━━━\u001b[0m\u001b[37m\u001b[0m \u001b[1m0s\u001b[0m 65ms/step\n",
      "\u001b[1m1/1\u001b[0m \u001b[32m━━━━━━━━━━━━━━━━━━━━\u001b[0m\u001b[37m\u001b[0m \u001b[1m0s\u001b[0m 65ms/step\n",
      "\u001b[1m1/1\u001b[0m \u001b[32m━━━━━━━━━━━━━━━━━━━━\u001b[0m\u001b[37m\u001b[0m \u001b[1m0s\u001b[0m 59ms/step\n",
      "\u001b[1m1/1\u001b[0m \u001b[32m━━━━━━━━━━━━━━━━━━━━\u001b[0m\u001b[37m\u001b[0m \u001b[1m0s\u001b[0m 58ms/step\n",
      "\u001b[1m1/1\u001b[0m \u001b[32m━━━━━━━━━━━━━━━━━━━━\u001b[0m\u001b[37m\u001b[0m \u001b[1m0s\u001b[0m 60ms/step\n",
      "\u001b[1m1/1\u001b[0m \u001b[32m━━━━━━━━━━━━━━━━━━━━\u001b[0m\u001b[37m\u001b[0m \u001b[1m0s\u001b[0m 59ms/step\n",
      "\u001b[1m1/1\u001b[0m \u001b[32m━━━━━━━━━━━━━━━━━━━━\u001b[0m\u001b[37m\u001b[0m \u001b[1m0s\u001b[0m 57ms/step\n",
      "\u001b[1m1/1\u001b[0m \u001b[32m━━━━━━━━━━━━━━━━━━━━\u001b[0m\u001b[37m\u001b[0m \u001b[1m0s\u001b[0m 65ms/step\n",
      "\u001b[1m1/1\u001b[0m \u001b[32m━━━━━━━━━━━━━━━━━━━━\u001b[0m\u001b[37m\u001b[0m \u001b[1m0s\u001b[0m 59ms/step\n",
      "\u001b[1m1/1\u001b[0m \u001b[32m━━━━━━━━━━━━━━━━━━━━\u001b[0m\u001b[37m\u001b[0m \u001b[1m0s\u001b[0m 58ms/step\n",
      "\u001b[1m1/1\u001b[0m \u001b[32m━━━━━━━━━━━━━━━━━━━━\u001b[0m\u001b[37m\u001b[0m \u001b[1m0s\u001b[0m 64ms/step\n",
      "\u001b[1m1/1\u001b[0m \u001b[32m━━━━━━━━━━━━━━━━━━━━\u001b[0m\u001b[37m\u001b[0m \u001b[1m0s\u001b[0m 64ms/step\n",
      "\u001b[1m1/1\u001b[0m \u001b[32m━━━━━━━━━━━━━━━━━━━━\u001b[0m\u001b[37m\u001b[0m \u001b[1m0s\u001b[0m 65ms/step\n",
      "\u001b[1m1/1\u001b[0m \u001b[32m━━━━━━━━━━━━━━━━━━━━\u001b[0m\u001b[37m\u001b[0m \u001b[1m0s\u001b[0m 64ms/step\n",
      "\u001b[1m1/1\u001b[0m \u001b[32m━━━━━━━━━━━━━━━━━━━━\u001b[0m\u001b[37m\u001b[0m \u001b[1m0s\u001b[0m 59ms/step\n",
      "\u001b[1m1/1\u001b[0m \u001b[32m━━━━━━━━━━━━━━━━━━━━\u001b[0m\u001b[37m\u001b[0m \u001b[1m0s\u001b[0m 58ms/step\n",
      "\u001b[1m1/1\u001b[0m \u001b[32m━━━━━━━━━━━━━━━━━━━━\u001b[0m\u001b[37m\u001b[0m \u001b[1m0s\u001b[0m 58ms/step\n",
      "\u001b[1m1/1\u001b[0m \u001b[32m━━━━━━━━━━━━━━━━━━━━\u001b[0m\u001b[37m\u001b[0m \u001b[1m0s\u001b[0m 59ms/step\n",
      "\u001b[1m1/1\u001b[0m \u001b[32m━━━━━━━━━━━━━━━━━━━━\u001b[0m\u001b[37m\u001b[0m \u001b[1m0s\u001b[0m 61ms/step\n",
      "\u001b[1m1/1\u001b[0m \u001b[32m━━━━━━━━━━━━━━━━━━━━\u001b[0m\u001b[37m\u001b[0m \u001b[1m0s\u001b[0m 60ms/step\n",
      "\u001b[1m1/1\u001b[0m \u001b[32m━━━━━━━━━━━━━━━━━━━━\u001b[0m\u001b[37m\u001b[0m \u001b[1m0s\u001b[0m 59ms/step\n",
      "\u001b[1m1/1\u001b[0m \u001b[32m━━━━━━━━━━━━━━━━━━━━\u001b[0m\u001b[37m\u001b[0m \u001b[1m0s\u001b[0m 59ms/step\n",
      "\u001b[1m1/1\u001b[0m \u001b[32m━━━━━━━━━━━━━━━━━━━━\u001b[0m\u001b[37m\u001b[0m \u001b[1m0s\u001b[0m 59ms/step\n",
      "\u001b[1m1/1\u001b[0m \u001b[32m━━━━━━━━━━━━━━━━━━━━\u001b[0m\u001b[37m\u001b[0m \u001b[1m0s\u001b[0m 58ms/step\n",
      "\u001b[1m1/1\u001b[0m \u001b[32m━━━━━━━━━━━━━━━━━━━━\u001b[0m\u001b[37m\u001b[0m \u001b[1m0s\u001b[0m 58ms/step\n",
      "\u001b[1m1/1\u001b[0m \u001b[32m━━━━━━━━━━━━━━━━━━━━\u001b[0m\u001b[37m\u001b[0m \u001b[1m0s\u001b[0m 60ms/step\n",
      "\u001b[1m1/1\u001b[0m \u001b[32m━━━━━━━━━━━━━━━━━━━━\u001b[0m\u001b[37m\u001b[0m \u001b[1m0s\u001b[0m 65ms/step\n",
      "\u001b[1m1/1\u001b[0m \u001b[32m━━━━━━━━━━━━━━━━━━━━\u001b[0m\u001b[37m\u001b[0m \u001b[1m0s\u001b[0m 59ms/step\n",
      "\u001b[1m1/1\u001b[0m \u001b[32m━━━━━━━━━━━━━━━━━━━━\u001b[0m\u001b[37m\u001b[0m \u001b[1m0s\u001b[0m 59ms/step\n",
      "\u001b[1m1/1\u001b[0m \u001b[32m━━━━━━━━━━━━━━━━━━━━\u001b[0m\u001b[37m\u001b[0m \u001b[1m0s\u001b[0m 59ms/step\n",
      "\u001b[1m1/1\u001b[0m \u001b[32m━━━━━━━━━━━━━━━━━━━━\u001b[0m\u001b[37m\u001b[0m \u001b[1m0s\u001b[0m 58ms/step\n",
      "\u001b[1m1/1\u001b[0m \u001b[32m━━━━━━━━━━━━━━━━━━━━\u001b[0m\u001b[37m\u001b[0m \u001b[1m0s\u001b[0m 58ms/step\n",
      "\u001b[1m1/1\u001b[0m \u001b[32m━━━━━━━━━━━━━━━━━━━━\u001b[0m\u001b[37m\u001b[0m \u001b[1m0s\u001b[0m 59ms/step\n",
      "\u001b[1m1/1\u001b[0m \u001b[32m━━━━━━━━━━━━━━━━━━━━\u001b[0m\u001b[37m\u001b[0m \u001b[1m0s\u001b[0m 59ms/step\n",
      "\u001b[1m1/1\u001b[0m \u001b[32m━━━━━━━━━━━━━━━━━━━━\u001b[0m\u001b[37m\u001b[0m \u001b[1m0s\u001b[0m 64ms/step\n",
      "\u001b[1m1/1\u001b[0m \u001b[32m━━━━━━━━━━━━━━━━━━━━\u001b[0m\u001b[37m\u001b[0m \u001b[1m0s\u001b[0m 58ms/step\n",
      "\u001b[1m1/1\u001b[0m \u001b[32m━━━━━━━━━━━━━━━━━━━━\u001b[0m\u001b[37m\u001b[0m \u001b[1m0s\u001b[0m 60ms/step\n",
      "\u001b[1m1/1\u001b[0m \u001b[32m━━━━━━━━━━━━━━━━━━━━\u001b[0m\u001b[37m\u001b[0m \u001b[1m0s\u001b[0m 61ms/step\n",
      "\u001b[1m1/1\u001b[0m \u001b[32m━━━━━━━━━━━━━━━━━━━━\u001b[0m\u001b[37m\u001b[0m \u001b[1m0s\u001b[0m 60ms/step\n",
      "\u001b[1m1/1\u001b[0m \u001b[32m━━━━━━━━━━━━━━━━━━━━\u001b[0m\u001b[37m\u001b[0m \u001b[1m0s\u001b[0m 62ms/step\n",
      "\u001b[1m1/1\u001b[0m \u001b[32m━━━━━━━━━━━━━━━━━━━━\u001b[0m\u001b[37m\u001b[0m \u001b[1m0s\u001b[0m 76ms/step\n",
      "\u001b[1m1/1\u001b[0m \u001b[32m━━━━━━━━━━━━━━━━━━━━\u001b[0m\u001b[37m\u001b[0m \u001b[1m0s\u001b[0m 67ms/step\n",
      "\u001b[1m1/1\u001b[0m \u001b[32m━━━━━━━━━━━━━━━━━━━━\u001b[0m\u001b[37m\u001b[0m \u001b[1m0s\u001b[0m 66ms/step\n",
      "\u001b[1m1/1\u001b[0m \u001b[32m━━━━━━━━━━━━━━━━━━━━\u001b[0m\u001b[37m\u001b[0m \u001b[1m0s\u001b[0m 70ms/step\n",
      "\u001b[1m1/1\u001b[0m \u001b[32m━━━━━━━━━━━━━━━━━━━━\u001b[0m\u001b[37m\u001b[0m \u001b[1m0s\u001b[0m 68ms/step\n",
      "\u001b[1m1/1\u001b[0m \u001b[32m━━━━━━━━━━━━━━━━━━━━\u001b[0m\u001b[37m\u001b[0m \u001b[1m0s\u001b[0m 59ms/step\n",
      "\u001b[1m1/1\u001b[0m \u001b[32m━━━━━━━━━━━━━━━━━━━━\u001b[0m\u001b[37m\u001b[0m \u001b[1m0s\u001b[0m 61ms/step\n",
      "\u001b[1m1/1\u001b[0m \u001b[32m━━━━━━━━━━━━━━━━━━━━\u001b[0m\u001b[37m\u001b[0m \u001b[1m0s\u001b[0m 60ms/step\n",
      "\u001b[1m1/1\u001b[0m \u001b[32m━━━━━━━━━━━━━━━━━━━━\u001b[0m\u001b[37m\u001b[0m \u001b[1m0s\u001b[0m 65ms/step\n",
      "\u001b[1m1/1\u001b[0m \u001b[32m━━━━━━━━━━━━━━━━━━━━\u001b[0m\u001b[37m\u001b[0m \u001b[1m0s\u001b[0m 61ms/step\n",
      "\u001b[1m1/1\u001b[0m \u001b[32m━━━━━━━━━━━━━━━━━━━━\u001b[0m\u001b[37m\u001b[0m \u001b[1m0s\u001b[0m 68ms/step\n",
      "\u001b[1m1/1\u001b[0m \u001b[32m━━━━━━━━━━━━━━━━━━━━\u001b[0m\u001b[37m\u001b[0m \u001b[1m0s\u001b[0m 59ms/step\n",
      "\u001b[1m1/1\u001b[0m \u001b[32m━━━━━━━━━━━━━━━━━━━━\u001b[0m\u001b[37m\u001b[0m \u001b[1m0s\u001b[0m 59ms/step\n",
      "\u001b[1m1/1\u001b[0m \u001b[32m━━━━━━━━━━━━━━━━━━━━\u001b[0m\u001b[37m\u001b[0m \u001b[1m0s\u001b[0m 59ms/step\n",
      "\u001b[1m1/1\u001b[0m \u001b[32m━━━━━━━━━━━━━━━━━━━━\u001b[0m\u001b[37m\u001b[0m \u001b[1m0s\u001b[0m 59ms/step\n",
      "\u001b[1m1/1\u001b[0m \u001b[32m━━━━━━━━━━━━━━━━━━━━\u001b[0m\u001b[37m\u001b[0m \u001b[1m0s\u001b[0m 59ms/step\n",
      "\u001b[1m1/1\u001b[0m \u001b[32m━━━━━━━━━━━━━━━━━━━━\u001b[0m\u001b[37m\u001b[0m \u001b[1m0s\u001b[0m 64ms/step\n",
      "\u001b[1m1/1\u001b[0m \u001b[32m━━━━━━━━━━━━━━━━━━━━\u001b[0m\u001b[37m\u001b[0m \u001b[1m0s\u001b[0m 65ms/step\n",
      "\u001b[1m1/1\u001b[0m \u001b[32m━━━━━━━━━━━━━━━━━━━━\u001b[0m\u001b[37m\u001b[0m \u001b[1m0s\u001b[0m 59ms/step\n",
      "\u001b[1m1/1\u001b[0m \u001b[32m━━━━━━━━━━━━━━━━━━━━\u001b[0m\u001b[37m\u001b[0m \u001b[1m0s\u001b[0m 59ms/step\n",
      "\u001b[1m1/1\u001b[0m \u001b[32m━━━━━━━━━━━━━━━━━━━━\u001b[0m\u001b[37m\u001b[0m \u001b[1m0s\u001b[0m 60ms/step\n",
      "\u001b[1m1/1\u001b[0m \u001b[32m━━━━━━━━━━━━━━━━━━━━\u001b[0m\u001b[37m\u001b[0m \u001b[1m4s\u001b[0m 4s/step\n"
     ]
    }
   ],
   "source": [
    "true_labels = []\n",
    "predicted_classes = []\n",
    "\n",
    "for images, labels in test_ds:\n",
    "    # append true labels based on their format\n",
    "    if len(labels.shape) > 1:  # if one-hot encoded\n",
    "        true_labels.append(np.argmax(labels.numpy(), axis=1))\n",
    "    else:  # if integer labels\n",
    "        true_labels.append(labels.numpy())\n",
    "\n",
    "    # predict classes\n",
    "    predictions = model.predict(images)\n",
    "    predicted_classes.append(np.argmax(predictions, axis=1))\n",
    "\n",
    "# combine all batches into single arrays\n",
    "true_labels = np.concatenate(true_labels)\n",
    "predicted_classes = np.concatenate(predicted_classes)"
   ]
  },
  {
   "cell_type": "code",
   "execution_count": 19,
   "id": "e1bf0ea9",
   "metadata": {
    "execution": {
     "iopub.execute_input": "2024-12-06T09:11:37.844981Z",
     "iopub.status.busy": "2024-12-06T09:11:37.844623Z",
     "iopub.status.idle": "2024-12-06T09:11:37.851698Z",
     "shell.execute_reply": "2024-12-06T09:11:37.850687Z"
    },
    "id": "vYjCERt3PNQX",
    "outputId": "a6eaab6b-1891-44a3-a150-8ef7a86474fc",
    "papermill": {
     "duration": 0.647824,
     "end_time": "2024-12-06T09:11:37.853637",
     "exception": false,
     "start_time": "2024-12-06T09:11:37.205813",
     "status": "completed"
    },
    "tags": []
   },
   "outputs": [
    {
     "name": "stdout",
     "output_type": "stream",
     "text": [
      "Confusion matrix:\n",
      " [[290   0   2   1   7]\n",
      " [  0 268   5  12  15]\n",
      " [  1  13 268   7  11]\n",
      " [  2  21   8 257  12]\n",
      " [  0   4  15  12 269]]\n"
     ]
    }
   ],
   "source": [
    "cm = confusion_matrix(true_labels, predicted_classes)\n",
    "print('Confusion matrix:\\n', cm)"
   ]
  },
  {
   "cell_type": "code",
   "execution_count": 20,
   "id": "9cef034a",
   "metadata": {
    "execution": {
     "iopub.execute_input": "2024-12-06T09:11:39.090767Z",
     "iopub.status.busy": "2024-12-06T09:11:39.090397Z",
     "iopub.status.idle": "2024-12-06T09:11:39.105281Z",
     "shell.execute_reply": "2024-12-06T09:11:39.104157Z"
    },
    "id": "9db2EW1LPRzc",
    "outputId": "2f0bc5bf-cf72-4972-8656-228d67f6161d",
    "papermill": {
     "duration": 0.611115,
     "end_time": "2024-12-06T09:11:39.106918",
     "exception": false,
     "start_time": "2024-12-06T09:11:38.495803",
     "status": "completed"
    },
    "tags": []
   },
   "outputs": [
    {
     "name": "stdout",
     "output_type": "stream",
     "text": [
      "Classification report:\n",
      "               precision    recall  f1-score   support\n",
      "\n",
      "       tiger       0.99      0.97      0.98       300\n",
      "        lynx       0.88      0.89      0.88       300\n",
      "        bear       0.90      0.89      0.90       300\n",
      "        deer       0.89      0.86      0.87       300\n",
      "        bird       0.86      0.90      0.88       300\n",
      "\n",
      "    accuracy                           0.90      1500\n",
      "   macro avg       0.90      0.90      0.90      1500\n",
      "weighted avg       0.90      0.90      0.90      1500\n",
      "\n"
     ]
    }
   ],
   "source": [
    "report = classification_report(true_labels, predicted_classes, target_names=class_names)\n",
    "print('Classification report:\\n', report)"
   ]
  },
  {
   "cell_type": "code",
   "execution_count": 21,
   "id": "cb87cd29",
   "metadata": {
    "execution": {
     "iopub.execute_input": "2024-12-06T09:11:40.350962Z",
     "iopub.status.busy": "2024-12-06T09:11:40.350616Z",
     "iopub.status.idle": "2024-12-06T09:11:41.264849Z",
     "shell.execute_reply": "2024-12-06T09:11:41.263990Z"
    },
    "id": "oc7KSHEBPV8o",
    "outputId": "d378ad2e-85be-46c7-914c-0bbf12c9ade0",
    "papermill": {
     "duration": 1.51501,
     "end_time": "2024-12-06T09:11:41.266648",
     "exception": false,
     "start_time": "2024-12-06T09:11:39.751638",
     "status": "completed"
    },
    "tags": []
   },
   "outputs": [
    {
     "data": {
      "image/png": "[encoded data removed]",
      "text/plain": [
       "<Figure size 1000x800 with 2 Axes>"
      ]
     },
     "metadata": {},
     "output_type": "display_data"
    }
   ],
   "source": [
    "plt.figure(figsize=(10, 8))\n",
    "sns.heatmap(cm, annot=True, fmt='d', cmap='Blues', xticklabels=class_names, yticklabels=class_names)\n",
    "plt.xlabel('Predicted')\n",
    "plt.ylabel('True')\n",
    "plt.title('Confusion matrix')\n",
    "confusion_matrix_path = media_dir + '/confusion_matrix.png'\n",
    "plt.savefig(confusion_matrix_path, dpi=300, bbox_inches='tight')\n",
    "plt.show()"
   ]
  }
 ],
 "metadata": {
  "accelerator": "GPU",
  "colab": {
   "gpuType": "T4",
   "provenance": []
  },
  "kaggle": {
   "accelerator": "nvidiaTeslaT4",
   "dataSources": [
    {
     "sourceId": 211343195,
     "sourceType": "kernelVersion"
    }
   ],
   "dockerImageVersionId": 30805,
   "isGpuEnabled": true,
   "isInternetEnabled": true,
   "language": "python",
   "sourceType": "notebook"
  },
  "kernelspec": {
   "display_name": "Python 3",
   "language": "python",
   "name": "python3"
  },
  "language_info": {
   "codemirror_mode": {
    "name": "ipython",
    "version": 3
   },
   "file_extension": ".py",
   "mimetype": "text/x-python",
   "name": "python",
   "nbconvert_exporter": "python",
   "pygments_lexer": "ipython3",
   "version": "3.10.14"
  },
  "papermill": {
   "default_parameters": {},
   "duration": 915.185946,
   "end_time": "2024-12-06T09:11:49.591763",
   "environment_variables": {},
   "exception": null,
   "input_path": "__notebook__.ipynb",
   "output_path": "__notebook__.ipynb",
   "parameters": {},
   "start_time": "2024-12-06T08:56:34.405817",
   "version": "2.6.0"
  }
 },
 "nbformat": 4,
 "nbformat_minor": 5
}
