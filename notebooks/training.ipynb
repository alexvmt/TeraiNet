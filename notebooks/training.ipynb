{
 "cells": [
  {
   "cell_type": "markdown",
   "id": "dd470001",
   "metadata": {
    "id": "0goBcwsXEl7q",
    "papermill": {
     "duration": 0.00532,
     "end_time": "2024-12-06T21:44:05.948153",
     "exception": false,
     "start_time": "2024-12-06T21:44:05.942833",
     "status": "completed"
    },
    "tags": []
   },
   "source": [
    "# Training"
   ]
  },
  {
   "cell_type": "markdown",
   "id": "1dfd1ea5",
   "metadata": {
    "id": "_AciCyGkEpkC",
    "papermill": {
     "duration": 0.005408,
     "end_time": "2024-12-06T21:44:05.958143",
     "exception": false,
     "start_time": "2024-12-06T21:44:05.952735",
     "status": "completed"
    },
    "tags": []
   },
   "source": [
    "## Setup"
   ]
  },
  {
   "cell_type": "code",
   "execution_count": 1,
   "id": "41a5ad5e",
   "metadata": {
    "execution": {
     "iopub.execute_input": "2024-12-06T21:44:05.968386Z",
     "iopub.status.busy": "2024-12-06T21:44:05.968013Z",
     "iopub.status.idle": "2024-12-06T21:44:17.252383Z",
     "shell.execute_reply": "2024-12-06T21:44:17.251557Z"
    },
    "id": "KVoOmsrBExwK",
    "outputId": "266204f1-044a-49f4-cf32-5ce95a872f9b",
    "papermill": {
     "duration": 11.291918,
     "end_time": "2024-12-06T21:44:17.254435",
     "exception": false,
     "start_time": "2024-12-06T21:44:05.962517",
     "status": "completed"
    },
    "tags": []
   },
   "outputs": [
    {
     "name": "stdout",
     "output_type": "stream",
     "text": [
      "Requirement already satisfied: keras in /opt/conda/lib/python3.10/site-packages (3.3.3)\r\n",
      "Collecting keras\r\n",
      "  Downloading keras-3.7.0-py3-none-any.whl.metadata (5.8 kB)\r\n",
      "Collecting kimm\r\n",
      "  Downloading kimm-0.2.5-py3-none-any.whl.metadata (12 kB)\r\n",
      "Requirement already satisfied: absl-py in /opt/conda/lib/python3.10/site-packages (from keras) (1.4.0)\r\n",
      "Requirement already satisfied: numpy in /opt/conda/lib/python3.10/site-packages (from keras) (1.26.4)\r\n",
      "Requirement already satisfied: rich in /opt/conda/lib/python3.10/site-packages (from keras) (13.7.1)\r\n",
      "Requirement already satisfied: namex in /opt/conda/lib/python3.10/site-packages (from keras) (0.0.8)\r\n",
      "Requirement already satisfied: h5py in /opt/conda/lib/python3.10/site-packages (from keras) (3.11.0)\r\n",
      "Requirement already satisfied: optree in /opt/conda/lib/python3.10/site-packages (from keras) (0.11.0)\r\n",
      "Requirement already satisfied: ml-dtypes in /opt/conda/lib/python3.10/site-packages (from keras) (0.3.2)\r\n",
      "Requirement already satisfied: packaging in /opt/conda/lib/python3.10/site-packages (from keras) (21.3)\r\n",
      "Requirement already satisfied: typing-extensions>=4.0.0 in /opt/conda/lib/python3.10/site-packages (from optree->keras) (4.12.2)\r\n",
      "Requirement already satisfied: pyparsing!=3.0.5,>=2.0.2 in /opt/conda/lib/python3.10/site-packages (from packaging->keras) (3.1.2)\r\n",
      "Requirement already satisfied: markdown-it-py>=2.2.0 in /opt/conda/lib/python3.10/site-packages (from rich->keras) (3.0.0)\r\n",
      "Requirement already satisfied: pygments<3.0.0,>=2.13.0 in /opt/conda/lib/python3.10/site-packages (from rich->keras) (2.18.0)\r\n",
      "Requirement already satisfied: mdurl~=0.1 in /opt/conda/lib/python3.10/site-packages (from markdown-it-py>=2.2.0->rich->keras) (0.1.2)\r\n",
      "Downloading keras-3.7.0-py3-none-any.whl (1.2 MB)\r\n",
      "\u001b[2K   \u001b[90m━━━━━━━━━━━━━━━━━━━━━━━━━━━━━━━━━━━━━━━━\u001b[0m \u001b[32m1.2/1.2 MB\u001b[0m \u001b[31m21.7 MB/s\u001b[0m eta \u001b[36m0:00:00\u001b[0m\r\n",
      "\u001b[?25hDownloading kimm-0.2.5-py3-none-any.whl (123 kB)\r\n",
      "\u001b[2K   \u001b[90m━━━━━━━━━━━━━━━━━━━━━━━━━━━━━━━━━━━━━━━━\u001b[0m \u001b[32m123.4/123.4 kB\u001b[0m \u001b[31m7.0 MB/s\u001b[0m eta \u001b[36m0:00:00\u001b[0m\r\n",
      "\u001b[?25hInstalling collected packages: keras, kimm\r\n",
      "  Attempting uninstall: keras\r\n",
      "    Found existing installation: keras 3.3.3\r\n",
      "    Uninstalling keras-3.3.3:\r\n",
      "      Successfully uninstalled keras-3.3.3\r\n",
      "Successfully installed keras-3.7.0 kimm-0.2.5\r\n"
     ]
    }
   ],
   "source": [
    "!pip install keras kimm -U"
   ]
  },
  {
   "cell_type": "code",
   "execution_count": 2,
   "id": "b8202492",
   "metadata": {
    "execution": {
     "iopub.execute_input": "2024-12-06T21:44:17.266601Z",
     "iopub.status.busy": "2024-12-06T21:44:17.266311Z",
     "iopub.status.idle": "2024-12-06T21:44:17.271976Z",
     "shell.execute_reply": "2024-12-06T21:44:17.271252Z"
    },
    "papermill": {
     "duration": 0.013635,
     "end_time": "2024-12-06T21:44:17.273679",
     "exception": false,
     "start_time": "2024-12-06T21:44:17.260044",
     "status": "completed"
    },
    "tags": []
   },
   "outputs": [
    {
     "name": "stdout",
     "output_type": "stream",
     "text": [
      "/\n"
     ]
    }
   ],
   "source": [
    "%cd ../../"
   ]
  },
  {
   "cell_type": "code",
   "execution_count": 3,
   "id": "3bd13538",
   "metadata": {
    "execution": {
     "iopub.execute_input": "2024-12-06T21:44:17.284964Z",
     "iopub.status.busy": "2024-12-06T21:44:17.284746Z",
     "iopub.status.idle": "2024-12-06T21:44:20.236332Z",
     "shell.execute_reply": "2024-12-06T21:44:20.235088Z"
    },
    "id": "4bedI2X2QDdf",
    "papermill": {
     "duration": 2.959642,
     "end_time": "2024-12-06T21:44:20.238428",
     "exception": false,
     "start_time": "2024-12-06T21:44:17.278786",
     "status": "completed"
    },
    "tags": []
   },
   "outputs": [],
   "source": [
    "# set seed\n",
    "seed = 42\n",
    "\n",
    "# set n train and test images\n",
    "n_train_images = 4000\n",
    "n_test_images = 300\n",
    "\n",
    "# set batch size\n",
    "batch_size = 16\n",
    "\n",
    "# set num classes\n",
    "num_classes = 5\n",
    "\n",
    "# set class names\n",
    "class_names = ['tiger', 'lynx', 'bear', 'deer', 'bird']\n",
    "\n",
    "# define paths to train and test images\n",
    "images_input_dir = 'kaggle/input/preprocess-images/images'\n",
    "images_sampled_dir = 'images'\n",
    "!mkdir -p \"$images_sampled_dir\"\n",
    "train_dir = images_input_dir + '/train'\n",
    "train_dir_sampled = images_sampled_dir + '/train_sampled'\n",
    "test_dir = images_input_dir + '/test'\n",
    "test_dir_sampled = images_sampled_dir + '/test_sampled'\n",
    "test2_dir = images_input_dir + '/test2'\n",
    "\n",
    "# define path to model dir\n",
    "model_dir = 'kaggle/working/model'\n",
    "!mkdir -p \"$model_dir\"\n",
    "model_path = model_dir + '/model.keras'\n",
    "model_constructor = 'EfficientNetV2M'\n",
    "\n",
    "# define path to media dir\n",
    "media_dir = 'kaggle/working/media'\n",
    "!mkdir -p \"$media_dir\""
   ]
  },
  {
   "cell_type": "code",
   "execution_count": 4,
   "id": "ca88c622",
   "metadata": {
    "execution": {
     "iopub.execute_input": "2024-12-06T21:44:20.250423Z",
     "iopub.status.busy": "2024-12-06T21:44:20.250134Z",
     "iopub.status.idle": "2024-12-06T21:44:34.293767Z",
     "shell.execute_reply": "2024-12-06T21:44:34.293113Z"
    },
    "id": "WNSWKPrzEzy_",
    "papermill": {
     "duration": 14.051946,
     "end_time": "2024-12-06T21:44:34.295769",
     "exception": false,
     "start_time": "2024-12-06T21:44:20.243823",
     "status": "completed"
    },
    "tags": []
   },
   "outputs": [],
   "source": [
    "import os\n",
    "import time\n",
    "import shutil\n",
    "import random\n",
    "import numpy as np\n",
    "\n",
    "import keras\n",
    "from keras import layers, optimizers, losses, callbacks, saving\n",
    "import kimm\n",
    "import tensorflow as tf\n",
    "import tensorflow_datasets as tfds\n",
    "from sklearn.metrics import precision_score, recall_score, f1_score, confusion_matrix, classification_report\n",
    "\n",
    "import matplotlib.pyplot as plt\n",
    "import seaborn as sns\n",
    "\n",
    "import wandb\n",
    "from kaggle_secrets import UserSecretsClient"
   ]
  },
  {
   "cell_type": "code",
   "execution_count": 5,
   "id": "87c7cf6d",
   "metadata": {
    "execution": {
     "iopub.execute_input": "2024-12-06T21:44:34.307656Z",
     "iopub.status.busy": "2024-12-06T21:44:34.307413Z",
     "iopub.status.idle": "2024-12-06T21:44:34.314476Z",
     "shell.execute_reply": "2024-12-06T21:44:34.313650Z"
    },
    "id": "RjGj2LDNR15z",
    "papermill": {
     "duration": 0.014715,
     "end_time": "2024-12-06T21:44:34.316012",
     "exception": false,
     "start_time": "2024-12-06T21:44:34.301297",
     "status": "completed"
    },
    "tags": []
   },
   "outputs": [],
   "source": [
    "def sample_images(source_dir, target_dir, samples_per_class, seed=42):\n",
    "    \"\"\"\n",
    "    Samples a fixed number of images per class from a directory structure.\n",
    "\n",
    "    Args:\n",
    "        source_dir (str): Path to the source dataset directory.\n",
    "        target_dir (str): Path to the target dataset directory to store sampled data.\n",
    "        samples_per_class (int): Number of images to sample per class.\n",
    "        seed (int): Random seed for reproducibility.\n",
    "    \"\"\"\n",
    "    random.seed(seed)\n",
    "\n",
    "    if not os.path.exists(target_dir):\n",
    "        os.makedirs(target_dir)\n",
    "\n",
    "    for class_name in os.listdir(source_dir):\n",
    "        class_path = os.path.join(source_dir, class_name)\n",
    "        if os.path.isdir(class_path):\n",
    "            sampled_class_dir = os.path.join(target_dir, class_name)\n",
    "            os.makedirs(sampled_class_dir, exist_ok=True)\n",
    "\n",
    "            # list and shuffle all files in class directory\n",
    "            all_images = os.listdir(class_path)\n",
    "            random.shuffle(all_images)\n",
    "\n",
    "            # select desired number of samples\n",
    "            sampled_images = all_images[:samples_per_class]\n",
    "\n",
    "            # copy sampled images to new directory\n",
    "            for image_name in sampled_images:\n",
    "                source_image_path = os.path.join(class_path, image_name)\n",
    "                target_image_path = os.path.join(sampled_class_dir, image_name)\n",
    "                shutil.copy(source_image_path, target_image_path)"
   ]
  },
  {
   "cell_type": "code",
   "execution_count": 6,
   "id": "f0c1246f",
   "metadata": {
    "execution": {
     "iopub.execute_input": "2024-12-06T21:44:34.326960Z",
     "iopub.status.busy": "2024-12-06T21:44:34.326744Z",
     "iopub.status.idle": "2024-12-06T21:44:37.312128Z",
     "shell.execute_reply": "2024-12-06T21:44:37.310930Z"
    },
    "papermill": {
     "duration": 2.993188,
     "end_time": "2024-12-06T21:44:37.314206",
     "exception": false,
     "start_time": "2024-12-06T21:44:34.321018",
     "status": "completed"
    },
    "tags": []
   },
   "outputs": [
    {
     "name": "stderr",
     "output_type": "stream",
     "text": [
      "/opt/conda/lib/python3.10/pty.py:89: RuntimeWarning: os.fork() was called. os.fork() is incompatible with multithreaded code, and JAX is multithreaded, so this will likely lead to a deadlock.\n",
      "  pid, fd = os.forkpty()\n"
     ]
    },
    {
     "name": "stdout",
     "output_type": "stream",
     "text": [
      "\u001b[34m\u001b[1mwandb\u001b[0m: \u001b[33mWARNING\u001b[0m If you're specifying your api key in code, ensure this code is not shared publicly.\r\n",
      "\u001b[34m\u001b[1mwandb\u001b[0m: \u001b[33mWARNING\u001b[0m Consider setting the WANDB_API_KEY environment variable, or running `wandb login` from the command line.\r\n",
      "\u001b[34m\u001b[1mwandb\u001b[0m: Appending key for api.wandb.ai to your netrc file: /root/.netrc\r\n"
     ]
    }
   ],
   "source": [
    "# log in to w&b using api key\n",
    "user_secrets = UserSecretsClient()\n",
    "key = user_secrets.get_secret('wandb')\n",
    "!wandb login $key"
   ]
  },
  {
   "cell_type": "markdown",
   "id": "45633388",
   "metadata": {
    "id": "o-oFY9SuE8dT",
    "papermill": {
     "duration": 0.004939,
     "end_time": "2024-12-06T21:44:37.324590",
     "exception": false,
     "start_time": "2024-12-06T21:44:37.319651",
     "status": "completed"
    },
    "tags": []
   },
   "source": [
    "## Prepare train and test datasets"
   ]
  },
  {
   "cell_type": "code",
   "execution_count": 7,
   "id": "687c8af9",
   "metadata": {
    "execution": {
     "iopub.execute_input": "2024-12-06T21:44:37.336373Z",
     "iopub.status.busy": "2024-12-06T21:44:37.336012Z",
     "iopub.status.idle": "2024-12-06T21:46:46.722830Z",
     "shell.execute_reply": "2024-12-06T21:46:46.722032Z"
    },
    "id": "KewO2flaRgLu",
    "papermill": {
     "duration": 129.395277,
     "end_time": "2024-12-06T21:46:46.724985",
     "exception": false,
     "start_time": "2024-12-06T21:44:37.329708",
     "status": "completed"
    },
    "tags": []
   },
   "outputs": [],
   "source": [
    "# create new directory with sampled train images\n",
    "sample_images(train_dir, train_dir_sampled, n_train_images)"
   ]
  },
  {
   "cell_type": "code",
   "execution_count": 8,
   "id": "c40a54e9",
   "metadata": {
    "execution": {
     "iopub.execute_input": "2024-12-06T21:46:46.737310Z",
     "iopub.status.busy": "2024-12-06T21:46:46.737026Z",
     "iopub.status.idle": "2024-12-06T21:46:56.261127Z",
     "shell.execute_reply": "2024-12-06T21:46:56.260405Z"
    },
    "id": "feQggHlSWEh4",
    "papermill": {
     "duration": 9.532414,
     "end_time": "2024-12-06T21:46:56.263128",
     "exception": false,
     "start_time": "2024-12-06T21:46:46.730714",
     "status": "completed"
    },
    "tags": []
   },
   "outputs": [],
   "source": [
    "# create new directory with sampled test images\n",
    "sample_images(test_dir, test_dir_sampled, n_test_images)"
   ]
  },
  {
   "cell_type": "code",
   "execution_count": 9,
   "id": "185085ac",
   "metadata": {
    "execution": {
     "iopub.execute_input": "2024-12-06T21:46:56.274905Z",
     "iopub.status.busy": "2024-12-06T21:46:56.274659Z",
     "iopub.status.idle": "2024-12-06T21:47:00.629226Z",
     "shell.execute_reply": "2024-12-06T21:47:00.628397Z"
    },
    "id": "J5i-u-VSE74K",
    "outputId": "cda0d93f-4445-41f3-bb1b-5b1942d838b6",
    "papermill": {
     "duration": 4.362346,
     "end_time": "2024-12-06T21:47:00.631018",
     "exception": false,
     "start_time": "2024-12-06T21:46:56.268672",
     "status": "completed"
    },
    "tags": []
   },
   "outputs": [
    {
     "name": "stdout",
     "output_type": "stream",
     "text": [
      "Found 20000 files belonging to 5 classes.\n",
      "Found 1500 files belonging to 5 classes.\n",
      "Found 303 files belonging to 1 classes.\n",
      "Number of train samples: -2\n",
      "Number of test samples: -2\n"
     ]
    }
   ],
   "source": [
    "# create train dataset\n",
    "train_ds = tf.keras.preprocessing.image_dataset_from_directory(\n",
    "    train_dir_sampled,\n",
    "    label_mode='categorical',\n",
    "    shuffle=True,\n",
    "    seed=seed,\n",
    ")\n",
    "\n",
    "# create test dataset\n",
    "test_ds = tf.keras.preprocessing.image_dataset_from_directory(\n",
    "    test_dir_sampled,\n",
    "    label_mode='categorical',\n",
    "    shuffle=False,\n",
    ")\n",
    "\n",
    "# create test2 dataset\n",
    "test2_ds = tf.keras.preprocessing.image_dataset_from_directory(\n",
    "    test2_dir,\n",
    "    label_mode='categorical',\n",
    "    shuffle=False,\n",
    ")\n",
    "\n",
    "# we need to unbatch because there's somehow an unwanted additional dimension\n",
    "train_ds = train_ds.unbatch()\n",
    "test_ds = test_ds.unbatch()\n",
    "test2_ds = test2_ds.unbatch()\n",
    "\n",
    "print(f'Number of train samples: {train_ds.cardinality()}')\n",
    "print(f'Number of test samples: {test_ds.cardinality()}')"
   ]
  },
  {
   "cell_type": "code",
   "execution_count": 10,
   "id": "f6c51bb3",
   "metadata": {
    "execution": {
     "iopub.execute_input": "2024-12-06T21:47:00.643333Z",
     "iopub.status.busy": "2024-12-06T21:47:00.642881Z",
     "iopub.status.idle": "2024-12-06T21:47:00.647082Z",
     "shell.execute_reply": "2024-12-06T21:47:00.646235Z"
    },
    "id": "myqLQZuqFZkx",
    "outputId": "1636afdc-4dcd-4ad9-9041-bedfc196f415",
    "papermill": {
     "duration": 0.012059,
     "end_time": "2024-12-06T21:47:00.648832",
     "exception": false,
     "start_time": "2024-12-06T21:47:00.636773",
     "status": "completed"
    },
    "tags": []
   },
   "outputs": [
    {
     "name": "stdout",
     "output_type": "stream",
     "text": [
      "(TensorSpec(shape=(256, 256, 3), dtype=tf.float32, name=None), TensorSpec(shape=(5,), dtype=tf.float32, name=None)) (TensorSpec(shape=(256, 256, 3), dtype=tf.float32, name=None), TensorSpec(shape=(5,), dtype=tf.float32, name=None))\n"
     ]
    }
   ],
   "source": [
    "# check dimensions\n",
    "print(train_ds.element_spec, test_ds.element_spec)"
   ]
  },
  {
   "cell_type": "code",
   "execution_count": 11,
   "id": "7ecb2c14",
   "metadata": {
    "execution": {
     "iopub.execute_input": "2024-12-06T21:47:00.660592Z",
     "iopub.status.busy": "2024-12-06T21:47:00.660341Z",
     "iopub.status.idle": "2024-12-06T21:47:00.740460Z",
     "shell.execute_reply": "2024-12-06T21:47:00.739811Z"
    },
    "id": "YCc38anvFgJc",
    "papermill": {
     "duration": 0.087942,
     "end_time": "2024-12-06T21:47:00.742079",
     "exception": false,
     "start_time": "2024-12-06T21:47:00.654137",
     "status": "completed"
    },
    "tags": []
   },
   "outputs": [],
   "source": [
    "# setup dataset with tf.data\n",
    "resize_fn = keras.layers.Resizing(224, 224)\n",
    "\n",
    "train_ds = train_ds.map(lambda x, y: (resize_fn(x), y))\n",
    "test_ds = test_ds.map(lambda x, y: (resize_fn(x), y))\n",
    "test2_ds = test2_ds.map(lambda x, y: (resize_fn(x), y))\n",
    "\n",
    "train_ds = train_ds.batch(batch_size).prefetch(tf.data.AUTOTUNE).cache()\n",
    "test_ds = test_ds.batch(batch_size).prefetch(tf.data.AUTOTUNE).cache()\n",
    "test2_ds = test2_ds.batch(batch_size).prefetch(tf.data.AUTOTUNE).cache()"
   ]
  },
  {
   "cell_type": "markdown",
   "id": "d56a6c32",
   "metadata": {
    "id": "CdVE1QLMFtA5",
    "papermill": {
     "duration": 0.005146,
     "end_time": "2024-12-06T21:47:00.752656",
     "exception": false,
     "start_time": "2024-12-06T21:47:00.747510",
     "status": "completed"
    },
    "tags": []
   },
   "source": [
    "## Prepare model"
   ]
  },
  {
   "cell_type": "code",
   "execution_count": 12,
   "id": "c2b21306",
   "metadata": {
    "execution": {
     "iopub.execute_input": "2024-12-06T21:47:00.773118Z",
     "iopub.status.busy": "2024-12-06T21:47:00.772721Z",
     "iopub.status.idle": "2024-12-06T21:47:52.202153Z",
     "shell.execute_reply": "2024-12-06T21:47:52.201267Z"
    },
    "id": "3mmwlJBDFf_6",
    "outputId": "73087a5a-85e9-43f0-bdee-b067a8168bcb",
    "papermill": {
     "duration": 51.450896,
     "end_time": "2024-12-06T21:47:52.210185",
     "exception": false,
     "start_time": "2024-12-06T21:47:00.759289",
     "status": "completed"
    },
    "tags": []
   },
   "outputs": [
    {
     "name": "stdout",
     "output_type": "stream",
     "text": [
      "Downloading data from https://github.com/james77777778/keras-image-models/releases/download/0.1.0/efficientnetv2m_tf_efficientnetv2_m.in21k_ft_in1k.keras\n",
      "\u001b[1m219481518/219481518\u001b[0m \u001b[32m━━━━━━━━━━━━━━━━━━━━\u001b[0m\u001b[37m\u001b[0m \u001b[1m1s\u001b[0m 0us/step\n"
     ]
    },
    {
     "data": {
      "text/html": [
       "<pre style=\"white-space:pre;overflow-x:auto;line-height:normal;font-family:Menlo,'DejaVu Sans Mono',consolas,'Courier New',monospace\"><span style=\"font-weight: bold\">Model: \"functional\"</span>\n",
       "</pre>\n"
      ],
      "text/plain": [
       "\u001b[1mModel: \"functional\"\u001b[0m\n"
      ]
     },
     "metadata": {},
     "output_type": "display_data"
    },
    {
     "data": {
      "text/html": [
       "<pre style=\"white-space:pre;overflow-x:auto;line-height:normal;font-family:Menlo,'DejaVu Sans Mono',consolas,'Courier New',monospace\">┏━━━━━━━━━━━━━━━━━━━━━━━━━━━━━┳━━━━━━━━━━━━━━━━━━━━━━━┳━━━━━━━━━━━━┳━━━━━━━┓\n",
       "┃<span style=\"font-weight: bold\"> Layer (type)                </span>┃<span style=\"font-weight: bold\"> Output Shape          </span>┃<span style=\"font-weight: bold\">    Param # </span>┃<span style=\"font-weight: bold\"> Trai… </span>┃\n",
       "┡━━━━━━━━━━━━━━━━━━━━━━━━━━━━━╇━━━━━━━━━━━━━━━━━━━━━━━╇━━━━━━━━━━━━╇━━━━━━━┩\n",
       "│ input_layer_1 (<span style=\"color: #0087ff; text-decoration-color: #0087ff\">InputLayer</span>)  │ (<span style=\"color: #00d7ff; text-decoration-color: #00d7ff\">None</span>, <span style=\"color: #00af00; text-decoration-color: #00af00\">224</span>, <span style=\"color: #00af00; text-decoration-color: #00af00\">224</span>, <span style=\"color: #00af00; text-decoration-color: #00af00\">3</span>)   │          <span style=\"color: #00af00; text-decoration-color: #00af00\">0</span> │   <span style=\"font-weight: bold\">-</span>   │\n",
       "├─────────────────────────────┼───────────────────────┼────────────┼───────┤\n",
       "│ EfficientNetV2M             │ (<span style=\"color: #00d7ff; text-decoration-color: #00d7ff\">None</span>, <span style=\"color: #00af00; text-decoration-color: #00af00\">7</span>, <span style=\"color: #00af00; text-decoration-color: #00af00\">7</span>, <span style=\"color: #00af00; text-decoration-color: #00af00\">1280</span>)    │ <span style=\"color: #00af00; text-decoration-color: #00af00\">53,150,388</span> │   <span style=\"color: #ff0000; text-decoration-color: #ff0000; font-weight: bold\">N</span>   │\n",
       "│ (<span style=\"color: #0087ff; text-decoration-color: #0087ff\">EfficientNetV2M</span>)           │                       │            │       │\n",
       "├─────────────────────────────┼───────────────────────┼────────────┼───────┤\n",
       "│ global_average_pooling2d    │ (<span style=\"color: #00d7ff; text-decoration-color: #00d7ff\">None</span>, <span style=\"color: #00af00; text-decoration-color: #00af00\">1280</span>)          │          <span style=\"color: #00af00; text-decoration-color: #00af00\">0</span> │   <span style=\"font-weight: bold\">-</span>   │\n",
       "│ (<span style=\"color: #0087ff; text-decoration-color: #0087ff\">GlobalAveragePooling2D</span>)    │                       │            │       │\n",
       "├─────────────────────────────┼───────────────────────┼────────────┼───────┤\n",
       "│ dropout (<span style=\"color: #0087ff; text-decoration-color: #0087ff\">Dropout</span>)           │ (<span style=\"color: #00d7ff; text-decoration-color: #00d7ff\">None</span>, <span style=\"color: #00af00; text-decoration-color: #00af00\">1280</span>)          │          <span style=\"color: #00af00; text-decoration-color: #00af00\">0</span> │   <span style=\"font-weight: bold\">-</span>   │\n",
       "├─────────────────────────────┼───────────────────────┼────────────┼───────┤\n",
       "│ dense (<span style=\"color: #0087ff; text-decoration-color: #0087ff\">Dense</span>)               │ (<span style=\"color: #00d7ff; text-decoration-color: #00d7ff\">None</span>, <span style=\"color: #00af00; text-decoration-color: #00af00\">5</span>)             │      <span style=\"color: #00af00; text-decoration-color: #00af00\">6,405</span> │   <span style=\"color: #00af00; text-decoration-color: #00af00; font-weight: bold\">Y</span>   │\n",
       "└─────────────────────────────┴───────────────────────┴────────────┴───────┘\n",
       "</pre>\n"
      ],
      "text/plain": [
       "┏━━━━━━━━━━━━━━━━━━━━━━━━━━━━━┳━━━━━━━━━━━━━━━━━━━━━━━┳━━━━━━━━━━━━┳━━━━━━━┓\n",
       "┃\u001b[1m \u001b[0m\u001b[1mLayer (type)               \u001b[0m\u001b[1m \u001b[0m┃\u001b[1m \u001b[0m\u001b[1mOutput Shape         \u001b[0m\u001b[1m \u001b[0m┃\u001b[1m \u001b[0m\u001b[1m   Param #\u001b[0m\u001b[1m \u001b[0m┃\u001b[1m \u001b[0m\u001b[1mTrai…\u001b[0m\u001b[1m \u001b[0m┃\n",
       "┡━━━━━━━━━━━━━━━━━━━━━━━━━━━━━╇━━━━━━━━━━━━━━━━━━━━━━━╇━━━━━━━━━━━━╇━━━━━━━┩\n",
       "│ input_layer_1 (\u001b[38;5;33mInputLayer\u001b[0m)  │ (\u001b[38;5;45mNone\u001b[0m, \u001b[38;5;34m224\u001b[0m, \u001b[38;5;34m224\u001b[0m, \u001b[38;5;34m3\u001b[0m)   │          \u001b[38;5;34m0\u001b[0m │   \u001b[1m-\u001b[0m   │\n",
       "├─────────────────────────────┼───────────────────────┼────────────┼───────┤\n",
       "│ EfficientNetV2M             │ (\u001b[38;5;45mNone\u001b[0m, \u001b[38;5;34m7\u001b[0m, \u001b[38;5;34m7\u001b[0m, \u001b[38;5;34m1280\u001b[0m)    │ \u001b[38;5;34m53,150,388\u001b[0m │   \u001b[1;91mN\u001b[0m   │\n",
       "│ (\u001b[38;5;33mEfficientNetV2M\u001b[0m)           │                       │            │       │\n",
       "├─────────────────────────────┼───────────────────────┼────────────┼───────┤\n",
       "│ global_average_pooling2d    │ (\u001b[38;5;45mNone\u001b[0m, \u001b[38;5;34m1280\u001b[0m)          │          \u001b[38;5;34m0\u001b[0m │   \u001b[1m-\u001b[0m   │\n",
       "│ (\u001b[38;5;33mGlobalAveragePooling2D\u001b[0m)    │                       │            │       │\n",
       "├─────────────────────────────┼───────────────────────┼────────────┼───────┤\n",
       "│ dropout (\u001b[38;5;33mDropout\u001b[0m)           │ (\u001b[38;5;45mNone\u001b[0m, \u001b[38;5;34m1280\u001b[0m)          │          \u001b[38;5;34m0\u001b[0m │   \u001b[1m-\u001b[0m   │\n",
       "├─────────────────────────────┼───────────────────────┼────────────┼───────┤\n",
       "│ dense (\u001b[38;5;33mDense\u001b[0m)               │ (\u001b[38;5;45mNone\u001b[0m, \u001b[38;5;34m5\u001b[0m)             │      \u001b[38;5;34m6,405\u001b[0m │   \u001b[1;38;5;34mY\u001b[0m   │\n",
       "└─────────────────────────────┴───────────────────────┴────────────┴───────┘\n"
      ]
     },
     "metadata": {},
     "output_type": "display_data"
    },
    {
     "data": {
      "text/html": [
       "<pre style=\"white-space:pre;overflow-x:auto;line-height:normal;font-family:Menlo,'DejaVu Sans Mono',consolas,'Courier New',monospace\"><span style=\"font-weight: bold\"> Total params: </span><span style=\"color: #00af00; text-decoration-color: #00af00\">53,156,793</span> (202.78 MB)\n",
       "</pre>\n"
      ],
      "text/plain": [
       "\u001b[1m Total params: \u001b[0m\u001b[38;5;34m53,156,793\u001b[0m (202.78 MB)\n"
      ]
     },
     "metadata": {},
     "output_type": "display_data"
    },
    {
     "data": {
      "text/html": [
       "<pre style=\"white-space:pre;overflow-x:auto;line-height:normal;font-family:Menlo,'DejaVu Sans Mono',consolas,'Courier New',monospace\"><span style=\"font-weight: bold\"> Trainable params: </span><span style=\"color: #00af00; text-decoration-color: #00af00\">6,405</span> (25.02 KB)\n",
       "</pre>\n"
      ],
      "text/plain": [
       "\u001b[1m Trainable params: \u001b[0m\u001b[38;5;34m6,405\u001b[0m (25.02 KB)\n"
      ]
     },
     "metadata": {},
     "output_type": "display_data"
    },
    {
     "data": {
      "text/html": [
       "<pre style=\"white-space:pre;overflow-x:auto;line-height:normal;font-family:Menlo,'DejaVu Sans Mono',consolas,'Courier New',monospace\"><span style=\"font-weight: bold\"> Non-trainable params: </span><span style=\"color: #00af00; text-decoration-color: #00af00\">53,150,388</span> (202.75 MB)\n",
       "</pre>\n"
      ],
      "text/plain": [
       "\u001b[1m Non-trainable params: \u001b[0m\u001b[38;5;34m53,150,388\u001b[0m (202.75 MB)\n"
      ]
     },
     "metadata": {},
     "output_type": "display_data"
    }
   ],
   "source": [
    "# create base model\n",
    "if model_constructor == 'EfficientNetV2B0':\n",
    "    base_model = kimm.models.EfficientNetV2B0(\n",
    "        input_shape=(224, 224, 3),\n",
    "        include_preprocessing=True,\n",
    "        include_top=False,\n",
    "    )\n",
    "    model_params = '5 mio'\n",
    "    frozen_file_size = '26 mb'\n",
    "elif model_constructor == 'EfficientNetV2B2':\n",
    "    base_model = kimm.models.EfficientNetV2B2(\n",
    "        input_shape=(224, 224, 3),\n",
    "        include_preprocessing=True,\n",
    "        include_top=False,\n",
    "    )\n",
    "    model_params = '9 mio'\n",
    "    frozen_file_size = '37 mb'\n",
    "elif model_constructor == 'EfficientNetV2S':\n",
    "    base_model = kimm.models.EfficientNetV2S(\n",
    "        input_shape=(224, 224, 3),\n",
    "        include_preprocessing=True,\n",
    "        include_top=False,\n",
    "    )\n",
    "    model_params = '21 mio'\n",
    "    frozen_file_size = '84 mb'\n",
    "elif model_constructor == 'EfficientNetV2M':\n",
    "    base_model = kimm.models.EfficientNetV2M(\n",
    "        input_shape=(224, 224, 3),\n",
    "        include_preprocessing=True,\n",
    "        include_top=False,\n",
    "    )\n",
    "    model_params = '54 mio'\n",
    "    frozen_file_size = '216 mb'\n",
    "elif model_constructor == 'EfficientNetV2L':\n",
    "    base_model = kimm.models.EfficientNetV2L(\n",
    "        input_shape=(224, 224, 3),\n",
    "        include_preprocessing=True,\n",
    "        include_top=False,\n",
    "    )\n",
    "    model_params = '119 mio'\n",
    "    frozen_file_size = '475 mb'\n",
    "elif model_constructor == 'EfficientNetV2XL':\n",
    "    base_model = kimm.models.EfficientNetV2XL(\n",
    "        input_shape=(224, 224, 3),\n",
    "        include_preprocessing=True,\n",
    "        include_top=False,\n",
    "    )\n",
    "    model_params = '208 mio'\n",
    "    frozen_file_size = '835 mb'\n",
    "else:\n",
    "    raise Exception('Please select a valid model constructor.') \n",
    "\n",
    "# freeze base model\n",
    "base_model.trainable = False\n",
    "\n",
    "# create new model on top\n",
    "inputs = keras.Input(shape=(224, 224, 3))\n",
    "x = inputs\n",
    "\n",
    "# The base model contains batchnorm layers. We want to keep them in inference mode\n",
    "# when we unfreeze the base model for fine-tuning, so we make sure that the\n",
    "# base_model is running in inference mode here.\n",
    "x = base_model(x, training=False)\n",
    "x = keras.layers.GlobalAveragePooling2D()(x)\n",
    "x = keras.layers.Dropout(0.2)(x)  # regularize with dropout\n",
    "outputs = keras.layers.Dense(num_classes, activation='softmax')(x)\n",
    "model = keras.Model(inputs, outputs)\n",
    "\n",
    "model.summary(show_trainable=True)"
   ]
  },
  {
   "cell_type": "markdown",
   "id": "17da1a28",
   "metadata": {
    "id": "YcYVdF_1F9EQ",
    "papermill": {
     "duration": 0.00653,
     "end_time": "2024-12-06T21:47:52.223335",
     "exception": false,
     "start_time": "2024-12-06T21:47:52.216805",
     "status": "completed"
    },
    "tags": []
   },
   "source": [
    "## Training\n",
    "\n",
    "Follow [mewc-train](https://github.com/zaandahl/mewc-train)"
   ]
  },
  {
   "cell_type": "code",
   "execution_count": 13,
   "id": "03ddd6a7",
   "metadata": {
    "execution": {
     "iopub.execute_input": "2024-12-06T21:47:52.237980Z",
     "iopub.status.busy": "2024-12-06T21:47:52.237708Z",
     "iopub.status.idle": "2024-12-06T21:47:52.245910Z",
     "shell.execute_reply": "2024-12-06T21:47:52.245108Z"
    },
    "id": "Ho-88Fe_GxVd",
    "papermill": {
     "duration": 0.017374,
     "end_time": "2024-12-06T21:47:52.247498",
     "exception": false,
     "start_time": "2024-12-06T21:47:52.230124",
     "status": "completed"
    },
    "tags": []
   },
   "outputs": [],
   "source": [
    "df_size = int(n_train_images * num_classes)\n",
    "\n",
    "epochs = 30\n",
    "\n",
    "lr_init = 1e-4\n",
    "min_lr_frac = 1/5 # default minimum learning rate fraction of initial learning rate\n",
    "steps_per_epoch = df_size // batch_size\n",
    "total_steps = epochs * steps_per_epoch # total number of steps for monotonic exponential decay across all epochs\n",
    "lr = optimizers.schedules.ExponentialDecay(initial_learning_rate=lr_init, decay_steps=total_steps, decay_rate=min_lr_frac, staircase=False)\n",
    "amsgrad = True\n",
    "weight_decay = 1e-4\n",
    "optimizer = optimizers.AdamW(learning_rate=lr, amsgrad=amsgrad, weight_decay=weight_decay)\n",
    "\n",
    "if num_classes == 2:\n",
    "  loss_f = losses.BinaryFocalCrossentropy()  # use for binary classification tasks\n",
    "  act_f = 'sigmoid' # use for binary classification tasks\n",
    "else:\n",
    "  loss_f = losses.CategoricalFocalCrossentropy()  # use for unbalanced multi-class tasks (typical for wildlife datasets)\n",
    "  act_f = 'softmax' # use for multi-class classification tasks\n",
    "\n",
    "metrics = ['accuracy']\n",
    "\n",
    "callbacks = [callbacks.EarlyStopping(monitor='loss', mode='min', min_delta=0.001, patience=5, restore_best_weights=True)]"
   ]
  },
  {
   "cell_type": "code",
   "execution_count": 14,
   "id": "d2952d83",
   "metadata": {
    "execution": {
     "iopub.execute_input": "2024-12-06T21:47:52.261641Z",
     "iopub.status.busy": "2024-12-06T21:47:52.261370Z",
     "iopub.status.idle": "2024-12-06T21:47:52.270632Z",
     "shell.execute_reply": "2024-12-06T21:47:52.269831Z"
    },
    "id": "fAHCE7OrGCGF",
    "papermill": {
     "duration": 0.018016,
     "end_time": "2024-12-06T21:47:52.272141",
     "exception": false,
     "start_time": "2024-12-06T21:47:52.254125",
     "status": "completed"
    },
    "tags": []
   },
   "outputs": [],
   "source": [
    "model.compile(\n",
    "    optimizer=optimizer,\n",
    "    loss=loss_f,\n",
    "    metrics=metrics,\n",
    ")"
   ]
  },
  {
   "cell_type": "code",
   "execution_count": 15,
   "id": "3cb6ee04",
   "metadata": {
    "execution": {
     "iopub.execute_input": "2024-12-06T21:47:52.286433Z",
     "iopub.status.busy": "2024-12-06T21:47:52.285960Z",
     "iopub.status.idle": "2024-12-06T22:14:49.395907Z",
     "shell.execute_reply": "2024-12-06T22:14:49.394995Z"
    },
    "id": "GZKd2EixF8yO",
    "outputId": "e8424e62-1116-4b52-90af-5fe25403927f",
    "papermill": {
     "duration": 1617.119,
     "end_time": "2024-12-06T22:14:49.397725",
     "exception": false,
     "start_time": "2024-12-06T21:47:52.278725",
     "status": "completed"
    },
    "tags": []
   },
   "outputs": [
    {
     "name": "stdout",
     "output_type": "stream",
     "text": [
      "Epoch 1/30\n"
     ]
    },
    {
     "name": "stderr",
     "output_type": "stream",
     "text": [
      "WARNING: All log messages before absl::InitializeLog() is called are written to STDERR\n",
      "I0000 00:00:1733521692.631198     103 service.cc:145] XLA service 0x7f7ffc003550 initialized for platform CUDA (this does not guarantee that XLA will be used). Devices:\n",
      "I0000 00:00:1733521692.631304     103 service.cc:153]   StreamExecutor device (0): Tesla P100-PCIE-16GB, Compute Capability 6.0\n"
     ]
    },
    {
     "name": "stdout",
     "output_type": "stream",
     "text": [
      "      2/Unknown \u001b[1m33s\u001b[0m 72ms/step - accuracy: 0.1094 - loss: 0.6100"
     ]
    },
    {
     "name": "stderr",
     "output_type": "stream",
     "text": [
      "I0000 00:00:1733521705.531195     103 device_compiler.h:188] Compiled cluster using XLA!  This line is logged at most once for the lifetime of the process.\n"
     ]
    },
    {
     "name": "stdout",
     "output_type": "stream",
     "text": [
      "   1250/Unknown \u001b[1m123s\u001b[0m 72ms/step - accuracy: 0.5441 - loss: 0.2098"
     ]
    },
    {
     "name": "stderr",
     "output_type": "stream",
     "text": [
      "/opt/conda/lib/python3.10/site-packages/keras/src/trainers/epoch_iterator.py:151: UserWarning: Your input ran out of data; interrupting training. Make sure that your dataset or generator can generate at least `steps_per_epoch * epochs` batches. You may need to use the `.repeat()` function when building your dataset.\n",
      "  self._interrupted_warning()\n"
     ]
    },
    {
     "name": "stdout",
     "output_type": "stream",
     "text": [
      "\u001b[1m1250/1250\u001b[0m \u001b[32m━━━━━━━━━━━━━━━━━━━━\u001b[0m\u001b[37m\u001b[0m \u001b[1m124s\u001b[0m 72ms/step - accuracy: 0.5443 - loss: 0.2097\n",
      "Epoch 2/30\n",
      "\u001b[1m1250/1250\u001b[0m \u001b[32m━━━━━━━━━━━━━━━━━━━━\u001b[0m\u001b[37m\u001b[0m \u001b[1m71s\u001b[0m 57ms/step - accuracy: 0.8559 - loss: 0.0550\n",
      "Epoch 3/30\n",
      "\u001b[1m1250/1250\u001b[0m \u001b[32m━━━━━━━━━━━━━━━━━━━━\u001b[0m\u001b[37m\u001b[0m \u001b[1m71s\u001b[0m 57ms/step - accuracy: 0.8839 - loss: 0.0431\n",
      "Epoch 4/30\n",
      "\u001b[1m1250/1250\u001b[0m \u001b[32m━━━━━━━━━━━━━━━━━━━━\u001b[0m\u001b[37m\u001b[0m \u001b[1m71s\u001b[0m 57ms/step - accuracy: 0.8986 - loss: 0.0364\n",
      "Epoch 5/30\n",
      "\u001b[1m1250/1250\u001b[0m \u001b[32m━━━━━━━━━━━━━━━━━━━━\u001b[0m\u001b[37m\u001b[0m \u001b[1m71s\u001b[0m 57ms/step - accuracy: 0.9050 - loss: 0.0336\n",
      "Epoch 6/30\n",
      "\u001b[1m1250/1250\u001b[0m \u001b[32m━━━━━━━━━━━━━━━━━━━━\u001b[0m\u001b[37m\u001b[0m \u001b[1m71s\u001b[0m 57ms/step - accuracy: 0.9124 - loss: 0.0303\n",
      "Epoch 7/30\n",
      "\u001b[1m1250/1250\u001b[0m \u001b[32m━━━━━━━━━━━━━━━━━━━━\u001b[0m\u001b[37m\u001b[0m \u001b[1m71s\u001b[0m 57ms/step - accuracy: 0.9175 - loss: 0.0286\n",
      "Epoch 8/30\n",
      "\u001b[1m1250/1250\u001b[0m \u001b[32m━━━━━━━━━━━━━━━━━━━━\u001b[0m\u001b[37m\u001b[0m \u001b[1m72s\u001b[0m 58ms/step - accuracy: 0.9209 - loss: 0.0265\n",
      "Epoch 9/30\n",
      "\u001b[1m1250/1250\u001b[0m \u001b[32m━━━━━━━━━━━━━━━━━━━━\u001b[0m\u001b[37m\u001b[0m \u001b[1m72s\u001b[0m 58ms/step - accuracy: 0.9241 - loss: 0.0264\n",
      "Epoch 10/30\n",
      "\u001b[1m1250/1250\u001b[0m \u001b[32m━━━━━━━━━━━━━━━━━━━━\u001b[0m\u001b[37m\u001b[0m \u001b[1m72s\u001b[0m 58ms/step - accuracy: 0.9263 - loss: 0.0248\n",
      "Epoch 11/30\n",
      "\u001b[1m1250/1250\u001b[0m \u001b[32m━━━━━━━━━━━━━━━━━━━━\u001b[0m\u001b[37m\u001b[0m \u001b[1m72s\u001b[0m 58ms/step - accuracy: 0.9242 - loss: 0.0246\n",
      "Epoch 12/30\n",
      "\u001b[1m1250/1250\u001b[0m \u001b[32m━━━━━━━━━━━━━━━━━━━━\u001b[0m\u001b[37m\u001b[0m \u001b[1m72s\u001b[0m 57ms/step - accuracy: 0.9294 - loss: 0.0240\n",
      "Epoch 13/30\n",
      "\u001b[1m1250/1250\u001b[0m \u001b[32m━━━━━━━━━━━━━━━━━━━━\u001b[0m\u001b[37m\u001b[0m \u001b[1m72s\u001b[0m 57ms/step - accuracy: 0.9301 - loss: 0.0235\n",
      "Epoch 14/30\n",
      "\u001b[1m1250/1250\u001b[0m \u001b[32m━━━━━━━━━━━━━━━━━━━━\u001b[0m\u001b[37m\u001b[0m \u001b[1m71s\u001b[0m 57ms/step - accuracy: 0.9320 - loss: 0.0227\n",
      "Epoch 15/30\n",
      "\u001b[1m1250/1250\u001b[0m \u001b[32m━━━━━━━━━━━━━━━━━━━━\u001b[0m\u001b[37m\u001b[0m \u001b[1m71s\u001b[0m 56ms/step - accuracy: 0.9336 - loss: 0.0221\n",
      "Epoch 16/30\n",
      "\u001b[1m1250/1250\u001b[0m \u001b[32m━━━━━━━━━━━━━━━━━━━━\u001b[0m\u001b[37m\u001b[0m \u001b[1m71s\u001b[0m 57ms/step - accuracy: 0.9321 - loss: 0.0222\n",
      "Epoch 17/30\n",
      "\u001b[1m1250/1250\u001b[0m \u001b[32m━━━━━━━━━━━━━━━━━━━━\u001b[0m\u001b[37m\u001b[0m \u001b[1m71s\u001b[0m 57ms/step - accuracy: 0.9353 - loss: 0.0215\n",
      "Epoch 18/30\n",
      "\u001b[1m1250/1250\u001b[0m \u001b[32m━━━━━━━━━━━━━━━━━━━━\u001b[0m\u001b[37m\u001b[0m \u001b[1m71s\u001b[0m 57ms/step - accuracy: 0.9347 - loss: 0.0211\n",
      "Epoch 19/30\n",
      "\u001b[1m1250/1250\u001b[0m \u001b[32m━━━━━━━━━━━━━━━━━━━━\u001b[0m\u001b[37m\u001b[0m \u001b[1m70s\u001b[0m 56ms/step - accuracy: 0.9380 - loss: 0.0209\n",
      "Epoch 20/30\n",
      "\u001b[1m1250/1250\u001b[0m \u001b[32m━━━━━━━━━━━━━━━━━━━━\u001b[0m\u001b[37m\u001b[0m \u001b[1m70s\u001b[0m 56ms/step - accuracy: 0.9359 - loss: 0.0209\n",
      "Epoch 21/30\n",
      "\u001b[1m1250/1250\u001b[0m \u001b[32m━━━━━━━━━━━━━━━━━━━━\u001b[0m\u001b[37m\u001b[0m \u001b[1m70s\u001b[0m 56ms/step - accuracy: 0.9377 - loss: 0.0202\n",
      "Epoch 22/30\n",
      "\u001b[1m1250/1250\u001b[0m \u001b[32m━━━━━━━━━━━━━━━━━━━━\u001b[0m\u001b[37m\u001b[0m \u001b[1m70s\u001b[0m 56ms/step - accuracy: 0.9367 - loss: 0.0205\n",
      "Training time mins: 26.95\n"
     ]
    }
   ],
   "source": [
    "start_time = time.time()\n",
    "model.fit(train_ds, epochs=epochs, callbacks=callbacks)\n",
    "end_time = time.time()\n",
    "training_time_mins = round((end_time - start_time) / 60, 2)\n",
    "print(f'Training time mins: {training_time_mins}')"
   ]
  },
  {
   "cell_type": "code",
   "execution_count": 16,
   "id": "09f99a16",
   "metadata": {
    "execution": {
     "iopub.execute_input": "2024-12-06T22:14:52.150607Z",
     "iopub.status.busy": "2024-12-06T22:14:52.150254Z",
     "iopub.status.idle": "2024-12-06T22:14:53.981682Z",
     "shell.execute_reply": "2024-12-06T22:14:53.980709Z"
    },
    "id": "ik4KqmJdUbKd",
    "outputId": "d168634b-b029-4bf1-cf87-e280ace945fb",
    "papermill": {
     "duration": 3.229048,
     "end_time": "2024-12-06T22:14:53.983749",
     "exception": false,
     "start_time": "2024-12-06T22:14:50.754701",
     "status": "completed"
    },
    "tags": []
   },
   "outputs": [],
   "source": [
    "saving.save_model(model, model_path)"
   ]
  },
  {
   "cell_type": "markdown",
   "id": "c1e3241c",
   "metadata": {
    "id": "qIGU25KNO1sp",
    "papermill": {
     "duration": 1.398295,
     "end_time": "2024-12-06T22:14:56.739695",
     "exception": false,
     "start_time": "2024-12-06T22:14:55.341400",
     "status": "completed"
    },
    "tags": []
   },
   "source": [
    "## Evaluation"
   ]
  },
  {
   "cell_type": "code",
   "execution_count": 17,
   "id": "ebd3eab1",
   "metadata": {
    "execution": {
     "iopub.execute_input": "2024-12-06T22:14:59.416141Z",
     "iopub.status.busy": "2024-12-06T22:14:59.415756Z",
     "iopub.status.idle": "2024-12-06T22:15:21.353912Z",
     "shell.execute_reply": "2024-12-06T22:15:21.352909Z"
    },
    "papermill": {
     "duration": 23.267701,
     "end_time": "2024-12-06T22:15:21.355503",
     "exception": false,
     "start_time": "2024-12-06T22:14:58.087802",
     "status": "completed"
    },
    "tags": []
   },
   "outputs": [
    {
     "name": "stdout",
     "output_type": "stream",
     "text": [
      "\u001b[1m94/94\u001b[0m \u001b[32m━━━━━━━━━━━━━━━━━━━━\u001b[0m\u001b[37m\u001b[0m \u001b[1m22s\u001b[0m 131ms/step - accuracy: 0.9591 - loss: 0.0144\n",
      "Test accuracy: 93.33%\n"
     ]
    }
   ],
   "source": [
    "test_accuracy = model.evaluate(test_ds)\n",
    "print(f'Test accuracy: {test_accuracy[1] * 100:3.2f}%')"
   ]
  },
  {
   "cell_type": "code",
   "execution_count": 18,
   "id": "3cc9b19b",
   "metadata": {
    "execution": {
     "iopub.execute_input": "2024-12-06T22:15:24.077583Z",
     "iopub.status.busy": "2024-12-06T22:15:24.077245Z",
     "iopub.status.idle": "2024-12-06T22:15:42.048446Z",
     "shell.execute_reply": "2024-12-06T22:15:42.047531Z"
    },
    "id": "zyDqRJSEGM4L",
    "outputId": "09e78303-ee89-418f-cef9-f1a4900de3f2",
    "papermill": {
     "duration": 19.32501,
     "end_time": "2024-12-06T22:15:42.050143",
     "exception": false,
     "start_time": "2024-12-06T22:15:22.725133",
     "status": "completed"
    },
    "tags": []
   },
   "outputs": [
    {
     "name": "stdout",
     "output_type": "stream",
     "text": [
      "\u001b[1m19/19\u001b[0m \u001b[32m━━━━━━━━━━━━━━━━━━━━\u001b[0m\u001b[37m\u001b[0m \u001b[1m18s\u001b[0m 412ms/step - accuracy: 0.8723 - loss: 3.0560\n",
      "Test2 accuracy: 87.13%\n"
     ]
    }
   ],
   "source": [
    "test2_accuracy = model.evaluate(test2_ds)\n",
    "print(f'Test2 accuracy: {test2_accuracy[1] * 100:3.2f}%')"
   ]
  },
  {
   "cell_type": "code",
   "execution_count": 19,
   "id": "921a6beb",
   "metadata": {
    "execution": {
     "iopub.execute_input": "2024-12-06T22:15:44.742979Z",
     "iopub.status.busy": "2024-12-06T22:15:44.742662Z",
     "iopub.status.idle": "2024-12-06T22:16:15.512089Z",
     "shell.execute_reply": "2024-12-06T22:16:15.511134Z"
    },
    "id": "hpMkylclPBAB",
    "outputId": "909e4490-b5b4-48ff-a2a6-71f42226d86e",
    "papermill": {
     "duration": 33.469887,
     "end_time": "2024-12-06T22:16:16.866938",
     "exception": false,
     "start_time": "2024-12-06T22:15:43.397051",
     "status": "completed"
    },
    "tags": []
   },
   "outputs": [
    {
     "name": "stdout",
     "output_type": "stream",
     "text": [
      "\u001b[1m1/1\u001b[0m \u001b[32m━━━━━━━━━━━━━━━━━━━━\u001b[0m\u001b[37m\u001b[0m \u001b[1m9s\u001b[0m 9s/step\n",
      "\u001b[1m1/1\u001b[0m \u001b[32m━━━━━━━━━━━━━━━━━━━━\u001b[0m\u001b[37m\u001b[0m \u001b[1m0s\u001b[0m 97ms/step\n",
      "\u001b[1m1/1\u001b[0m \u001b[32m━━━━━━━━━━━━━━━━━━━━\u001b[0m\u001b[37m\u001b[0m \u001b[1m0s\u001b[0m 92ms/step\n",
      "\u001b[1m1/1\u001b[0m \u001b[32m━━━━━━━━━━━━━━━━━━━━\u001b[0m\u001b[37m\u001b[0m \u001b[1m0s\u001b[0m 95ms/step\n",
      "\u001b[1m1/1\u001b[0m \u001b[32m━━━━━━━━━━━━━━━━━━━━\u001b[0m\u001b[37m\u001b[0m \u001b[1m0s\u001b[0m 100ms/step\n",
      "\u001b[1m1/1\u001b[0m \u001b[32m━━━━━━━━━━━━━━━━━━━━\u001b[0m\u001b[37m\u001b[0m \u001b[1m0s\u001b[0m 94ms/step\n",
      "\u001b[1m1/1\u001b[0m \u001b[32m━━━━━━━━━━━━━━━━━━━━\u001b[0m\u001b[37m\u001b[0m \u001b[1m0s\u001b[0m 88ms/step\n",
      "\u001b[1m1/1\u001b[0m \u001b[32m━━━━━━━━━━━━━━━━━━━━\u001b[0m\u001b[37m\u001b[0m \u001b[1m0s\u001b[0m 95ms/step\n",
      "\u001b[1m1/1\u001b[0m \u001b[32m━━━━━━━━━━━━━━━━━━━━\u001b[0m\u001b[37m\u001b[0m \u001b[1m0s\u001b[0m 92ms/step\n",
      "\u001b[1m1/1\u001b[0m \u001b[32m━━━━━━━━━━━━━━━━━━━━\u001b[0m\u001b[37m\u001b[0m \u001b[1m0s\u001b[0m 94ms/step\n",
      "\u001b[1m1/1\u001b[0m \u001b[32m━━━━━━━━━━━━━━━━━━━━\u001b[0m\u001b[37m\u001b[0m \u001b[1m0s\u001b[0m 88ms/step\n",
      "\u001b[1m1/1\u001b[0m \u001b[32m━━━━━━━━━━━━━━━━━━━━\u001b[0m\u001b[37m\u001b[0m \u001b[1m0s\u001b[0m 88ms/step\n",
      "\u001b[1m1/1\u001b[0m \u001b[32m━━━━━━━━━━━━━━━━━━━━\u001b[0m\u001b[37m\u001b[0m \u001b[1m0s\u001b[0m 87ms/step\n",
      "\u001b[1m1/1\u001b[0m \u001b[32m━━━━━━━━━━━━━━━━━━━━\u001b[0m\u001b[37m\u001b[0m \u001b[1m0s\u001b[0m 93ms/step\n",
      "\u001b[1m1/1\u001b[0m \u001b[32m━━━━━━━━━━━━━━━━━━━━\u001b[0m\u001b[37m\u001b[0m \u001b[1m0s\u001b[0m 93ms/step\n",
      "\u001b[1m1/1\u001b[0m \u001b[32m━━━━━━━━━━━━━━━━━━━━\u001b[0m\u001b[37m\u001b[0m \u001b[1m0s\u001b[0m 88ms/step\n",
      "\u001b[1m1/1\u001b[0m \u001b[32m━━━━━━━━━━━━━━━━━━━━\u001b[0m\u001b[37m\u001b[0m \u001b[1m0s\u001b[0m 89ms/step\n",
      "\u001b[1m1/1\u001b[0m \u001b[32m━━━━━━━━━━━━━━━━━━━━\u001b[0m\u001b[37m\u001b[0m \u001b[1m0s\u001b[0m 87ms/step\n",
      "\u001b[1m1/1\u001b[0m \u001b[32m━━━━━━━━━━━━━━━━━━━━\u001b[0m\u001b[37m\u001b[0m \u001b[1m0s\u001b[0m 86ms/step\n",
      "\u001b[1m1/1\u001b[0m \u001b[32m━━━━━━━━━━━━━━━━━━━━\u001b[0m\u001b[37m\u001b[0m \u001b[1m0s\u001b[0m 86ms/step\n",
      "\u001b[1m1/1\u001b[0m \u001b[32m━━━━━━━━━━━━━━━━━━━━\u001b[0m\u001b[37m\u001b[0m \u001b[1m0s\u001b[0m 88ms/step\n",
      "\u001b[1m1/1\u001b[0m \u001b[32m━━━━━━━━━━━━━━━━━━━━\u001b[0m\u001b[37m\u001b[0m \u001b[1m0s\u001b[0m 89ms/step\n",
      "\u001b[1m1/1\u001b[0m \u001b[32m━━━━━━━━━━━━━━━━━━━━\u001b[0m\u001b[37m\u001b[0m \u001b[1m0s\u001b[0m 93ms/step\n",
      "\u001b[1m1/1\u001b[0m \u001b[32m━━━━━━━━━━━━━━━━━━━━\u001b[0m\u001b[37m\u001b[0m \u001b[1m0s\u001b[0m 86ms/step\n",
      "\u001b[1m1/1\u001b[0m \u001b[32m━━━━━━━━━━━━━━━━━━━━\u001b[0m\u001b[37m\u001b[0m \u001b[1m0s\u001b[0m 90ms/step\n",
      "\u001b[1m1/1\u001b[0m \u001b[32m━━━━━━━━━━━━━━━━━━━━\u001b[0m\u001b[37m\u001b[0m \u001b[1m0s\u001b[0m 85ms/step\n",
      "\u001b[1m1/1\u001b[0m \u001b[32m━━━━━━━━━━━━━━━━━━━━\u001b[0m\u001b[37m\u001b[0m \u001b[1m0s\u001b[0m 87ms/step\n",
      "\u001b[1m1/1\u001b[0m \u001b[32m━━━━━━━━━━━━━━━━━━━━\u001b[0m\u001b[37m\u001b[0m \u001b[1m0s\u001b[0m 89ms/step\n",
      "\u001b[1m1/1\u001b[0m \u001b[32m━━━━━━━━━━━━━━━━━━━━\u001b[0m\u001b[37m\u001b[0m \u001b[1m0s\u001b[0m 91ms/step\n",
      "\u001b[1m1/1\u001b[0m \u001b[32m━━━━━━━━━━━━━━━━━━━━\u001b[0m\u001b[37m\u001b[0m \u001b[1m0s\u001b[0m 88ms/step\n",
      "\u001b[1m1/1\u001b[0m \u001b[32m━━━━━━━━━━━━━━━━━━━━\u001b[0m\u001b[37m\u001b[0m \u001b[1m0s\u001b[0m 92ms/step\n",
      "\u001b[1m1/1\u001b[0m \u001b[32m━━━━━━━━━━━━━━━━━━━━\u001b[0m\u001b[37m\u001b[0m \u001b[1m0s\u001b[0m 92ms/step\n",
      "\u001b[1m1/1\u001b[0m \u001b[32m━━━━━━━━━━━━━━━━━━━━\u001b[0m\u001b[37m\u001b[0m \u001b[1m0s\u001b[0m 105ms/step\n",
      "\u001b[1m1/1\u001b[0m \u001b[32m━━━━━━━━━━━━━━━━━━━━\u001b[0m\u001b[37m\u001b[0m \u001b[1m0s\u001b[0m 94ms/step\n",
      "\u001b[1m1/1\u001b[0m \u001b[32m━━━━━━━━━━━━━━━━━━━━\u001b[0m\u001b[37m\u001b[0m \u001b[1m0s\u001b[0m 96ms/step\n",
      "\u001b[1m1/1\u001b[0m \u001b[32m━━━━━━━━━━━━━━━━━━━━\u001b[0m\u001b[37m\u001b[0m \u001b[1m0s\u001b[0m 98ms/step\n",
      "\u001b[1m1/1\u001b[0m \u001b[32m━━━━━━━━━━━━━━━━━━━━\u001b[0m\u001b[37m\u001b[0m \u001b[1m0s\u001b[0m 87ms/step\n",
      "\u001b[1m1/1\u001b[0m \u001b[32m━━━━━━━━━━━━━━━━━━━━\u001b[0m\u001b[37m\u001b[0m \u001b[1m0s\u001b[0m 94ms/step\n",
      "\u001b[1m1/1\u001b[0m \u001b[32m━━━━━━━━━━━━━━━━━━━━\u001b[0m\u001b[37m\u001b[0m \u001b[1m0s\u001b[0m 89ms/step\n",
      "\u001b[1m1/1\u001b[0m \u001b[32m━━━━━━━━━━━━━━━━━━━━\u001b[0m\u001b[37m\u001b[0m \u001b[1m0s\u001b[0m 94ms/step\n",
      "\u001b[1m1/1\u001b[0m \u001b[32m━━━━━━━━━━━━━━━━━━━━\u001b[0m\u001b[37m\u001b[0m \u001b[1m0s\u001b[0m 94ms/step\n",
      "\u001b[1m1/1\u001b[0m \u001b[32m━━━━━━━━━━━━━━━━━━━━\u001b[0m\u001b[37m\u001b[0m \u001b[1m0s\u001b[0m 92ms/step\n",
      "\u001b[1m1/1\u001b[0m \u001b[32m━━━━━━━━━━━━━━━━━━━━\u001b[0m\u001b[37m\u001b[0m \u001b[1m0s\u001b[0m 92ms/step\n",
      "\u001b[1m1/1\u001b[0m \u001b[32m━━━━━━━━━━━━━━━━━━━━\u001b[0m\u001b[37m\u001b[0m \u001b[1m0s\u001b[0m 85ms/step\n",
      "\u001b[1m1/1\u001b[0m \u001b[32m━━━━━━━━━━━━━━━━━━━━\u001b[0m\u001b[37m\u001b[0m \u001b[1m0s\u001b[0m 86ms/step\n",
      "\u001b[1m1/1\u001b[0m \u001b[32m━━━━━━━━━━━━━━━━━━━━\u001b[0m\u001b[37m\u001b[0m \u001b[1m0s\u001b[0m 88ms/step\n",
      "\u001b[1m1/1\u001b[0m \u001b[32m━━━━━━━━━━━━━━━━━━━━\u001b[0m\u001b[37m\u001b[0m \u001b[1m0s\u001b[0m 88ms/step\n",
      "\u001b[1m1/1\u001b[0m \u001b[32m━━━━━━━━━━━━━━━━━━━━\u001b[0m\u001b[37m\u001b[0m \u001b[1m0s\u001b[0m 88ms/step\n",
      "\u001b[1m1/1\u001b[0m \u001b[32m━━━━━━━━━━━━━━━━━━━━\u001b[0m\u001b[37m\u001b[0m \u001b[1m0s\u001b[0m 85ms/step\n",
      "\u001b[1m1/1\u001b[0m \u001b[32m━━━━━━━━━━━━━━━━━━━━\u001b[0m\u001b[37m\u001b[0m \u001b[1m0s\u001b[0m 84ms/step\n",
      "\u001b[1m1/1\u001b[0m \u001b[32m━━━━━━━━━━━━━━━━━━━━\u001b[0m\u001b[37m\u001b[0m \u001b[1m0s\u001b[0m 87ms/step\n",
      "\u001b[1m1/1\u001b[0m \u001b[32m━━━━━━━━━━━━━━━━━━━━\u001b[0m\u001b[37m\u001b[0m \u001b[1m0s\u001b[0m 94ms/step\n",
      "\u001b[1m1/1\u001b[0m \u001b[32m━━━━━━━━━━━━━━━━━━━━\u001b[0m\u001b[37m\u001b[0m \u001b[1m0s\u001b[0m 90ms/step\n",
      "\u001b[1m1/1\u001b[0m \u001b[32m━━━━━━━━━━━━━━━━━━━━\u001b[0m\u001b[37m\u001b[0m \u001b[1m0s\u001b[0m 101ms/step\n",
      "\u001b[1m1/1\u001b[0m \u001b[32m━━━━━━━━━━━━━━━━━━━━\u001b[0m\u001b[37m\u001b[0m \u001b[1m0s\u001b[0m 87ms/step\n",
      "\u001b[1m1/1\u001b[0m \u001b[32m━━━━━━━━━━━━━━━━━━━━\u001b[0m\u001b[37m\u001b[0m \u001b[1m0s\u001b[0m 85ms/step\n",
      "\u001b[1m1/1\u001b[0m \u001b[32m━━━━━━━━━━━━━━━━━━━━\u001b[0m\u001b[37m\u001b[0m \u001b[1m0s\u001b[0m 87ms/step\n",
      "\u001b[1m1/1\u001b[0m \u001b[32m━━━━━━━━━━━━━━━━━━━━\u001b[0m\u001b[37m\u001b[0m \u001b[1m0s\u001b[0m 89ms/step\n",
      "\u001b[1m1/1\u001b[0m \u001b[32m━━━━━━━━━━━━━━━━━━━━\u001b[0m\u001b[37m\u001b[0m \u001b[1m0s\u001b[0m 90ms/step\n",
      "\u001b[1m1/1\u001b[0m \u001b[32m━━━━━━━━━━━━━━━━━━━━\u001b[0m\u001b[37m\u001b[0m \u001b[1m0s\u001b[0m 87ms/step\n",
      "\u001b[1m1/1\u001b[0m \u001b[32m━━━━━━━━━━━━━━━━━━━━\u001b[0m\u001b[37m\u001b[0m \u001b[1m0s\u001b[0m 85ms/step\n",
      "\u001b[1m1/1\u001b[0m \u001b[32m━━━━━━━━━━━━━━━━━━━━\u001b[0m\u001b[37m\u001b[0m \u001b[1m0s\u001b[0m 84ms/step\n",
      "\u001b[1m1/1\u001b[0m \u001b[32m━━━━━━━━━━━━━━━━━━━━\u001b[0m\u001b[37m\u001b[0m \u001b[1m0s\u001b[0m 84ms/step\n",
      "\u001b[1m1/1\u001b[0m \u001b[32m━━━━━━━━━━━━━━━━━━━━\u001b[0m\u001b[37m\u001b[0m \u001b[1m0s\u001b[0m 96ms/step\n",
      "\u001b[1m1/1\u001b[0m \u001b[32m━━━━━━━━━━━━━━━━━━━━\u001b[0m\u001b[37m\u001b[0m \u001b[1m0s\u001b[0m 91ms/step\n",
      "\u001b[1m1/1\u001b[0m \u001b[32m━━━━━━━━━━━━━━━━━━━━\u001b[0m\u001b[37m\u001b[0m \u001b[1m0s\u001b[0m 88ms/step\n",
      "\u001b[1m1/1\u001b[0m \u001b[32m━━━━━━━━━━━━━━━━━━━━\u001b[0m\u001b[37m\u001b[0m \u001b[1m0s\u001b[0m 86ms/step\n",
      "\u001b[1m1/1\u001b[0m \u001b[32m━━━━━━━━━━━━━━━━━━━━\u001b[0m\u001b[37m\u001b[0m \u001b[1m0s\u001b[0m 88ms/step\n",
      "\u001b[1m1/1\u001b[0m \u001b[32m━━━━━━━━━━━━━━━━━━━━\u001b[0m\u001b[37m\u001b[0m \u001b[1m0s\u001b[0m 84ms/step\n",
      "\u001b[1m1/1\u001b[0m \u001b[32m━━━━━━━━━━━━━━━━━━━━\u001b[0m\u001b[37m\u001b[0m \u001b[1m0s\u001b[0m 88ms/step\n",
      "\u001b[1m1/1\u001b[0m \u001b[32m━━━━━━━━━━━━━━━━━━━━\u001b[0m\u001b[37m\u001b[0m \u001b[1m0s\u001b[0m 89ms/step\n",
      "\u001b[1m1/1\u001b[0m \u001b[32m━━━━━━━━━━━━━━━━━━━━\u001b[0m\u001b[37m\u001b[0m \u001b[1m0s\u001b[0m 94ms/step\n",
      "\u001b[1m1/1\u001b[0m \u001b[32m━━━━━━━━━━━━━━━━━━━━\u001b[0m\u001b[37m\u001b[0m \u001b[1m0s\u001b[0m 86ms/step\n",
      "\u001b[1m1/1\u001b[0m \u001b[32m━━━━━━━━━━━━━━━━━━━━\u001b[0m\u001b[37m\u001b[0m \u001b[1m0s\u001b[0m 93ms/step\n",
      "\u001b[1m1/1\u001b[0m \u001b[32m━━━━━━━━━━━━━━━━━━━━\u001b[0m\u001b[37m\u001b[0m \u001b[1m0s\u001b[0m 85ms/step\n",
      "\u001b[1m1/1\u001b[0m \u001b[32m━━━━━━━━━━━━━━━━━━━━\u001b[0m\u001b[37m\u001b[0m \u001b[1m0s\u001b[0m 87ms/step\n",
      "\u001b[1m1/1\u001b[0m \u001b[32m━━━━━━━━━━━━━━━━━━━━\u001b[0m\u001b[37m\u001b[0m \u001b[1m0s\u001b[0m 90ms/step\n",
      "\u001b[1m1/1\u001b[0m \u001b[32m━━━━━━━━━━━━━━━━━━━━\u001b[0m\u001b[37m\u001b[0m \u001b[1m0s\u001b[0m 89ms/step\n",
      "\u001b[1m1/1\u001b[0m \u001b[32m━━━━━━━━━━━━━━━━━━━━\u001b[0m\u001b[37m\u001b[0m \u001b[1m0s\u001b[0m 86ms/step\n",
      "\u001b[1m1/1\u001b[0m \u001b[32m━━━━━━━━━━━━━━━━━━━━\u001b[0m\u001b[37m\u001b[0m \u001b[1m0s\u001b[0m 86ms/step\n",
      "\u001b[1m1/1\u001b[0m \u001b[32m━━━━━━━━━━━━━━━━━━━━\u001b[0m\u001b[37m\u001b[0m \u001b[1m0s\u001b[0m 86ms/step\n",
      "\u001b[1m1/1\u001b[0m \u001b[32m━━━━━━━━━━━━━━━━━━━━\u001b[0m\u001b[37m\u001b[0m \u001b[1m0s\u001b[0m 87ms/step\n",
      "\u001b[1m1/1\u001b[0m \u001b[32m━━━━━━━━━━━━━━━━━━━━\u001b[0m\u001b[37m\u001b[0m \u001b[1m0s\u001b[0m 90ms/step\n",
      "\u001b[1m1/1\u001b[0m \u001b[32m━━━━━━━━━━━━━━━━━━━━\u001b[0m\u001b[37m\u001b[0m \u001b[1m0s\u001b[0m 89ms/step\n",
      "\u001b[1m1/1\u001b[0m \u001b[32m━━━━━━━━━━━━━━━━━━━━\u001b[0m\u001b[37m\u001b[0m \u001b[1m0s\u001b[0m 87ms/step\n",
      "\u001b[1m1/1\u001b[0m \u001b[32m━━━━━━━━━━━━━━━━━━━━\u001b[0m\u001b[37m\u001b[0m \u001b[1m0s\u001b[0m 85ms/step\n",
      "\u001b[1m1/1\u001b[0m \u001b[32m━━━━━━━━━━━━━━━━━━━━\u001b[0m\u001b[37m\u001b[0m \u001b[1m0s\u001b[0m 85ms/step\n",
      "\u001b[1m1/1\u001b[0m \u001b[32m━━━━━━━━━━━━━━━━━━━━\u001b[0m\u001b[37m\u001b[0m \u001b[1m0s\u001b[0m 85ms/step\n",
      "\u001b[1m1/1\u001b[0m \u001b[32m━━━━━━━━━━━━━━━━━━━━\u001b[0m\u001b[37m\u001b[0m \u001b[1m0s\u001b[0m 88ms/step\n",
      "\u001b[1m1/1\u001b[0m \u001b[32m━━━━━━━━━━━━━━━━━━━━\u001b[0m\u001b[37m\u001b[0m \u001b[1m0s\u001b[0m 90ms/step\n",
      "\u001b[1m1/1\u001b[0m \u001b[32m━━━━━━━━━━━━━━━━━━━━\u001b[0m\u001b[37m\u001b[0m \u001b[1m0s\u001b[0m 86ms/step\n",
      "\u001b[1m1/1\u001b[0m \u001b[32m━━━━━━━━━━━━━━━━━━━━\u001b[0m\u001b[37m\u001b[0m \u001b[1m0s\u001b[0m 85ms/step\n",
      "\u001b[1m1/1\u001b[0m \u001b[32m━━━━━━━━━━━━━━━━━━━━\u001b[0m\u001b[37m\u001b[0m \u001b[1m0s\u001b[0m 86ms/step\n",
      "\u001b[1m1/1\u001b[0m \u001b[32m━━━━━━━━━━━━━━━━━━━━\u001b[0m\u001b[37m\u001b[0m \u001b[1m10s\u001b[0m 10s/step\n"
     ]
    }
   ],
   "source": [
    "true_labels = []\n",
    "predicted_labels = []\n",
    "\n",
    "for images, labels in test_ds:\n",
    "    # append true labels based on their format\n",
    "    if len(labels.shape) > 1:  # if one-hot encoded\n",
    "        true_labels.append(np.argmax(labels.numpy(), axis=1))\n",
    "    else:  # if integer labels\n",
    "        true_labels.append(labels.numpy())\n",
    "\n",
    "    # predict labels\n",
    "    predictions = model.predict(images)\n",
    "    predicted_labels.append(np.argmax(predictions, axis=1))\n",
    "\n",
    "# combine all batches into single arrays\n",
    "true_labels = np.concatenate(true_labels)\n",
    "predicted_labels = np.concatenate(predicted_labels)"
   ]
  },
  {
   "cell_type": "code",
   "execution_count": 20,
   "id": "ae55f052",
   "metadata": {
    "execution": {
     "iopub.execute_input": "2024-12-06T22:16:19.566223Z",
     "iopub.status.busy": "2024-12-06T22:16:19.565847Z",
     "iopub.status.idle": "2024-12-06T22:16:19.579402Z",
     "shell.execute_reply": "2024-12-06T22:16:19.578468Z"
    },
    "papermill": {
     "duration": 1.357555,
     "end_time": "2024-12-06T22:16:19.580960",
     "exception": false,
     "start_time": "2024-12-06T22:16:18.223405",
     "status": "completed"
    },
    "tags": []
   },
   "outputs": [
    {
     "name": "stdout",
     "output_type": "stream",
     "text": [
      "Precision: 93.36%; Recall: 93.33%; F1: 93.33%\n"
     ]
    }
   ],
   "source": [
    "precision = precision_score(true_labels, predicted_labels, average='macro')\n",
    "recall = recall_score(true_labels, predicted_labels, average='macro')\n",
    "f1 = f1_score(true_labels, predicted_labels, average='macro')\n",
    "print(f'Precision: {precision * 100:3.2f}%; Recall: {recall * 100:3.2f}%; F1: {f1 * 100:3.2f}%')"
   ]
  },
  {
   "cell_type": "code",
   "execution_count": 21,
   "id": "67d9a36a",
   "metadata": {
    "execution": {
     "iopub.execute_input": "2024-12-06T22:16:22.369090Z",
     "iopub.status.busy": "2024-12-06T22:16:22.368180Z",
     "iopub.status.idle": "2024-12-06T22:16:22.375304Z",
     "shell.execute_reply": "2024-12-06T22:16:22.374389Z"
    },
    "id": "vYjCERt3PNQX",
    "outputId": "a6eaab6b-1891-44a3-a150-8ef7a86474fc",
    "papermill": {
     "duration": 1.432819,
     "end_time": "2024-12-06T22:16:22.376859",
     "exception": false,
     "start_time": "2024-12-06T22:16:20.944040",
     "status": "completed"
    },
    "tags": []
   },
   "outputs": [
    {
     "name": "stdout",
     "output_type": "stream",
     "text": [
      "Confusion matrix:\n",
      " [[293   1   0   1   5]\n",
      " [  1 282   6   4   7]\n",
      " [  0   7 284   3   6]\n",
      " [  0  17   5 269   9]\n",
      " [  3   4   8  13 272]]\n"
     ]
    }
   ],
   "source": [
    "cm = confusion_matrix(true_labels, predicted_labels)\n",
    "print('Confusion matrix:\\n', cm)"
   ]
  },
  {
   "cell_type": "code",
   "execution_count": 22,
   "id": "7f6328c9",
   "metadata": {
    "execution": {
     "iopub.execute_input": "2024-12-06T22:16:25.071497Z",
     "iopub.status.busy": "2024-12-06T22:16:25.071150Z",
     "iopub.status.idle": "2024-12-06T22:16:25.081984Z",
     "shell.execute_reply": "2024-12-06T22:16:25.081007Z"
    },
    "id": "9db2EW1LPRzc",
    "outputId": "2f0bc5bf-cf72-4972-8656-228d67f6161d",
    "papermill": {
     "duration": 1.350633,
     "end_time": "2024-12-06T22:16:25.083748",
     "exception": false,
     "start_time": "2024-12-06T22:16:23.733115",
     "status": "completed"
    },
    "tags": []
   },
   "outputs": [
    {
     "name": "stdout",
     "output_type": "stream",
     "text": [
      "Classification report:\n",
      "               precision    recall  f1-score   support\n",
      "\n",
      "       tiger       0.99      0.98      0.98       300\n",
      "        lynx       0.91      0.94      0.92       300\n",
      "        bear       0.94      0.95      0.94       300\n",
      "        deer       0.93      0.90      0.91       300\n",
      "        bird       0.91      0.91      0.91       300\n",
      "\n",
      "    accuracy                           0.93      1500\n",
      "   macro avg       0.93      0.93      0.93      1500\n",
      "weighted avg       0.93      0.93      0.93      1500\n",
      "\n"
     ]
    }
   ],
   "source": [
    "report = classification_report(true_labels, predicted_labels, target_names=class_names)\n",
    "print('Classification report:\\n', report)"
   ]
  },
  {
   "cell_type": "code",
   "execution_count": 23,
   "id": "8f05db39",
   "metadata": {
    "execution": {
     "iopub.execute_input": "2024-12-06T22:16:27.772206Z",
     "iopub.status.busy": "2024-12-06T22:16:27.771838Z",
     "iopub.status.idle": "2024-12-06T22:16:28.688026Z",
     "shell.execute_reply": "2024-12-06T22:16:28.687224Z"
    },
    "id": "oc7KSHEBPV8o",
    "outputId": "d378ad2e-85be-46c7-914c-0bbf12c9ade0",
    "papermill": {
     "duration": 2.264333,
     "end_time": "2024-12-06T22:16:28.689919",
     "exception": false,
     "start_time": "2024-12-06T22:16:26.425586",
     "status": "completed"
    },
    "tags": []
   },
   "outputs": [
    {
     "data": {
      "image/png": "[encoded data removed]",
      "text/plain": [
       "<Figure size 1000x800 with 2 Axes>"
      ]
     },
     "metadata": {},
     "output_type": "display_data"
    }
   ],
   "source": [
    "plt.figure(figsize=(10, 8))\n",
    "sns.heatmap(cm, annot=True, fmt='d', cmap='Blues', xticklabels=class_names, yticklabels=class_names)\n",
    "plt.xlabel('Predicted')\n",
    "plt.ylabel('True')\n",
    "plt.title('Confusion matrix')\n",
    "confusion_matrix_path = media_dir + '/confusion_matrix.png'\n",
    "plt.savefig(confusion_matrix_path, dpi=300, bbox_inches='tight')\n",
    "plt.show()"
   ]
  },
  {
   "cell_type": "markdown",
   "id": "c6f73b28",
   "metadata": {
    "papermill": {
     "duration": 1.441938,
     "end_time": "2024-12-06T22:16:31.540929",
     "exception": false,
     "start_time": "2024-12-06T22:16:30.098991",
     "status": "completed"
    },
    "tags": []
   },
   "source": [
    "## Log run to W&B"
   ]
  },
  {
   "cell_type": "code",
   "execution_count": 24,
   "id": "6679d196",
   "metadata": {
    "execution": {
     "iopub.execute_input": "2024-12-06T22:16:34.225174Z",
     "iopub.status.busy": "2024-12-06T22:16:34.224195Z",
     "iopub.status.idle": "2024-12-06T22:16:37.802798Z",
     "shell.execute_reply": "2024-12-06T22:16:37.802122Z"
    },
    "papermill": {
     "duration": 4.972153,
     "end_time": "2024-12-06T22:16:37.804444",
     "exception": false,
     "start_time": "2024-12-06T22:16:32.832291",
     "status": "completed"
    },
    "tags": []
   },
   "outputs": [
    {
     "name": "stderr",
     "output_type": "stream",
     "text": [
      "\u001b[34m\u001b[1mwandb\u001b[0m: Using wandb-core as the SDK backend.  Please refer to https://wandb.me/wandb-core for more information.\n",
      "\u001b[34m\u001b[1mwandb\u001b[0m: Currently logged in as: \u001b[33malexvmt\u001b[0m. Use \u001b[1m`wandb login --relogin`\u001b[0m to force relogin\n",
      "\u001b[34m\u001b[1mwandb\u001b[0m: Tracking run with wandb version 0.18.7\n",
      "\u001b[34m\u001b[1mwandb\u001b[0m: Run data is saved locally in \u001b[35m\u001b[1m/wandb/run-20241206_221634-2to4ndsg\u001b[0m\n",
      "\u001b[34m\u001b[1mwandb\u001b[0m: Run \u001b[1m`wandb offline`\u001b[0m to turn off syncing.\n",
      "\u001b[34m\u001b[1mwandb\u001b[0m: Syncing run \u001b[33mefficient-fire-9\u001b[0m\n",
      "\u001b[34m\u001b[1mwandb\u001b[0m: ⭐️ View project at \u001b[34m\u001b[4mhttps://wandb.ai/alexvmt/tiger_classification\u001b[0m\n",
      "\u001b[34m\u001b[1mwandb\u001b[0m: 🚀 View run at \u001b[34m\u001b[4mhttps://wandb.ai/alexvmt/tiger_classification/runs/2to4ndsg\u001b[0m\n",
      "\u001b[34m\u001b[1mwandb\u001b[0m:                                                                                \n",
      "\u001b[34m\u001b[1mwandb\u001b[0m: \n",
      "\u001b[34m\u001b[1mwandb\u001b[0m: Run history:\n",
      "\u001b[34m\u001b[1mwandb\u001b[0m:                 f1 ▁\n",
      "\u001b[34m\u001b[1mwandb\u001b[0m:          precision ▁\n",
      "\u001b[34m\u001b[1mwandb\u001b[0m:             recall ▁\n",
      "\u001b[34m\u001b[1mwandb\u001b[0m:     test2_accuracy ▁\n",
      "\u001b[34m\u001b[1mwandb\u001b[0m:      test_accuracy ▁\n",
      "\u001b[34m\u001b[1mwandb\u001b[0m: training_time_mins ▁\n",
      "\u001b[34m\u001b[1mwandb\u001b[0m: \n",
      "\u001b[34m\u001b[1mwandb\u001b[0m: Run summary:\n",
      "\u001b[34m\u001b[1mwandb\u001b[0m:                 f1 0.9333\n",
      "\u001b[34m\u001b[1mwandb\u001b[0m:          precision 0.9336\n",
      "\u001b[34m\u001b[1mwandb\u001b[0m:             recall 0.9333\n",
      "\u001b[34m\u001b[1mwandb\u001b[0m:     test2_accuracy 0.8713\n",
      "\u001b[34m\u001b[1mwandb\u001b[0m:      test_accuracy 0.9333\n",
      "\u001b[34m\u001b[1mwandb\u001b[0m: training_time_mins 26.95\n",
      "\u001b[34m\u001b[1mwandb\u001b[0m: \n",
      "\u001b[34m\u001b[1mwandb\u001b[0m: 🚀 View run \u001b[33mefficient-fire-9\u001b[0m at: \u001b[34m\u001b[4mhttps://wandb.ai/alexvmt/tiger_classification/runs/2to4ndsg\u001b[0m\n",
      "\u001b[34m\u001b[1mwandb\u001b[0m: ⭐️ View project at: \u001b[34m\u001b[4mhttps://wandb.ai/alexvmt/tiger_classification\u001b[0m\n",
      "\u001b[34m\u001b[1mwandb\u001b[0m: Synced 5 W&B file(s), 0 media file(s), 0 artifact file(s) and 0 other file(s)\n",
      "\u001b[34m\u001b[1mwandb\u001b[0m: Find logs at: \u001b[35m\u001b[1m\u001b[0m\n"
     ]
    }
   ],
   "source": [
    "run = wandb.init(\n",
    "    project='tiger_classification',\n",
    "    config={\n",
    "        'model_constructor': model_constructor,\n",
    "        'model_params': model_params,\n",
    "        'frozen_file_size': frozen_file_size,\n",
    "        'num_classes': num_classes,\n",
    "        'n_train_images': n_train_images,\n",
    "        'n_test_images': n_test_images,\n",
    "        'batch_size': batch_size,\n",
    "        'epochs': epochs,\n",
    "    },\n",
    ")\n",
    "wandb.log({\n",
    "    'training_time_mins': training_time_mins,\n",
    "    'test_accuracy': round(test_accuracy[1], 4),\n",
    "    'test2_accuracy': round(test2_accuracy[1], 4),\n",
    "    'precision': round(precision, 4),\n",
    "    'recall': round(recall, 4),\n",
    "    'f1': round(f1, 4),\n",
    "})\n",
    "wandb.finish()"
   ]
  }
 ],
 "metadata": {
  "accelerator": "GPU",
  "colab": {
   "gpuType": "T4",
   "provenance": []
  },
  "kaggle": {
   "accelerator": "gpu",
   "dataSources": [
    {
     "sourceId": 211343195,
     "sourceType": "kernelVersion"
    }
   ],
   "dockerImageVersionId": 30805,
   "isGpuEnabled": true,
   "isInternetEnabled": true,
   "language": "python",
   "sourceType": "notebook"
  },
  "kernelspec": {
   "display_name": "Python 3",
   "language": "python",
   "name": "python3"
  },
  "language_info": {
   "codemirror_mode": {
    "name": "ipython",
    "version": 3
   },
   "file_extension": ".py",
   "mimetype": "text/x-python",
   "name": "python",
   "nbconvert_exporter": "python",
   "pygments_lexer": "ipython3",
   "version": "3.10.14"
  },
  "papermill": {
   "default_parameters": {},
   "duration": 1963.375147,
   "end_time": "2024-12-06T22:16:46.900603",
   "environment_variables": {},
   "exception": null,
   "input_path": "__notebook__.ipynb",
   "output_path": "__notebook__.ipynb",
   "parameters": {},
   "start_time": "2024-12-06T21:44:03.525456",
   "version": "2.6.0"
  }
 },
 "nbformat": 4,
 "nbformat_minor": 5
}
