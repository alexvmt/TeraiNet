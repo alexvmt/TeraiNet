{
 "cells": [
  {
   "cell_type": "markdown",
   "id": "26bfe779",
   "metadata": {
    "id": "0goBcwsXEl7q",
    "papermill": {
     "duration": 0.006852,
     "end_time": "2024-12-06T09:52:51.638658",
     "exception": false,
     "start_time": "2024-12-06T09:52:51.631806",
     "status": "completed"
    },
    "tags": []
   },
   "source": [
    "# Training"
   ]
  },
  {
   "cell_type": "markdown",
   "id": "fcc29fab",
   "metadata": {
    "id": "_AciCyGkEpkC",
    "papermill": {
     "duration": 0.005162,
     "end_time": "2024-12-06T09:52:51.648580",
     "exception": false,
     "start_time": "2024-12-06T09:52:51.643418",
     "status": "completed"
    },
    "tags": []
   },
   "source": [
    "## Setup"
   ]
  },
  {
   "cell_type": "code",
   "execution_count": 1,
   "id": "6aa475c7",
   "metadata": {
    "execution": {
     "iopub.execute_input": "2024-12-06T09:52:51.658211Z",
     "iopub.status.busy": "2024-12-06T09:52:51.657902Z",
     "iopub.status.idle": "2024-12-06T09:53:03.290668Z",
     "shell.execute_reply": "2024-12-06T09:53:03.289540Z"
    },
    "id": "KVoOmsrBExwK",
    "outputId": "266204f1-044a-49f4-cf32-5ce95a872f9b",
    "papermill": {
     "duration": 11.640071,
     "end_time": "2024-12-06T09:53:03.292816",
     "exception": false,
     "start_time": "2024-12-06T09:52:51.652745",
     "status": "completed"
    },
    "tags": []
   },
   "outputs": [
    {
     "name": "stdout",
     "output_type": "stream",
     "text": [
      "Requirement already satisfied: keras in /opt/conda/lib/python3.10/site-packages (3.3.3)\r\n",
      "Collecting keras\r\n",
      "  Downloading keras-3.7.0-py3-none-any.whl.metadata (5.8 kB)\r\n",
      "Collecting kimm\r\n",
      "  Downloading kimm-0.2.5-py3-none-any.whl.metadata (12 kB)\r\n",
      "Requirement already satisfied: absl-py in /opt/conda/lib/python3.10/site-packages (from keras) (1.4.0)\r\n",
      "Requirement already satisfied: numpy in /opt/conda/lib/python3.10/site-packages (from keras) (1.26.4)\r\n",
      "Requirement already satisfied: rich in /opt/conda/lib/python3.10/site-packages (from keras) (13.7.1)\r\n",
      "Requirement already satisfied: namex in /opt/conda/lib/python3.10/site-packages (from keras) (0.0.8)\r\n",
      "Requirement already satisfied: h5py in /opt/conda/lib/python3.10/site-packages (from keras) (3.11.0)\r\n",
      "Requirement already satisfied: optree in /opt/conda/lib/python3.10/site-packages (from keras) (0.11.0)\r\n",
      "Requirement already satisfied: ml-dtypes in /opt/conda/lib/python3.10/site-packages (from keras) (0.3.2)\r\n",
      "Requirement already satisfied: packaging in /opt/conda/lib/python3.10/site-packages (from keras) (21.3)\r\n",
      "Requirement already satisfied: typing-extensions>=4.0.0 in /opt/conda/lib/python3.10/site-packages (from optree->keras) (4.12.2)\r\n",
      "Requirement already satisfied: pyparsing!=3.0.5,>=2.0.2 in /opt/conda/lib/python3.10/site-packages (from packaging->keras) (3.1.2)\r\n",
      "Requirement already satisfied: markdown-it-py>=2.2.0 in /opt/conda/lib/python3.10/site-packages (from rich->keras) (3.0.0)\r\n",
      "Requirement already satisfied: pygments<3.0.0,>=2.13.0 in /opt/conda/lib/python3.10/site-packages (from rich->keras) (2.18.0)\r\n",
      "Requirement already satisfied: mdurl~=0.1 in /opt/conda/lib/python3.10/site-packages (from markdown-it-py>=2.2.0->rich->keras) (0.1.2)\r\n",
      "Downloading keras-3.7.0-py3-none-any.whl (1.2 MB)\r\n",
      "\u001b[2K   \u001b[90m━━━━━━━━━━━━━━━━━━━━━━━━━━━━━━━━━━━━━━━━\u001b[0m \u001b[32m1.2/1.2 MB\u001b[0m \u001b[31m42.1 MB/s\u001b[0m eta \u001b[36m0:00:00\u001b[0m\r\n",
      "\u001b[?25hDownloading kimm-0.2.5-py3-none-any.whl (123 kB)\r\n",
      "\u001b[2K   \u001b[90m━━━━━━━━━━━━━━━━━━━━━━━━━━━━━━━━━━━━━━━━\u001b[0m \u001b[32m123.4/123.4 kB\u001b[0m \u001b[31m8.5 MB/s\u001b[0m eta \u001b[36m0:00:00\u001b[0m\r\n",
      "\u001b[?25hInstalling collected packages: keras, kimm\r\n",
      "  Attempting uninstall: keras\r\n",
      "    Found existing installation: keras 3.3.3\r\n",
      "    Uninstalling keras-3.3.3:\r\n",
      "      Successfully uninstalled keras-3.3.3\r\n",
      "Successfully installed keras-3.7.0 kimm-0.2.5\r\n"
     ]
    }
   ],
   "source": [
    "!pip install keras kimm -U"
   ]
  },
  {
   "cell_type": "code",
   "execution_count": 2,
   "id": "ccdae823",
   "metadata": {
    "execution": {
     "iopub.execute_input": "2024-12-06T09:53:03.304958Z",
     "iopub.status.busy": "2024-12-06T09:53:03.304638Z",
     "iopub.status.idle": "2024-12-06T09:53:03.311123Z",
     "shell.execute_reply": "2024-12-06T09:53:03.310234Z"
    },
    "papermill": {
     "duration": 0.014334,
     "end_time": "2024-12-06T09:53:03.312713",
     "exception": false,
     "start_time": "2024-12-06T09:53:03.298379",
     "status": "completed"
    },
    "tags": []
   },
   "outputs": [
    {
     "name": "stdout",
     "output_type": "stream",
     "text": [
      "/\n"
     ]
    }
   ],
   "source": [
    "%cd ../../"
   ]
  },
  {
   "cell_type": "code",
   "execution_count": 3,
   "id": "c2e075df",
   "metadata": {
    "execution": {
     "iopub.execute_input": "2024-12-06T09:53:03.324390Z",
     "iopub.status.busy": "2024-12-06T09:53:03.323725Z",
     "iopub.status.idle": "2024-12-06T09:53:06.283855Z",
     "shell.execute_reply": "2024-12-06T09:53:06.282596Z"
    },
    "id": "4bedI2X2QDdf",
    "papermill": {
     "duration": 2.96829,
     "end_time": "2024-12-06T09:53:06.286208",
     "exception": false,
     "start_time": "2024-12-06T09:53:03.317918",
     "status": "completed"
    },
    "tags": []
   },
   "outputs": [],
   "source": [
    "# set seed\n",
    "seed = 42\n",
    "\n",
    "# set n train and test images\n",
    "n_train_images = 4000\n",
    "n_test_images = 300\n",
    "\n",
    "# set batch size\n",
    "batch_size = 16\n",
    "\n",
    "# set num classes\n",
    "num_classes = 5\n",
    "\n",
    "# set class names\n",
    "class_names = ['tiger', 'lynx', 'bear', 'deer', 'bird']\n",
    "\n",
    "# define paths to train and test images\n",
    "images_input_dir = 'kaggle/input/preprocess-images/images'\n",
    "images_sampled_dir = 'images'\n",
    "!mkdir -p \"$images_sampled_dir\"\n",
    "train_dir = images_input_dir + '/train'\n",
    "train_dir_sampled = images_sampled_dir + '/train_sampled'\n",
    "test_dir = images_input_dir + '/test'\n",
    "test_dir_sampled = images_sampled_dir + '/test_sampled'\n",
    "test2_dir = images_input_dir + '/test2'\n",
    "\n",
    "# define path to model dir\n",
    "model_dir = 'kaggle/working/model'\n",
    "!mkdir -p \"$model_dir\"\n",
    "model_path = model_dir + '/model.keras'\n",
    "\n",
    "# define path to media dir\n",
    "media_dir = 'kaggle/working/media'\n",
    "!mkdir -p \"$media_dir\""
   ]
  },
  {
   "cell_type": "code",
   "execution_count": 4,
   "id": "73462fda",
   "metadata": {
    "execution": {
     "iopub.execute_input": "2024-12-06T09:53:06.298147Z",
     "iopub.status.busy": "2024-12-06T09:53:06.297835Z",
     "iopub.status.idle": "2024-12-06T09:53:19.266247Z",
     "shell.execute_reply": "2024-12-06T09:53:19.265495Z"
    },
    "id": "WNSWKPrzEzy_",
    "papermill": {
     "duration": 12.976734,
     "end_time": "2024-12-06T09:53:19.268406",
     "exception": false,
     "start_time": "2024-12-06T09:53:06.291672",
     "status": "completed"
    },
    "tags": []
   },
   "outputs": [],
   "source": [
    "import os\n",
    "import random\n",
    "import shutil\n",
    "import numpy as np\n",
    "\n",
    "import keras\n",
    "from keras import layers, optimizers, losses, callbacks, saving\n",
    "import kimm\n",
    "import tensorflow as tf\n",
    "import tensorflow_datasets as tfds\n",
    "from sklearn.metrics import confusion_matrix, classification_report\n",
    "\n",
    "import matplotlib.pyplot as plt\n",
    "import seaborn as sns"
   ]
  },
  {
   "cell_type": "code",
   "execution_count": 5,
   "id": "a47b3718",
   "metadata": {
    "execution": {
     "iopub.execute_input": "2024-12-06T09:53:19.280830Z",
     "iopub.status.busy": "2024-12-06T09:53:19.280021Z",
     "iopub.status.idle": "2024-12-06T09:53:19.286900Z",
     "shell.execute_reply": "2024-12-06T09:53:19.286055Z"
    },
    "id": "RjGj2LDNR15z",
    "papermill": {
     "duration": 0.014635,
     "end_time": "2024-12-06T09:53:19.288514",
     "exception": false,
     "start_time": "2024-12-06T09:53:19.273879",
     "status": "completed"
    },
    "tags": []
   },
   "outputs": [],
   "source": [
    "def sample_images(source_dir, target_dir, samples_per_class, seed=42):\n",
    "    \"\"\"\n",
    "    Samples a fixed number of images per class from a directory structure.\n",
    "\n",
    "    Args:\n",
    "        source_dir (str): Path to the source dataset directory.\n",
    "        target_dir (str): Path to the target dataset directory to store sampled data.\n",
    "        samples_per_class (int): Number of images to sample per class.\n",
    "        seed (int): Random seed for reproducibility.\n",
    "    \"\"\"\n",
    "    random.seed(seed)\n",
    "\n",
    "    if not os.path.exists(target_dir):\n",
    "        os.makedirs(target_dir)\n",
    "\n",
    "    for class_name in os.listdir(source_dir):\n",
    "        class_path = os.path.join(source_dir, class_name)\n",
    "        if os.path.isdir(class_path):\n",
    "            sampled_class_dir = os.path.join(target_dir, class_name)\n",
    "            os.makedirs(sampled_class_dir, exist_ok=True)\n",
    "\n",
    "            # list and shuffle all files in class directory\n",
    "            all_images = os.listdir(class_path)\n",
    "            random.shuffle(all_images)\n",
    "\n",
    "            # select desired number of samples\n",
    "            sampled_images = all_images[:samples_per_class]\n",
    "\n",
    "            # copy sampled images to new directory\n",
    "            for image_name in sampled_images:\n",
    "                source_image_path = os.path.join(class_path, image_name)\n",
    "                target_image_path = os.path.join(sampled_class_dir, image_name)\n",
    "                shutil.copy(source_image_path, target_image_path)"
   ]
  },
  {
   "cell_type": "markdown",
   "id": "7545fa5b",
   "metadata": {
    "id": "o-oFY9SuE8dT",
    "papermill": {
     "duration": 0.004754,
     "end_time": "2024-12-06T09:53:19.298314",
     "exception": false,
     "start_time": "2024-12-06T09:53:19.293560",
     "status": "completed"
    },
    "tags": []
   },
   "source": [
    "## Prepare train and test datasets"
   ]
  },
  {
   "cell_type": "code",
   "execution_count": 6,
   "id": "5d31107c",
   "metadata": {
    "execution": {
     "iopub.execute_input": "2024-12-06T09:53:19.309516Z",
     "iopub.status.busy": "2024-12-06T09:53:19.308840Z",
     "iopub.status.idle": "2024-12-06T09:55:27.627681Z",
     "shell.execute_reply": "2024-12-06T09:55:27.626633Z"
    },
    "id": "KewO2flaRgLu",
    "papermill": {
     "duration": 128.326799,
     "end_time": "2024-12-06T09:55:27.629956",
     "exception": false,
     "start_time": "2024-12-06T09:53:19.303157",
     "status": "completed"
    },
    "tags": []
   },
   "outputs": [],
   "source": [
    "# create new directory with sampled train images\n",
    "sample_images(train_dir, train_dir_sampled, n_train_images)"
   ]
  },
  {
   "cell_type": "code",
   "execution_count": 7,
   "id": "49353b33",
   "metadata": {
    "execution": {
     "iopub.execute_input": "2024-12-06T09:55:27.641755Z",
     "iopub.status.busy": "2024-12-06T09:55:27.641464Z",
     "iopub.status.idle": "2024-12-06T09:55:38.335638Z",
     "shell.execute_reply": "2024-12-06T09:55:38.334663Z"
    },
    "id": "feQggHlSWEh4",
    "papermill": {
     "duration": 10.702233,
     "end_time": "2024-12-06T09:55:38.337816",
     "exception": false,
     "start_time": "2024-12-06T09:55:27.635583",
     "status": "completed"
    },
    "tags": []
   },
   "outputs": [],
   "source": [
    "# create new directory with sampled test images\n",
    "sample_images(test_dir, test_dir_sampled, n_test_images)"
   ]
  },
  {
   "cell_type": "code",
   "execution_count": 8,
   "id": "1c7613a8",
   "metadata": {
    "execution": {
     "iopub.execute_input": "2024-12-06T09:55:38.349691Z",
     "iopub.status.busy": "2024-12-06T09:55:38.349168Z",
     "iopub.status.idle": "2024-12-06T09:55:42.723172Z",
     "shell.execute_reply": "2024-12-06T09:55:42.722329Z"
    },
    "id": "J5i-u-VSE74K",
    "outputId": "cda0d93f-4445-41f3-bb1b-5b1942d838b6",
    "papermill": {
     "duration": 4.381748,
     "end_time": "2024-12-06T09:55:42.725021",
     "exception": false,
     "start_time": "2024-12-06T09:55:38.343273",
     "status": "completed"
    },
    "tags": []
   },
   "outputs": [
    {
     "name": "stdout",
     "output_type": "stream",
     "text": [
      "Found 20000 files belonging to 5 classes.\n",
      "Found 1500 files belonging to 5 classes.\n",
      "Found 303 files belonging to 1 classes.\n",
      "Number of train samples: -2\n",
      "Number of test samples: -2\n"
     ]
    }
   ],
   "source": [
    "# create train dataset\n",
    "train_ds = tf.keras.preprocessing.image_dataset_from_directory(\n",
    "    train_dir_sampled,\n",
    "    label_mode='categorical',\n",
    "    shuffle=True,\n",
    "    seed=seed,\n",
    ")\n",
    "\n",
    "# create test dataset\n",
    "test_ds = tf.keras.preprocessing.image_dataset_from_directory(\n",
    "    test_dir_sampled,\n",
    "    label_mode='categorical',\n",
    "    shuffle=False,\n",
    ")\n",
    "\n",
    "# create test2 dataset\n",
    "test2_ds = tf.keras.preprocessing.image_dataset_from_directory(\n",
    "    test2_dir,\n",
    "    label_mode='categorical',\n",
    "    shuffle=False,\n",
    ")\n",
    "\n",
    "# we need to unbatch because there's somehow an unwanted additional dimension\n",
    "train_ds = train_ds.unbatch()\n",
    "test_ds = test_ds.unbatch()\n",
    "test2_ds = test2_ds.unbatch()\n",
    "\n",
    "print(f'Number of train samples: {train_ds.cardinality()}')\n",
    "print(f'Number of test samples: {test_ds.cardinality()}')"
   ]
  },
  {
   "cell_type": "code",
   "execution_count": 9,
   "id": "1614f702",
   "metadata": {
    "execution": {
     "iopub.execute_input": "2024-12-06T09:55:42.736732Z",
     "iopub.status.busy": "2024-12-06T09:55:42.736451Z",
     "iopub.status.idle": "2024-12-06T09:55:42.740981Z",
     "shell.execute_reply": "2024-12-06T09:55:42.740128Z"
    },
    "id": "myqLQZuqFZkx",
    "outputId": "1636afdc-4dcd-4ad9-9041-bedfc196f415",
    "papermill": {
     "duration": 0.012306,
     "end_time": "2024-12-06T09:55:42.742696",
     "exception": false,
     "start_time": "2024-12-06T09:55:42.730390",
     "status": "completed"
    },
    "tags": []
   },
   "outputs": [
    {
     "name": "stdout",
     "output_type": "stream",
     "text": [
      "(TensorSpec(shape=(256, 256, 3), dtype=tf.float32, name=None), TensorSpec(shape=(5,), dtype=tf.float32, name=None)) (TensorSpec(shape=(256, 256, 3), dtype=tf.float32, name=None), TensorSpec(shape=(5,), dtype=tf.float32, name=None))\n"
     ]
    }
   ],
   "source": [
    "# check dimensions\n",
    "print(train_ds.element_spec, test_ds.element_spec)"
   ]
  },
  {
   "cell_type": "code",
   "execution_count": 10,
   "id": "0aeb33dd",
   "metadata": {
    "execution": {
     "iopub.execute_input": "2024-12-06T09:55:42.754059Z",
     "iopub.status.busy": "2024-12-06T09:55:42.753832Z",
     "iopub.status.idle": "2024-12-06T09:55:42.834381Z",
     "shell.execute_reply": "2024-12-06T09:55:42.833692Z"
    },
    "id": "YCc38anvFgJc",
    "papermill": {
     "duration": 0.088274,
     "end_time": "2024-12-06T09:55:42.836285",
     "exception": false,
     "start_time": "2024-12-06T09:55:42.748011",
     "status": "completed"
    },
    "tags": []
   },
   "outputs": [],
   "source": [
    "# setup dataset with tf.data\n",
    "resize_fn = keras.layers.Resizing(224, 224)\n",
    "\n",
    "train_ds = train_ds.map(lambda x, y: (resize_fn(x), y))\n",
    "test_ds = test_ds.map(lambda x, y: (resize_fn(x), y))\n",
    "test2_ds = test2_ds.map(lambda x, y: (resize_fn(x), y))\n",
    "\n",
    "train_ds = train_ds.batch(batch_size).prefetch(tf.data.AUTOTUNE).cache()\n",
    "test_ds = test_ds.batch(batch_size).prefetch(tf.data.AUTOTUNE).cache()\n",
    "test2_ds = test2_ds.batch(batch_size).prefetch(tf.data.AUTOTUNE).cache()"
   ]
  },
  {
   "cell_type": "markdown",
   "id": "db7b546d",
   "metadata": {
    "id": "CdVE1QLMFtA5",
    "papermill": {
     "duration": 0.004997,
     "end_time": "2024-12-06T09:55:42.846798",
     "exception": false,
     "start_time": "2024-12-06T09:55:42.841801",
     "status": "completed"
    },
    "tags": []
   },
   "source": [
    "## Prepare model"
   ]
  },
  {
   "cell_type": "code",
   "execution_count": 11,
   "id": "db40c266",
   "metadata": {
    "execution": {
     "iopub.execute_input": "2024-12-06T09:55:42.858777Z",
     "iopub.status.busy": "2024-12-06T09:55:42.858116Z",
     "iopub.status.idle": "2024-12-06T09:55:50.572905Z",
     "shell.execute_reply": "2024-12-06T09:55:50.572033Z"
    },
    "id": "3mmwlJBDFf_6",
    "outputId": "73087a5a-85e9-43f0-bdee-b067a8168bcb",
    "papermill": {
     "duration": 7.723217,
     "end_time": "2024-12-06T09:55:50.575183",
     "exception": false,
     "start_time": "2024-12-06T09:55:42.851966",
     "status": "completed"
    },
    "tags": []
   },
   "outputs": [
    {
     "name": "stdout",
     "output_type": "stream",
     "text": [
      "Downloading data from https://github.com/james77777778/keras-image-models/releases/download/0.1.0/efficientnetv2b0_tf_efficientnetv2_b0.in1k.keras\n",
      "\u001b[1m29451563/29451563\u001b[0m \u001b[32m━━━━━━━━━━━━━━━━━━━━\u001b[0m\u001b[37m\u001b[0m \u001b[1m2s\u001b[0m 0us/step\n"
     ]
    },
    {
     "data": {
      "text/html": [
       "<pre style=\"white-space:pre;overflow-x:auto;line-height:normal;font-family:Menlo,'DejaVu Sans Mono',consolas,'Courier New',monospace\"><span style=\"font-weight: bold\">Model: \"functional\"</span>\n",
       "</pre>\n"
      ],
      "text/plain": [
       "\u001b[1mModel: \"functional\"\u001b[0m\n"
      ]
     },
     "metadata": {},
     "output_type": "display_data"
    },
    {
     "data": {
      "text/html": [
       "<pre style=\"white-space:pre;overflow-x:auto;line-height:normal;font-family:Menlo,'DejaVu Sans Mono',consolas,'Courier New',monospace\">┏━━━━━━━━━━━━━━━━━━━━━━━━━━━━━┳━━━━━━━━━━━━━━━━━━━━━━━┳━━━━━━━━━━━━┳━━━━━━━┓\n",
       "┃<span style=\"font-weight: bold\"> Layer (type)                </span>┃<span style=\"font-weight: bold\"> Output Shape          </span>┃<span style=\"font-weight: bold\">    Param # </span>┃<span style=\"font-weight: bold\"> Trai… </span>┃\n",
       "┡━━━━━━━━━━━━━━━━━━━━━━━━━━━━━╇━━━━━━━━━━━━━━━━━━━━━━━╇━━━━━━━━━━━━╇━━━━━━━┩\n",
       "│ input_layer_1 (<span style=\"color: #0087ff; text-decoration-color: #0087ff\">InputLayer</span>)  │ (<span style=\"color: #00d7ff; text-decoration-color: #00d7ff\">None</span>, <span style=\"color: #00af00; text-decoration-color: #00af00\">224</span>, <span style=\"color: #00af00; text-decoration-color: #00af00\">224</span>, <span style=\"color: #00af00; text-decoration-color: #00af00\">3</span>)   │          <span style=\"color: #00af00; text-decoration-color: #00af00\">0</span> │   <span style=\"font-weight: bold\">-</span>   │\n",
       "├─────────────────────────────┼───────────────────────┼────────────┼───────┤\n",
       "│ EfficientNetV2B0            │ (<span style=\"color: #00d7ff; text-decoration-color: #00d7ff\">None</span>, <span style=\"color: #00af00; text-decoration-color: #00af00\">7</span>, <span style=\"color: #00af00; text-decoration-color: #00af00\">7</span>, <span style=\"color: #00af00; text-decoration-color: #00af00\">1280</span>)    │  <span style=\"color: #00af00; text-decoration-color: #00af00\">5,919,312</span> │   <span style=\"color: #ff0000; text-decoration-color: #ff0000; font-weight: bold\">N</span>   │\n",
       "│ (<span style=\"color: #0087ff; text-decoration-color: #0087ff\">EfficientNetV2B0</span>)          │                       │            │       │\n",
       "├─────────────────────────────┼───────────────────────┼────────────┼───────┤\n",
       "│ global_average_pooling2d    │ (<span style=\"color: #00d7ff; text-decoration-color: #00d7ff\">None</span>, <span style=\"color: #00af00; text-decoration-color: #00af00\">1280</span>)          │          <span style=\"color: #00af00; text-decoration-color: #00af00\">0</span> │   <span style=\"font-weight: bold\">-</span>   │\n",
       "│ (<span style=\"color: #0087ff; text-decoration-color: #0087ff\">GlobalAveragePooling2D</span>)    │                       │            │       │\n",
       "├─────────────────────────────┼───────────────────────┼────────────┼───────┤\n",
       "│ dropout (<span style=\"color: #0087ff; text-decoration-color: #0087ff\">Dropout</span>)           │ (<span style=\"color: #00d7ff; text-decoration-color: #00d7ff\">None</span>, <span style=\"color: #00af00; text-decoration-color: #00af00\">1280</span>)          │          <span style=\"color: #00af00; text-decoration-color: #00af00\">0</span> │   <span style=\"font-weight: bold\">-</span>   │\n",
       "├─────────────────────────────┼───────────────────────┼────────────┼───────┤\n",
       "│ dense (<span style=\"color: #0087ff; text-decoration-color: #0087ff\">Dense</span>)               │ (<span style=\"color: #00d7ff; text-decoration-color: #00d7ff\">None</span>, <span style=\"color: #00af00; text-decoration-color: #00af00\">5</span>)             │      <span style=\"color: #00af00; text-decoration-color: #00af00\">6,405</span> │   <span style=\"color: #00af00; text-decoration-color: #00af00; font-weight: bold\">Y</span>   │\n",
       "└─────────────────────────────┴───────────────────────┴────────────┴───────┘\n",
       "</pre>\n"
      ],
      "text/plain": [
       "┏━━━━━━━━━━━━━━━━━━━━━━━━━━━━━┳━━━━━━━━━━━━━━━━━━━━━━━┳━━━━━━━━━━━━┳━━━━━━━┓\n",
       "┃\u001b[1m \u001b[0m\u001b[1mLayer (type)               \u001b[0m\u001b[1m \u001b[0m┃\u001b[1m \u001b[0m\u001b[1mOutput Shape         \u001b[0m\u001b[1m \u001b[0m┃\u001b[1m \u001b[0m\u001b[1m   Param #\u001b[0m\u001b[1m \u001b[0m┃\u001b[1m \u001b[0m\u001b[1mTrai…\u001b[0m\u001b[1m \u001b[0m┃\n",
       "┡━━━━━━━━━━━━━━━━━━━━━━━━━━━━━╇━━━━━━━━━━━━━━━━━━━━━━━╇━━━━━━━━━━━━╇━━━━━━━┩\n",
       "│ input_layer_1 (\u001b[38;5;33mInputLayer\u001b[0m)  │ (\u001b[38;5;45mNone\u001b[0m, \u001b[38;5;34m224\u001b[0m, \u001b[38;5;34m224\u001b[0m, \u001b[38;5;34m3\u001b[0m)   │          \u001b[38;5;34m0\u001b[0m │   \u001b[1m-\u001b[0m   │\n",
       "├─────────────────────────────┼───────────────────────┼────────────┼───────┤\n",
       "│ EfficientNetV2B0            │ (\u001b[38;5;45mNone\u001b[0m, \u001b[38;5;34m7\u001b[0m, \u001b[38;5;34m7\u001b[0m, \u001b[38;5;34m1280\u001b[0m)    │  \u001b[38;5;34m5,919,312\u001b[0m │   \u001b[1;91mN\u001b[0m   │\n",
       "│ (\u001b[38;5;33mEfficientNetV2B0\u001b[0m)          │                       │            │       │\n",
       "├─────────────────────────────┼───────────────────────┼────────────┼───────┤\n",
       "│ global_average_pooling2d    │ (\u001b[38;5;45mNone\u001b[0m, \u001b[38;5;34m1280\u001b[0m)          │          \u001b[38;5;34m0\u001b[0m │   \u001b[1m-\u001b[0m   │\n",
       "│ (\u001b[38;5;33mGlobalAveragePooling2D\u001b[0m)    │                       │            │       │\n",
       "├─────────────────────────────┼───────────────────────┼────────────┼───────┤\n",
       "│ dropout (\u001b[38;5;33mDropout\u001b[0m)           │ (\u001b[38;5;45mNone\u001b[0m, \u001b[38;5;34m1280\u001b[0m)          │          \u001b[38;5;34m0\u001b[0m │   \u001b[1m-\u001b[0m   │\n",
       "├─────────────────────────────┼───────────────────────┼────────────┼───────┤\n",
       "│ dense (\u001b[38;5;33mDense\u001b[0m)               │ (\u001b[38;5;45mNone\u001b[0m, \u001b[38;5;34m5\u001b[0m)             │      \u001b[38;5;34m6,405\u001b[0m │   \u001b[1;38;5;34mY\u001b[0m   │\n",
       "└─────────────────────────────┴───────────────────────┴────────────┴───────┘\n"
      ]
     },
     "metadata": {},
     "output_type": "display_data"
    },
    {
     "data": {
      "text/html": [
       "<pre style=\"white-space:pre;overflow-x:auto;line-height:normal;font-family:Menlo,'DejaVu Sans Mono',consolas,'Courier New',monospace\"><span style=\"font-weight: bold\"> Total params: </span><span style=\"color: #00af00; text-decoration-color: #00af00\">5,925,717</span> (22.60 MB)\n",
       "</pre>\n"
      ],
      "text/plain": [
       "\u001b[1m Total params: \u001b[0m\u001b[38;5;34m5,925,717\u001b[0m (22.60 MB)\n"
      ]
     },
     "metadata": {},
     "output_type": "display_data"
    },
    {
     "data": {
      "text/html": [
       "<pre style=\"white-space:pre;overflow-x:auto;line-height:normal;font-family:Menlo,'DejaVu Sans Mono',consolas,'Courier New',monospace\"><span style=\"font-weight: bold\"> Trainable params: </span><span style=\"color: #00af00; text-decoration-color: #00af00\">6,405</span> (25.02 KB)\n",
       "</pre>\n"
      ],
      "text/plain": [
       "\u001b[1m Trainable params: \u001b[0m\u001b[38;5;34m6,405\u001b[0m (25.02 KB)\n"
      ]
     },
     "metadata": {},
     "output_type": "display_data"
    },
    {
     "data": {
      "text/html": [
       "<pre style=\"white-space:pre;overflow-x:auto;line-height:normal;font-family:Menlo,'DejaVu Sans Mono',consolas,'Courier New',monospace\"><span style=\"font-weight: bold\"> Non-trainable params: </span><span style=\"color: #00af00; text-decoration-color: #00af00\">5,919,312</span> (22.58 MB)\n",
       "</pre>\n"
      ],
      "text/plain": [
       "\u001b[1m Non-trainable params: \u001b[0m\u001b[38;5;34m5,919,312\u001b[0m (22.58 MB)\n"
      ]
     },
     "metadata": {},
     "output_type": "display_data"
    }
   ],
   "source": [
    "# create base model\n",
    "base_model = kimm.models.EfficientNetV2B0(\n",
    "    input_shape=(224, 224, 3),\n",
    "    include_preprocessing=True,\n",
    "    include_top=False,\n",
    ")\n",
    "\n",
    "# freeze base model\n",
    "base_model.trainable = False\n",
    "\n",
    "# create new model on top\n",
    "inputs = keras.Input(shape=(224, 224, 3))\n",
    "x = inputs\n",
    "\n",
    "# The base model contains batchnorm layers. We want to keep them in inference mode\n",
    "# when we unfreeze the base model for fine-tuning, so we make sure that the\n",
    "# base_model is running in inference mode here.\n",
    "x = base_model(x, training=False)\n",
    "x = keras.layers.GlobalAveragePooling2D()(x)\n",
    "x = keras.layers.Dropout(0.2)(x)  # regularize with dropout\n",
    "outputs = keras.layers.Dense(num_classes, activation='softmax')(x)\n",
    "model = keras.Model(inputs, outputs)\n",
    "\n",
    "model.summary(show_trainable=True)"
   ]
  },
  {
   "cell_type": "markdown",
   "id": "80eac293",
   "metadata": {
    "id": "YcYVdF_1F9EQ",
    "papermill": {
     "duration": 0.007725,
     "end_time": "2024-12-06T09:55:50.591375",
     "exception": false,
     "start_time": "2024-12-06T09:55:50.583650",
     "status": "completed"
    },
    "tags": []
   },
   "source": [
    "## Training\n",
    "\n",
    "Follow [mewc-train](https://github.com/zaandahl/mewc-train)"
   ]
  },
  {
   "cell_type": "code",
   "execution_count": 12,
   "id": "1f7936af",
   "metadata": {
    "execution": {
     "iopub.execute_input": "2024-12-06T09:55:50.614189Z",
     "iopub.status.busy": "2024-12-06T09:55:50.613707Z",
     "iopub.status.idle": "2024-12-06T09:55:50.627472Z",
     "shell.execute_reply": "2024-12-06T09:55:50.626329Z"
    },
    "id": "Ho-88Fe_GxVd",
    "papermill": {
     "duration": 0.029508,
     "end_time": "2024-12-06T09:55:50.629415",
     "exception": false,
     "start_time": "2024-12-06T09:55:50.599907",
     "status": "completed"
    },
    "tags": []
   },
   "outputs": [],
   "source": [
    "df_size = int(n_train_images * num_classes)\n",
    "\n",
    "epochs = 30\n",
    "\n",
    "lr_init = 1e-4\n",
    "min_lr_frac = 1/5 # default minimum learning rate fraction of initial learning rate\n",
    "steps_per_epoch = df_size // batch_size\n",
    "total_steps = epochs * steps_per_epoch # total number of steps for monotonic exponential decay across all epochs\n",
    "lr = optimizers.schedules.ExponentialDecay(initial_learning_rate=lr_init, decay_steps=total_steps, decay_rate=min_lr_frac, staircase=False)\n",
    "amsgrad = True\n",
    "weight_decay = 1e-4\n",
    "optimizer = optimizers.AdamW(learning_rate=lr, amsgrad=amsgrad, weight_decay=weight_decay)\n",
    "\n",
    "if num_classes == 2:\n",
    "  loss_f = losses.BinaryFocalCrossentropy()  # use for binary classification tasks\n",
    "  act_f = 'sigmoid' # use for binary classification tasks\n",
    "else:\n",
    "  loss_f = losses.CategoricalFocalCrossentropy()  # use for unbalanced multi-class tasks (typical for wildlife datasets)\n",
    "  act_f = 'softmax' # use for multi-class classification tasks\n",
    "\n",
    "metrics = ['accuracy']\n",
    "\n",
    "callbacks = [callbacks.EarlyStopping(monitor='loss', mode='min', min_delta=0.001, patience=5, restore_best_weights=True)]"
   ]
  },
  {
   "cell_type": "code",
   "execution_count": 13,
   "id": "6f0f2185",
   "metadata": {
    "execution": {
     "iopub.execute_input": "2024-12-06T09:55:50.647759Z",
     "iopub.status.busy": "2024-12-06T09:55:50.647457Z",
     "iopub.status.idle": "2024-12-06T09:55:50.656170Z",
     "shell.execute_reply": "2024-12-06T09:55:50.655588Z"
    },
    "id": "fAHCE7OrGCGF",
    "papermill": {
     "duration": 0.019067,
     "end_time": "2024-12-06T09:55:50.657794",
     "exception": false,
     "start_time": "2024-12-06T09:55:50.638727",
     "status": "completed"
    },
    "tags": []
   },
   "outputs": [],
   "source": [
    "model.compile(\n",
    "    optimizer=optimizer,\n",
    "    loss=loss_f,\n",
    "    metrics=metrics,\n",
    ")"
   ]
  },
  {
   "cell_type": "code",
   "execution_count": 14,
   "id": "03e458d5",
   "metadata": {
    "execution": {
     "iopub.execute_input": "2024-12-06T09:55:50.671910Z",
     "iopub.status.busy": "2024-12-06T09:55:50.671641Z",
     "iopub.status.idle": "2024-12-06T10:04:01.357528Z",
     "shell.execute_reply": "2024-12-06T10:04:01.356587Z"
    },
    "id": "GZKd2EixF8yO",
    "outputId": "e8424e62-1116-4b52-90af-5fe25403927f",
    "papermill": {
     "duration": 490.694858,
     "end_time": "2024-12-06T10:04:01.359427",
     "exception": false,
     "start_time": "2024-12-06T09:55:50.664569",
     "status": "completed"
    },
    "tags": []
   },
   "outputs": [
    {
     "name": "stdout",
     "output_type": "stream",
     "text": [
      "Epoch 1/30\n"
     ]
    },
    {
     "name": "stderr",
     "output_type": "stream",
     "text": [
      "WARNING: All log messages before absl::InitializeLog() is called are written to STDERR\n",
      "I0000 00:00:1733478958.818448      82 service.cc:145] XLA service 0x79b7b4002b40 initialized for platform CUDA (this does not guarantee that XLA will be used). Devices:\n",
      "I0000 00:00:1733478958.818520      82 service.cc:153]   StreamExecutor device (0): Tesla P100-PCIE-16GB, Compute Capability 6.0\n"
     ]
    },
    {
     "name": "stdout",
     "output_type": "stream",
     "text": [
      "      4/Unknown \u001b[1m16s\u001b[0m 23ms/step - accuracy: 0.1081 - loss: 0.3057"
     ]
    },
    {
     "name": "stderr",
     "output_type": "stream",
     "text": [
      "I0000 00:00:1733478966.115888      82 device_compiler.h:188] Compiled cluster using XLA!  This line is logged at most once for the lifetime of the process.\n"
     ]
    },
    {
     "name": "stdout",
     "output_type": "stream",
     "text": [
      "   1249/Unknown \u001b[1m54s\u001b[0m 31ms/step - accuracy: 0.5865 - loss: 0.1571"
     ]
    },
    {
     "name": "stderr",
     "output_type": "stream",
     "text": [
      "/opt/conda/lib/python3.10/site-packages/keras/src/trainers/epoch_iterator.py:151: UserWarning: Your input ran out of data; interrupting training. Make sure that your dataset or generator can generate at least `steps_per_epoch * epochs` batches. You may need to use the `.repeat()` function when building your dataset.\n",
      "  self._interrupted_warning()\n"
     ]
    },
    {
     "name": "stdout",
     "output_type": "stream",
     "text": [
      "\u001b[1m1250/1250\u001b[0m \u001b[32m━━━━━━━━━━━━━━━━━━━━\u001b[0m\u001b[37m\u001b[0m \u001b[1m54s\u001b[0m 31ms/step - accuracy: 0.5867 - loss: 0.1570\n",
      "Epoch 2/30\n",
      "\u001b[1m1250/1250\u001b[0m \u001b[32m━━━━━━━━━━━━━━━━━━━━\u001b[0m\u001b[37m\u001b[0m \u001b[1m54s\u001b[0m 15ms/step - accuracy: 0.8168 - loss: 0.0667\n",
      "Epoch 3/30\n",
      "\u001b[1m1250/1250\u001b[0m \u001b[32m━━━━━━━━━━━━━━━━━━━━\u001b[0m\u001b[37m\u001b[0m \u001b[1m19s\u001b[0m 15ms/step - accuracy: 0.8399 - loss: 0.0569\n",
      "Epoch 4/30\n",
      "\u001b[1m1250/1250\u001b[0m \u001b[32m━━━━━━━━━━━━━━━━━━━━\u001b[0m\u001b[37m\u001b[0m \u001b[1m19s\u001b[0m 15ms/step - accuracy: 0.8518 - loss: 0.0523\n",
      "Epoch 5/30\n",
      "\u001b[1m1250/1250\u001b[0m \u001b[32m━━━━━━━━━━━━━━━━━━━━\u001b[0m\u001b[37m\u001b[0m \u001b[1m19s\u001b[0m 15ms/step - accuracy: 0.8643 - loss: 0.0486\n",
      "Epoch 6/30\n",
      "\u001b[1m1250/1250\u001b[0m \u001b[32m━━━━━━━━━━━━━━━━━━━━\u001b[0m\u001b[37m\u001b[0m \u001b[1m19s\u001b[0m 15ms/step - accuracy: 0.8701 - loss: 0.0463\n",
      "Epoch 7/30\n",
      "\u001b[1m1250/1250\u001b[0m \u001b[32m━━━━━━━━━━━━━━━━━━━━\u001b[0m\u001b[37m\u001b[0m \u001b[1m19s\u001b[0m 15ms/step - accuracy: 0.8758 - loss: 0.0446\n",
      "Epoch 8/30\n",
      "\u001b[1m1250/1250\u001b[0m \u001b[32m━━━━━━━━━━━━━━━━━━━━\u001b[0m\u001b[37m\u001b[0m \u001b[1m19s\u001b[0m 15ms/step - accuracy: 0.8747 - loss: 0.0431\n",
      "Epoch 9/30\n",
      "\u001b[1m1250/1250\u001b[0m \u001b[32m━━━━━━━━━━━━━━━━━━━━\u001b[0m\u001b[37m\u001b[0m \u001b[1m19s\u001b[0m 15ms/step - accuracy: 0.8798 - loss: 0.0420\n",
      "Epoch 10/30\n",
      "\u001b[1m1250/1250\u001b[0m \u001b[32m━━━━━━━━━━━━━━━━━━━━\u001b[0m\u001b[37m\u001b[0m \u001b[1m19s\u001b[0m 15ms/step - accuracy: 0.8803 - loss: 0.0414\n",
      "Epoch 11/30\n",
      "\u001b[1m1250/1250\u001b[0m \u001b[32m━━━━━━━━━━━━━━━━━━━━\u001b[0m\u001b[37m\u001b[0m \u001b[1m18s\u001b[0m 14ms/step - accuracy: 0.8848 - loss: 0.0400\n",
      "Epoch 12/30\n",
      "\u001b[1m1250/1250\u001b[0m \u001b[32m━━━━━━━━━━━━━━━━━━━━\u001b[0m\u001b[37m\u001b[0m \u001b[1m18s\u001b[0m 14ms/step - accuracy: 0.8810 - loss: 0.0399\n",
      "Epoch 13/30\n",
      "\u001b[1m1250/1250\u001b[0m \u001b[32m━━━━━━━━━━━━━━━━━━━━\u001b[0m\u001b[37m\u001b[0m \u001b[1m18s\u001b[0m 14ms/step - accuracy: 0.8860 - loss: 0.0389\n",
      "Epoch 14/30\n",
      "\u001b[1m1250/1250\u001b[0m \u001b[32m━━━━━━━━━━━━━━━━━━━━\u001b[0m\u001b[37m\u001b[0m \u001b[1m18s\u001b[0m 14ms/step - accuracy: 0.8890 - loss: 0.0381\n",
      "Epoch 15/30\n",
      "\u001b[1m1250/1250\u001b[0m \u001b[32m━━━━━━━━━━━━━━━━━━━━\u001b[0m\u001b[37m\u001b[0m \u001b[1m18s\u001b[0m 14ms/step - accuracy: 0.8899 - loss: 0.0379\n",
      "Epoch 16/30\n",
      "\u001b[1m1250/1250\u001b[0m \u001b[32m━━━━━━━━━━━━━━━━━━━━\u001b[0m\u001b[37m\u001b[0m \u001b[1m18s\u001b[0m 14ms/step - accuracy: 0.8874 - loss: 0.0375\n",
      "Epoch 17/30\n",
      "\u001b[1m1250/1250\u001b[0m \u001b[32m━━━━━━━━━━━━━━━━━━━━\u001b[0m\u001b[37m\u001b[0m \u001b[1m18s\u001b[0m 14ms/step - accuracy: 0.8904 - loss: 0.0370\n",
      "Epoch 18/30\n",
      "\u001b[1m1250/1250\u001b[0m \u001b[32m━━━━━━━━━━━━━━━━━━━━\u001b[0m\u001b[37m\u001b[0m \u001b[1m18s\u001b[0m 14ms/step - accuracy: 0.8952 - loss: 0.0363\n",
      "Epoch 19/30\n",
      "\u001b[1m1250/1250\u001b[0m \u001b[32m━━━━━━━━━━━━━━━━━━━━\u001b[0m\u001b[37m\u001b[0m \u001b[1m18s\u001b[0m 14ms/step - accuracy: 0.8937 - loss: 0.0363\n",
      "Epoch 20/30\n",
      "\u001b[1m1250/1250\u001b[0m \u001b[32m━━━━━━━━━━━━━━━━━━━━\u001b[0m\u001b[37m\u001b[0m \u001b[1m18s\u001b[0m 14ms/step - accuracy: 0.8928 - loss: 0.0364\n",
      "Epoch 21/30\n",
      "\u001b[1m1250/1250\u001b[0m \u001b[32m━━━━━━━━━━━━━━━━━━━━\u001b[0m\u001b[37m\u001b[0m \u001b[1m18s\u001b[0m 14ms/step - accuracy: 0.8940 - loss: 0.0358\n",
      "Epoch 22/30\n",
      "\u001b[1m1250/1250\u001b[0m \u001b[32m━━━━━━━━━━━━━━━━━━━━\u001b[0m\u001b[37m\u001b[0m \u001b[1m18s\u001b[0m 14ms/step - accuracy: 0.8937 - loss: 0.0358\n",
      "Epoch 23/30\n",
      "\u001b[1m1250/1250\u001b[0m \u001b[32m━━━━━━━━━━━━━━━━━━━━\u001b[0m\u001b[37m\u001b[0m \u001b[1m18s\u001b[0m 14ms/step - accuracy: 0.8974 - loss: 0.0356\n"
     ]
    },
    {
     "data": {
      "text/plain": [
       "<keras.src.callbacks.history.History at 0x79b83278a8f0>"
      ]
     },
     "execution_count": 14,
     "metadata": {},
     "output_type": "execute_result"
    }
   ],
   "source": [
    "model.fit(train_ds, epochs=epochs, callbacks=callbacks)"
   ]
  },
  {
   "cell_type": "code",
   "execution_count": 15,
   "id": "377dde9e",
   "metadata": {
    "execution": {
     "iopub.execute_input": "2024-12-06T10:04:02.094417Z",
     "iopub.status.busy": "2024-12-06T10:04:02.094038Z",
     "iopub.status.idle": "2024-12-06T10:04:02.655752Z",
     "shell.execute_reply": "2024-12-06T10:04:02.654754Z"
    },
    "id": "ik4KqmJdUbKd",
    "outputId": "d168634b-b029-4bf1-cf87-e280ace945fb",
    "papermill": {
     "duration": 0.907365,
     "end_time": "2024-12-06T10:04:02.657818",
     "exception": false,
     "start_time": "2024-12-06T10:04:01.750453",
     "status": "completed"
    },
    "tags": []
   },
   "outputs": [],
   "source": [
    "saving.save_model(model, model_path)"
   ]
  },
  {
   "cell_type": "markdown",
   "id": "d5dcbc2b",
   "metadata": {
    "id": "qIGU25KNO1sp",
    "papermill": {
     "duration": 0.385148,
     "end_time": "2024-12-06T10:04:03.382383",
     "exception": false,
     "start_time": "2024-12-06T10:04:02.997235",
     "status": "completed"
    },
    "tags": []
   },
   "source": [
    "## Evaluation"
   ]
  },
  {
   "cell_type": "code",
   "execution_count": 16,
   "id": "222eb0c1",
   "metadata": {
    "execution": {
     "iopub.execute_input": "2024-12-06T10:04:04.060028Z",
     "iopub.status.busy": "2024-12-06T10:04:04.059689Z",
     "iopub.status.idle": "2024-12-06T10:04:13.950049Z",
     "shell.execute_reply": "2024-12-06T10:04:13.949249Z"
    },
    "papermill": {
     "duration": 10.232624,
     "end_time": "2024-12-06T10:04:13.951705",
     "exception": false,
     "start_time": "2024-12-06T10:04:03.719081",
     "status": "completed"
    },
    "tags": []
   },
   "outputs": [
    {
     "name": "stdout",
     "output_type": "stream",
     "text": [
      "\u001b[1m94/94\u001b[0m \u001b[32m━━━━━━━━━━━━━━━━━━━━\u001b[0m\u001b[37m\u001b[0m \u001b[1m10s\u001b[0m 61ms/step - accuracy: 0.9276 - loss: 0.0288\n",
      "Test accuracy: 89.60%\n"
     ]
    }
   ],
   "source": [
    "result = model.evaluate(test_ds)\n",
    "print(f'Test accuracy: {result[1] * 100:3.2f}%')"
   ]
  },
  {
   "cell_type": "code",
   "execution_count": 17,
   "id": "8ec0c41c",
   "metadata": {
    "execution": {
     "iopub.execute_input": "2024-12-06T10:04:14.679822Z",
     "iopub.status.busy": "2024-12-06T10:04:14.679478Z",
     "iopub.status.idle": "2024-12-06T10:04:22.864639Z",
     "shell.execute_reply": "2024-12-06T10:04:22.863705Z"
    },
    "id": "zyDqRJSEGM4L",
    "outputId": "09e78303-ee89-418f-cef9-f1a4900de3f2",
    "papermill": {
     "duration": 8.573064,
     "end_time": "2024-12-06T10:04:22.866573",
     "exception": false,
     "start_time": "2024-12-06T10:04:14.293509",
     "status": "completed"
    },
    "tags": []
   },
   "outputs": [
    {
     "name": "stdout",
     "output_type": "stream",
     "text": [
      "\u001b[1m19/19\u001b[0m \u001b[32m━━━━━━━━━━━━━━━━━━━━\u001b[0m\u001b[37m\u001b[0m \u001b[1m8s\u001b[0m 210ms/step - accuracy: 0.7970 - loss: 3.5155\n",
      "Test2 accuracy: 81.19%\n"
     ]
    }
   ],
   "source": [
    "result2 = model.evaluate(test2_ds)\n",
    "print(f'Test2 accuracy: {result2[1] * 100:3.2f}%')"
   ]
  },
  {
   "cell_type": "code",
   "execution_count": 18,
   "id": "aa9628be",
   "metadata": {
    "collapsed": true,
    "execution": {
     "iopub.execute_input": "2024-12-06T10:04:23.546434Z",
     "iopub.status.busy": "2024-12-06T10:04:23.545540Z",
     "iopub.status.idle": "2024-12-06T10:04:39.333249Z",
     "shell.execute_reply": "2024-12-06T10:04:39.332359Z"
    },
    "id": "hpMkylclPBAB",
    "jupyter": {
     "outputs_hidden": true
    },
    "outputId": "909e4490-b5b4-48ff-a2a6-71f42226d86e",
    "papermill": {
     "duration": 16.132517,
     "end_time": "2024-12-06T10:04:39.335142",
     "exception": false,
     "start_time": "2024-12-06T10:04:23.202625",
     "status": "completed"
    },
    "tags": []
   },
   "outputs": [
    {
     "name": "stdout",
     "output_type": "stream",
     "text": [
      "\u001b[1m1/1\u001b[0m \u001b[32m━━━━━━━━━━━━━━━━━━━━\u001b[0m\u001b[37m\u001b[0m \u001b[1m4s\u001b[0m 4s/step\n",
      "\u001b[1m1/1\u001b[0m \u001b[32m━━━━━━━━━━━━━━━━━━━━\u001b[0m\u001b[37m\u001b[0m \u001b[1m0s\u001b[0m 53ms/step\n",
      "\u001b[1m1/1\u001b[0m \u001b[32m━━━━━━━━━━━━━━━━━━━━\u001b[0m\u001b[37m\u001b[0m \u001b[1m0s\u001b[0m 45ms/step\n",
      "\u001b[1m1/1\u001b[0m \u001b[32m━━━━━━━━━━━━━━━━━━━━\u001b[0m\u001b[37m\u001b[0m \u001b[1m0s\u001b[0m 52ms/step\n",
      "\u001b[1m1/1\u001b[0m \u001b[32m━━━━━━━━━━━━━━━━━━━━\u001b[0m\u001b[37m\u001b[0m \u001b[1m0s\u001b[0m 51ms/step\n",
      "\u001b[1m1/1\u001b[0m \u001b[32m━━━━━━━━━━━━━━━━━━━━\u001b[0m\u001b[37m\u001b[0m \u001b[1m0s\u001b[0m 52ms/step\n",
      "\u001b[1m1/1\u001b[0m \u001b[32m━━━━━━━━━━━━━━━━━━━━\u001b[0m\u001b[37m\u001b[0m \u001b[1m0s\u001b[0m 51ms/step\n",
      "\u001b[1m1/1\u001b[0m \u001b[32m━━━━━━━━━━━━━━━━━━━━\u001b[0m\u001b[37m\u001b[0m \u001b[1m0s\u001b[0m 52ms/step\n",
      "\u001b[1m1/1\u001b[0m \u001b[32m━━━━━━━━━━━━━━━━━━━━\u001b[0m\u001b[37m\u001b[0m \u001b[1m0s\u001b[0m 52ms/step\n",
      "\u001b[1m1/1\u001b[0m \u001b[32m━━━━━━━━━━━━━━━━━━━━\u001b[0m\u001b[37m\u001b[0m \u001b[1m0s\u001b[0m 53ms/step\n",
      "\u001b[1m1/1\u001b[0m \u001b[32m━━━━━━━━━━━━━━━━━━━━\u001b[0m\u001b[37m\u001b[0m \u001b[1m0s\u001b[0m 46ms/step\n",
      "\u001b[1m1/1\u001b[0m \u001b[32m━━━━━━━━━━━━━━━━━━━━\u001b[0m\u001b[37m\u001b[0m \u001b[1m0s\u001b[0m 46ms/step\n",
      "\u001b[1m1/1\u001b[0m \u001b[32m━━━━━━━━━━━━━━━━━━━━\u001b[0m\u001b[37m\u001b[0m \u001b[1m0s\u001b[0m 53ms/step\n",
      "\u001b[1m1/1\u001b[0m \u001b[32m━━━━━━━━━━━━━━━━━━━━\u001b[0m\u001b[37m\u001b[0m \u001b[1m0s\u001b[0m 51ms/step\n",
      "\u001b[1m1/1\u001b[0m \u001b[32m━━━━━━━━━━━━━━━━━━━━\u001b[0m\u001b[37m\u001b[0m \u001b[1m0s\u001b[0m 51ms/step\n",
      "\u001b[1m1/1\u001b[0m \u001b[32m━━━━━━━━━━━━━━━━━━━━\u001b[0m\u001b[37m\u001b[0m \u001b[1m0s\u001b[0m 47ms/step\n",
      "\u001b[1m1/1\u001b[0m \u001b[32m━━━━━━━━━━━━━━━━━━━━\u001b[0m\u001b[37m\u001b[0m \u001b[1m0s\u001b[0m 46ms/step\n",
      "\u001b[1m1/1\u001b[0m \u001b[32m━━━━━━━━━━━━━━━━━━━━\u001b[0m\u001b[37m\u001b[0m \u001b[1m0s\u001b[0m 46ms/step\n",
      "\u001b[1m1/1\u001b[0m \u001b[32m━━━━━━━━━━━━━━━━━━━━\u001b[0m\u001b[37m\u001b[0m \u001b[1m0s\u001b[0m 52ms/step\n",
      "\u001b[1m1/1\u001b[0m \u001b[32m━━━━━━━━━━━━━━━━━━━━\u001b[0m\u001b[37m\u001b[0m \u001b[1m0s\u001b[0m 51ms/step\n",
      "\u001b[1m1/1\u001b[0m \u001b[32m━━━━━━━━━━━━━━━━━━━━\u001b[0m\u001b[37m\u001b[0m \u001b[1m0s\u001b[0m 55ms/step\n",
      "\u001b[1m1/1\u001b[0m \u001b[32m━━━━━━━━━━━━━━━━━━━━\u001b[0m\u001b[37m\u001b[0m \u001b[1m0s\u001b[0m 52ms/step\n",
      "\u001b[1m1/1\u001b[0m \u001b[32m━━━━━━━━━━━━━━━━━━━━\u001b[0m\u001b[37m\u001b[0m \u001b[1m0s\u001b[0m 53ms/step\n",
      "\u001b[1m1/1\u001b[0m \u001b[32m━━━━━━━━━━━━━━━━━━━━\u001b[0m\u001b[37m\u001b[0m \u001b[1m0s\u001b[0m 52ms/step\n",
      "\u001b[1m1/1\u001b[0m \u001b[32m━━━━━━━━━━━━━━━━━━━━\u001b[0m\u001b[37m\u001b[0m \u001b[1m0s\u001b[0m 47ms/step\n",
      "\u001b[1m1/1\u001b[0m \u001b[32m━━━━━━━━━━━━━━━━━━━━\u001b[0m\u001b[37m\u001b[0m \u001b[1m0s\u001b[0m 52ms/step\n",
      "\u001b[1m1/1\u001b[0m \u001b[32m━━━━━━━━━━━━━━━━━━━━\u001b[0m\u001b[37m\u001b[0m \u001b[1m0s\u001b[0m 52ms/step\n",
      "\u001b[1m1/1\u001b[0m \u001b[32m━━━━━━━━━━━━━━━━━━━━\u001b[0m\u001b[37m\u001b[0m \u001b[1m0s\u001b[0m 47ms/step\n",
      "\u001b[1m1/1\u001b[0m \u001b[32m━━━━━━━━━━━━━━━━━━━━\u001b[0m\u001b[37m\u001b[0m \u001b[1m0s\u001b[0m 52ms/step\n",
      "\u001b[1m1/1\u001b[0m \u001b[32m━━━━━━━━━━━━━━━━━━━━\u001b[0m\u001b[37m\u001b[0m \u001b[1m0s\u001b[0m 52ms/step\n",
      "\u001b[1m1/1\u001b[0m \u001b[32m━━━━━━━━━━━━━━━━━━━━\u001b[0m\u001b[37m\u001b[0m \u001b[1m0s\u001b[0m 51ms/step\n",
      "\u001b[1m1/1\u001b[0m \u001b[32m━━━━━━━━━━━━━━━━━━━━\u001b[0m\u001b[37m\u001b[0m \u001b[1m0s\u001b[0m 52ms/step\n",
      "\u001b[1m1/1\u001b[0m \u001b[32m━━━━━━━━━━━━━━━━━━━━\u001b[0m\u001b[37m\u001b[0m \u001b[1m0s\u001b[0m 52ms/step\n",
      "\u001b[1m1/1\u001b[0m \u001b[32m━━━━━━━━━━━━━━━━━━━━\u001b[0m\u001b[37m\u001b[0m \u001b[1m0s\u001b[0m 46ms/step\n",
      "\u001b[1m1/1\u001b[0m \u001b[32m━━━━━━━━━━━━━━━━━━━━\u001b[0m\u001b[37m\u001b[0m \u001b[1m0s\u001b[0m 45ms/step\n",
      "\u001b[1m1/1\u001b[0m \u001b[32m━━━━━━━━━━━━━━━━━━━━\u001b[0m\u001b[37m\u001b[0m \u001b[1m0s\u001b[0m 45ms/step\n",
      "\u001b[1m1/1\u001b[0m \u001b[32m━━━━━━━━━━━━━━━━━━━━\u001b[0m\u001b[37m\u001b[0m \u001b[1m0s\u001b[0m 46ms/step\n",
      "\u001b[1m1/1\u001b[0m \u001b[32m━━━━━━━━━━━━━━━━━━━━\u001b[0m\u001b[37m\u001b[0m \u001b[1m0s\u001b[0m 46ms/step\n",
      "\u001b[1m1/1\u001b[0m \u001b[32m━━━━━━━━━━━━━━━━━━━━\u001b[0m\u001b[37m\u001b[0m \u001b[1m0s\u001b[0m 46ms/step\n",
      "\u001b[1m1/1\u001b[0m \u001b[32m━━━━━━━━━━━━━━━━━━━━\u001b[0m\u001b[37m\u001b[0m \u001b[1m0s\u001b[0m 45ms/step\n",
      "\u001b[1m1/1\u001b[0m \u001b[32m━━━━━━━━━━━━━━━━━━━━\u001b[0m\u001b[37m\u001b[0m \u001b[1m0s\u001b[0m 50ms/step\n",
      "\u001b[1m1/1\u001b[0m \u001b[32m━━━━━━━━━━━━━━━━━━━━\u001b[0m\u001b[37m\u001b[0m \u001b[1m0s\u001b[0m 51ms/step\n",
      "\u001b[1m1/1\u001b[0m \u001b[32m━━━━━━━━━━━━━━━━━━━━\u001b[0m\u001b[37m\u001b[0m \u001b[1m0s\u001b[0m 52ms/step\n",
      "\u001b[1m1/1\u001b[0m \u001b[32m━━━━━━━━━━━━━━━━━━━━\u001b[0m\u001b[37m\u001b[0m \u001b[1m0s\u001b[0m 46ms/step\n",
      "\u001b[1m1/1\u001b[0m \u001b[32m━━━━━━━━━━━━━━━━━━━━\u001b[0m\u001b[37m\u001b[0m \u001b[1m0s\u001b[0m 47ms/step\n",
      "\u001b[1m1/1\u001b[0m \u001b[32m━━━━━━━━━━━━━━━━━━━━\u001b[0m\u001b[37m\u001b[0m \u001b[1m0s\u001b[0m 47ms/step\n",
      "\u001b[1m1/1\u001b[0m \u001b[32m━━━━━━━━━━━━━━━━━━━━\u001b[0m\u001b[37m\u001b[0m \u001b[1m0s\u001b[0m 52ms/step\n",
      "\u001b[1m1/1\u001b[0m \u001b[32m━━━━━━━━━━━━━━━━━━━━\u001b[0m\u001b[37m\u001b[0m \u001b[1m0s\u001b[0m 46ms/step\n",
      "\u001b[1m1/1\u001b[0m \u001b[32m━━━━━━━━━━━━━━━━━━━━\u001b[0m\u001b[37m\u001b[0m \u001b[1m0s\u001b[0m 47ms/step\n",
      "\u001b[1m1/1\u001b[0m \u001b[32m━━━━━━━━━━━━━━━━━━━━\u001b[0m\u001b[37m\u001b[0m \u001b[1m0s\u001b[0m 46ms/step\n",
      "\u001b[1m1/1\u001b[0m \u001b[32m━━━━━━━━━━━━━━━━━━━━\u001b[0m\u001b[37m\u001b[0m \u001b[1m0s\u001b[0m 45ms/step\n",
      "\u001b[1m1/1\u001b[0m \u001b[32m━━━━━━━━━━━━━━━━━━━━\u001b[0m\u001b[37m\u001b[0m \u001b[1m0s\u001b[0m 52ms/step\n",
      "\u001b[1m1/1\u001b[0m \u001b[32m━━━━━━━━━━━━━━━━━━━━\u001b[0m\u001b[37m\u001b[0m \u001b[1m0s\u001b[0m 45ms/step\n",
      "\u001b[1m1/1\u001b[0m \u001b[32m━━━━━━━━━━━━━━━━━━━━\u001b[0m\u001b[37m\u001b[0m \u001b[1m0s\u001b[0m 46ms/step\n",
      "\u001b[1m1/1\u001b[0m \u001b[32m━━━━━━━━━━━━━━━━━━━━\u001b[0m\u001b[37m\u001b[0m \u001b[1m0s\u001b[0m 45ms/step\n",
      "\u001b[1m1/1\u001b[0m \u001b[32m━━━━━━━━━━━━━━━━━━━━\u001b[0m\u001b[37m\u001b[0m \u001b[1m0s\u001b[0m 51ms/step\n",
      "\u001b[1m1/1\u001b[0m \u001b[32m━━━━━━━━━━━━━━━━━━━━\u001b[0m\u001b[37m\u001b[0m \u001b[1m0s\u001b[0m 47ms/step\n",
      "\u001b[1m1/1\u001b[0m \u001b[32m━━━━━━━━━━━━━━━━━━━━\u001b[0m\u001b[37m\u001b[0m \u001b[1m0s\u001b[0m 46ms/step\n",
      "\u001b[1m1/1\u001b[0m \u001b[32m━━━━━━━━━━━━━━━━━━━━\u001b[0m\u001b[37m\u001b[0m \u001b[1m0s\u001b[0m 47ms/step\n",
      "\u001b[1m1/1\u001b[0m \u001b[32m━━━━━━━━━━━━━━━━━━━━\u001b[0m\u001b[37m\u001b[0m \u001b[1m0s\u001b[0m 47ms/step\n",
      "\u001b[1m1/1\u001b[0m \u001b[32m━━━━━━━━━━━━━━━━━━━━\u001b[0m\u001b[37m\u001b[0m \u001b[1m0s\u001b[0m 46ms/step\n",
      "\u001b[1m1/1\u001b[0m \u001b[32m━━━━━━━━━━━━━━━━━━━━\u001b[0m\u001b[37m\u001b[0m \u001b[1m0s\u001b[0m 47ms/step\n",
      "\u001b[1m1/1\u001b[0m \u001b[32m━━━━━━━━━━━━━━━━━━━━\u001b[0m\u001b[37m\u001b[0m \u001b[1m0s\u001b[0m 46ms/step\n",
      "\u001b[1m1/1\u001b[0m \u001b[32m━━━━━━━━━━━━━━━━━━━━\u001b[0m\u001b[37m\u001b[0m \u001b[1m0s\u001b[0m 47ms/step\n",
      "\u001b[1m1/1\u001b[0m \u001b[32m━━━━━━━━━━━━━━━━━━━━\u001b[0m\u001b[37m\u001b[0m \u001b[1m0s\u001b[0m 51ms/step\n",
      "\u001b[1m1/1\u001b[0m \u001b[32m━━━━━━━━━━━━━━━━━━━━\u001b[0m\u001b[37m\u001b[0m \u001b[1m0s\u001b[0m 45ms/step\n",
      "\u001b[1m1/1\u001b[0m \u001b[32m━━━━━━━━━━━━━━━━━━━━\u001b[0m\u001b[37m\u001b[0m \u001b[1m0s\u001b[0m 45ms/step\n",
      "\u001b[1m1/1\u001b[0m \u001b[32m━━━━━━━━━━━━━━━━━━━━\u001b[0m\u001b[37m\u001b[0m \u001b[1m0s\u001b[0m 45ms/step\n",
      "\u001b[1m1/1\u001b[0m \u001b[32m━━━━━━━━━━━━━━━━━━━━\u001b[0m\u001b[37m\u001b[0m \u001b[1m0s\u001b[0m 47ms/step\n",
      "\u001b[1m1/1\u001b[0m \u001b[32m━━━━━━━━━━━━━━━━━━━━\u001b[0m\u001b[37m\u001b[0m \u001b[1m0s\u001b[0m 47ms/step\n",
      "\u001b[1m1/1\u001b[0m \u001b[32m━━━━━━━━━━━━━━━━━━━━\u001b[0m\u001b[37m\u001b[0m \u001b[1m0s\u001b[0m 47ms/step\n",
      "\u001b[1m1/1\u001b[0m \u001b[32m━━━━━━━━━━━━━━━━━━━━\u001b[0m\u001b[37m\u001b[0m \u001b[1m0s\u001b[0m 52ms/step\n",
      "\u001b[1m1/1\u001b[0m \u001b[32m━━━━━━━━━━━━━━━━━━━━\u001b[0m\u001b[37m\u001b[0m \u001b[1m0s\u001b[0m 48ms/step\n",
      "\u001b[1m1/1\u001b[0m \u001b[32m━━━━━━━━━━━━━━━━━━━━\u001b[0m\u001b[37m\u001b[0m \u001b[1m0s\u001b[0m 46ms/step\n",
      "\u001b[1m1/1\u001b[0m \u001b[32m━━━━━━━━━━━━━━━━━━━━\u001b[0m\u001b[37m\u001b[0m \u001b[1m0s\u001b[0m 45ms/step\n",
      "\u001b[1m1/1\u001b[0m \u001b[32m━━━━━━━━━━━━━━━━━━━━\u001b[0m\u001b[37m\u001b[0m \u001b[1m0s\u001b[0m 46ms/step\n",
      "\u001b[1m1/1\u001b[0m \u001b[32m━━━━━━━━━━━━━━━━━━━━\u001b[0m\u001b[37m\u001b[0m \u001b[1m0s\u001b[0m 45ms/step\n",
      "\u001b[1m1/1\u001b[0m \u001b[32m━━━━━━━━━━━━━━━━━━━━\u001b[0m\u001b[37m\u001b[0m \u001b[1m0s\u001b[0m 46ms/step\n",
      "\u001b[1m1/1\u001b[0m \u001b[32m━━━━━━━━━━━━━━━━━━━━\u001b[0m\u001b[37m\u001b[0m \u001b[1m0s\u001b[0m 46ms/step\n",
      "\u001b[1m1/1\u001b[0m \u001b[32m━━━━━━━━━━━━━━━━━━━━\u001b[0m\u001b[37m\u001b[0m \u001b[1m0s\u001b[0m 46ms/step\n",
      "\u001b[1m1/1\u001b[0m \u001b[32m━━━━━━━━━━━━━━━━━━━━\u001b[0m\u001b[37m\u001b[0m \u001b[1m0s\u001b[0m 48ms/step\n",
      "\u001b[1m1/1\u001b[0m \u001b[32m━━━━━━━━━━━━━━━━━━━━\u001b[0m\u001b[37m\u001b[0m \u001b[1m0s\u001b[0m 47ms/step\n",
      "\u001b[1m1/1\u001b[0m \u001b[32m━━━━━━━━━━━━━━━━━━━━\u001b[0m\u001b[37m\u001b[0m \u001b[1m0s\u001b[0m 48ms/step\n",
      "\u001b[1m1/1\u001b[0m \u001b[32m━━━━━━━━━━━━━━━━━━━━\u001b[0m\u001b[37m\u001b[0m \u001b[1m0s\u001b[0m 47ms/step\n",
      "\u001b[1m1/1\u001b[0m \u001b[32m━━━━━━━━━━━━━━━━━━━━\u001b[0m\u001b[37m\u001b[0m \u001b[1m0s\u001b[0m 46ms/step\n",
      "\u001b[1m1/1\u001b[0m \u001b[32m━━━━━━━━━━━━━━━━━━━━\u001b[0m\u001b[37m\u001b[0m \u001b[1m0s\u001b[0m 46ms/step\n",
      "\u001b[1m1/1\u001b[0m \u001b[32m━━━━━━━━━━━━━━━━━━━━\u001b[0m\u001b[37m\u001b[0m \u001b[1m0s\u001b[0m 46ms/step\n",
      "\u001b[1m1/1\u001b[0m \u001b[32m━━━━━━━━━━━━━━━━━━━━\u001b[0m\u001b[37m\u001b[0m \u001b[1m0s\u001b[0m 47ms/step\n",
      "\u001b[1m1/1\u001b[0m \u001b[32m━━━━━━━━━━━━━━━━━━━━\u001b[0m\u001b[37m\u001b[0m \u001b[1m0s\u001b[0m 45ms/step\n",
      "\u001b[1m1/1\u001b[0m \u001b[32m━━━━━━━━━━━━━━━━━━━━\u001b[0m\u001b[37m\u001b[0m \u001b[1m0s\u001b[0m 46ms/step\n",
      "\u001b[1m1/1\u001b[0m \u001b[32m━━━━━━━━━━━━━━━━━━━━\u001b[0m\u001b[37m\u001b[0m \u001b[1m0s\u001b[0m 45ms/step\n",
      "\u001b[1m1/1\u001b[0m \u001b[32m━━━━━━━━━━━━━━━━━━━━\u001b[0m\u001b[37m\u001b[0m \u001b[1m0s\u001b[0m 46ms/step\n",
      "\u001b[1m1/1\u001b[0m \u001b[32m━━━━━━━━━━━━━━━━━━━━\u001b[0m\u001b[37m\u001b[0m \u001b[1m0s\u001b[0m 47ms/step\n",
      "\u001b[1m1/1\u001b[0m \u001b[32m━━━━━━━━━━━━━━━━━━━━\u001b[0m\u001b[37m\u001b[0m \u001b[1m4s\u001b[0m 4s/step\n"
     ]
    }
   ],
   "source": [
    "true_labels = []\n",
    "predicted_classes = []\n",
    "\n",
    "for images, labels in test_ds:\n",
    "    # append true labels based on their format\n",
    "    if len(labels.shape) > 1:  # if one-hot encoded\n",
    "        true_labels.append(np.argmax(labels.numpy(), axis=1))\n",
    "    else:  # if integer labels\n",
    "        true_labels.append(labels.numpy())\n",
    "\n",
    "    # predict classes\n",
    "    predictions = model.predict(images)\n",
    "    predicted_classes.append(np.argmax(predictions, axis=1))\n",
    "\n",
    "# combine all batches into single arrays\n",
    "true_labels = np.concatenate(true_labels)\n",
    "predicted_classes = np.concatenate(predicted_classes)"
   ]
  },
  {
   "cell_type": "code",
   "execution_count": 19,
   "id": "fd346beb",
   "metadata": {
    "execution": {
     "iopub.execute_input": "2024-12-06T10:04:40.069452Z",
     "iopub.status.busy": "2024-12-06T10:04:40.068547Z",
     "iopub.status.idle": "2024-12-06T10:04:40.075702Z",
     "shell.execute_reply": "2024-12-06T10:04:40.074682Z"
    },
    "id": "vYjCERt3PNQX",
    "outputId": "a6eaab6b-1891-44a3-a150-8ef7a86474fc",
    "papermill": {
     "duration": 0.354365,
     "end_time": "2024-12-06T10:04:40.077418",
     "exception": false,
     "start_time": "2024-12-06T10:04:39.723053",
     "status": "completed"
    },
    "tags": []
   },
   "outputs": [
    {
     "name": "stdout",
     "output_type": "stream",
     "text": [
      "Confusion matrix:\n",
      " [[290   0   1   2   7]\n",
      " [  0 264   6  15  15]\n",
      " [  0  16 268   9   7]\n",
      " [  2  22   7 256  13]\n",
      " [  0   7  14  13 266]]\n"
     ]
    }
   ],
   "source": [
    "cm = confusion_matrix(true_labels, predicted_classes)\n",
    "print('Confusion matrix:\\n', cm)"
   ]
  },
  {
   "cell_type": "code",
   "execution_count": 20,
   "id": "f0834226",
   "metadata": {
    "execution": {
     "iopub.execute_input": "2024-12-06T10:04:40.818049Z",
     "iopub.status.busy": "2024-12-06T10:04:40.816990Z",
     "iopub.status.idle": "2024-12-06T10:04:40.830150Z",
     "shell.execute_reply": "2024-12-06T10:04:40.829144Z"
    },
    "id": "9db2EW1LPRzc",
    "outputId": "2f0bc5bf-cf72-4972-8656-228d67f6161d",
    "papermill": {
     "duration": 0.405885,
     "end_time": "2024-12-06T10:04:40.831788",
     "exception": false,
     "start_time": "2024-12-06T10:04:40.425903",
     "status": "completed"
    },
    "tags": []
   },
   "outputs": [
    {
     "name": "stdout",
     "output_type": "stream",
     "text": [
      "Classification report:\n",
      "               precision    recall  f1-score   support\n",
      "\n",
      "       tiger       0.99      0.97      0.98       300\n",
      "        lynx       0.85      0.88      0.87       300\n",
      "        bear       0.91      0.89      0.90       300\n",
      "        deer       0.87      0.85      0.86       300\n",
      "        bird       0.86      0.89      0.88       300\n",
      "\n",
      "    accuracy                           0.90      1500\n",
      "   macro avg       0.90      0.90      0.90      1500\n",
      "weighted avg       0.90      0.90      0.90      1500\n",
      "\n"
     ]
    }
   ],
   "source": [
    "report = classification_report(true_labels, predicted_classes, target_names=class_names)\n",
    "print('Classification report:\\n', report)"
   ]
  },
  {
   "cell_type": "code",
   "execution_count": 21,
   "id": "2ab13cd9",
   "metadata": {
    "execution": {
     "iopub.execute_input": "2024-12-06T10:04:41.531370Z",
     "iopub.status.busy": "2024-12-06T10:04:41.531013Z",
     "iopub.status.idle": "2024-12-06T10:04:42.432476Z",
     "shell.execute_reply": "2024-12-06T10:04:42.431548Z"
    },
    "id": "oc7KSHEBPV8o",
    "outputId": "d378ad2e-85be-46c7-914c-0bbf12c9ade0",
    "papermill": {
     "duration": 1.255301,
     "end_time": "2024-12-06T10:04:42.434219",
     "exception": false,
     "start_time": "2024-12-06T10:04:41.178918",
     "status": "completed"
    },
    "tags": []
   },
   "outputs": [
    {
     "data": {
      "image/png": "[encoded data removed]",
      "text/plain": [
       "<Figure size 1000x800 with 2 Axes>"
      ]
     },
     "metadata": {},
     "output_type": "display_data"
    }
   ],
   "source": [
    "plt.figure(figsize=(10, 8))\n",
    "sns.heatmap(cm, annot=True, fmt='d', cmap='Blues', xticklabels=class_names, yticklabels=class_names)\n",
    "plt.xlabel('Predicted')\n",
    "plt.ylabel('True')\n",
    "plt.title('Confusion matrix')\n",
    "confusion_matrix_path = media_dir + '/confusion_matrix.png'\n",
    "plt.savefig(confusion_matrix_path, dpi=300, bbox_inches='tight')\n",
    "plt.show()"
   ]
  }
 ],
 "metadata": {
  "accelerator": "GPU",
  "colab": {
   "gpuType": "T4",
   "provenance": []
  },
  "kaggle": {
   "accelerator": "gpu",
   "dataSources": [
    {
     "sourceId": 211343195,
     "sourceType": "kernelVersion"
    }
   ],
   "dockerImageVersionId": 30805,
   "isGpuEnabled": true,
   "isInternetEnabled": true,
   "language": "python",
   "sourceType": "notebook"
  },
  "kernelspec": {
   "display_name": "Python 3",
   "language": "python",
   "name": "python3"
  },
  "language_info": {
   "codemirror_mode": {
    "name": "ipython",
    "version": 3
   },
   "file_extension": ".py",
   "mimetype": "text/x-python",
   "name": "python",
   "nbconvert_exporter": "python",
   "pygments_lexer": "ipython3",
   "version": "3.10.14"
  },
  "papermill": {
   "default_parameters": {},
   "duration": 720.969122,
   "end_time": "2024-12-06T10:04:50.280965",
   "environment_variables": {},
   "exception": null,
   "input_path": "__notebook__.ipynb",
   "output_path": "__notebook__.ipynb",
   "parameters": {},
   "start_time": "2024-12-06T09:52:49.311843",
   "version": "2.6.0"
  }
 },
 "nbformat": 4,
 "nbformat_minor": 5
}
